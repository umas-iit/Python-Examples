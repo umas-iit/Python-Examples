{
  "nbformat": 4,
  "nbformat_minor": 5,
  "metadata": {
    "kernelspec": {
      "display_name": "Python 3",
      "language": "python",
      "name": "python3"
    },
    "language_info": {
      "codemirror_mode": {
        "name": "ipython",
        "version": 3
      },
      "file_extension": ".py",
      "mimetype": "text/x-python",
      "name": "python",
      "nbconvert_exporter": "python",
      "pygments_lexer": "ipython3",
      "version": "3.8.8"
    },
    "varInspector": {
      "cols": {
        "lenName": 16,
        "lenType": 16,
        "lenVar": 40
      },
      "kernels_config": {
        "python": {
          "delete_cmd_postfix": "",
          "delete_cmd_prefix": "del ",
          "library": "var_list.py",
          "varRefreshCmd": "print(var_dic_list())"
        },
        "r": {
          "delete_cmd_postfix": ") ",
          "delete_cmd_prefix": "rm(",
          "library": "var_list.r",
          "varRefreshCmd": "cat(var_dic_list()) "
        }
      },
      "types_to_exclude": [
        "module",
        "function",
        "builtin_function_or_method",
        "instance",
        "_Feature"
      ],
      "window_display": false
    },
    "colab": {
      "name": "OOP-Python-Classes.C1.ipynb",
      "provenance": [],
      "include_colab_link": true
    }
  },
  "cells": [
    {
      "cell_type": "markdown",
      "metadata": {
        "id": "view-in-github",
        "colab_type": "text"
      },
      "source": [
        "<a href=\"https://colab.research.google.com/github/umas-iit/Python-Examples/blob/gh-pages/OOP_Python_Classes_C1.ipynb\" target=\"_parent\"><img src=\"https://colab.research.google.com/assets/colab-badge.svg\" alt=\"Open In Colab\"/></a>"
      ]
    },
    {
      "cell_type": "code",
      "metadata": {
        "code_folding": [],
        "colab": {
          "base_uri": "https://localhost:8080/",
          "height": 71
        },
        "id": "329c02ea",
        "outputId": "f90f20c2-d437-4363-c9f8-8d012170c6d9"
      },
      "source": [
        "## Introduction to Python Classes\n",
        "'''\n",
        "Overview :\n",
        "    - What is OOP? What are the diffreence between OOP and Proceudral langauages?\n",
        "    - What are Objects and Classes?\n",
        "    - Class Components - Variables, Methods, Attributes and __init__and self\n",
        "    - Creation of Objects and Classes - Interrogate Object Classes\n",
        "    - Creation of Methods - Invoke methods from Classes to return objects information\n",
        "'''"
      ],
      "id": "329c02ea",
      "execution_count": 4,
      "outputs": [
        {
          "output_type": "execute_result",
          "data": {
            "application/vnd.google.colaboratory.intrinsic+json": {
              "type": "string"
            },
            "text/plain": [
              "'\\nOverview :\\n\\n    - What is OOP? What are the diffreence between OOP and Proceudral langauages?\\n    - What are Objects and Classes?\\n    - Class Components - Variables, Methods, Attributes and __init__and self\\n    - Creation of Objects and Classes - Interrogate Object Classes\\n    - Creation of Methods - Invoke methods from Classes to return objects information\\n'"
            ]
          },
          "metadata": {
            "tags": []
          },
          "execution_count": 4
        }
      ]
    },
    {
      "cell_type": "code",
      "metadata": {
        "id": "c5248250"
      },
      "source": [
        "### Let us create a genesis of Inventory management process, create templates for items shopping\n",
        "##### Step 1:\n",
        "\n",
        "class Inventory:\n",
        "        category = 'Shopping Items'         # Class variable applies globally to all objects creted\n",
        "            \n",
        "        def __init__(self,itemCode,itemDescription,itemPrice,itemMargin) :   # paramters used in objects, self referes to object\n",
        "            \n",
        "            self.code= itemCode            # common for all objects. Object Attributes craeted by parameters\n",
        "            self.desc = itemDescription\n",
        "            self.price = itemPrice\n",
        "            self.margin = itemMargin"
      ],
      "id": "c5248250",
      "execution_count": 5,
      "outputs": []
    },
    {
      "cell_type": "code",
      "metadata": {
        "id": "b9cfd452"
      },
      "source": [
        "## Object Programming\n",
        "#### - Uses conscpt of OOP \n",
        "#### - Classes that acts a Blue Print for Objects\n",
        "####   - Uses variables, attributes and methods to apply on Objects \n",
        "#### - Creates resusable , easy to use code\n",
        "#### - Created an Instance of Objects from a Class"
      ],
      "id": "b9cfd452",
      "execution_count": 6,
      "outputs": []
    },
    {
      "cell_type": "code",
      "metadata": {
        "colab": {
          "base_uri": "https://localhost:8080/",
          "height": 37
        },
        "id": "b9999b93",
        "outputId": "893fcb34-2523-477b-a878-3e1bbfecda51"
      },
      "source": [
        "## Procudureal languages\n",
        "'''\n",
        "- Linear and repretivite \n",
        "- Uses functions and coding to solve problems\n",
        "'''\n"
      ],
      "id": "b9999b93",
      "execution_count": 7,
      "outputs": [
        {
          "output_type": "execute_result",
          "data": {
            "application/vnd.google.colaboratory.intrinsic+json": {
              "type": "string"
            },
            "text/plain": [
              "'\\n- Linear and repretivite \\n- Uses functions and coding to solve problems\\n'"
            ]
          },
          "metadata": {
            "tags": []
          },
          "execution_count": 7
        }
      ]
    },
    {
      "cell_type": "code",
      "metadata": {
        "id": "91eadfd5"
      },
      "source": [
        ""
      ],
      "id": "91eadfd5",
      "execution_count": 7,
      "outputs": []
    },
    {
      "cell_type": "code",
      "metadata": {
        "colab": {
          "base_uri": "https://localhost:8080/"
        },
        "id": "5eeb4509",
        "outputId": "3b17cdaa-a8f3-4c75-acdb-7d7c5e591515"
      },
      "source": [
        "### Create an instance Object using method from Class Inventory, pass four parameters \n",
        "###  and print the Object attributes, values)\n",
        "#### Step 2: \n",
        "\n",
        "TutCV1 = Inventory(350,'Biscuits',120,0.10)\n",
        "\n",
        "#print(\"Inventory Items are : \", TutCV1.code,TutCV1.desc,TutCV1.price,TutCV1.margin,'\\n')\n",
        "#print(TutCV1,'\\n')   # prints object name and address of the memory location\n",
        "print(dir(TutCV1), '\\n')\n",
        "\n",
        "#print('In the {} category of {} we have ${}.'.format(TutC1.code,TutC1.desc,TutC1.price,TutC1.margin))\n",
        "\n"
      ],
      "id": "5eeb4509",
      "execution_count": 8,
      "outputs": [
        {
          "output_type": "stream",
          "text": [
            "['__class__', '__delattr__', '__dict__', '__dir__', '__doc__', '__eq__', '__format__', '__ge__', '__getattribute__', '__gt__', '__hash__', '__init__', '__init_subclass__', '__le__', '__lt__', '__module__', '__ne__', '__new__', '__reduce__', '__reduce_ex__', '__repr__', '__setattr__', '__sizeof__', '__str__', '__subclasshook__', '__weakref__', 'category', 'code', 'desc', 'margin', 'price'] \n",
            "\n"
          ],
          "name": "stdout"
        }
      ]
    },
    {
      "cell_type": "code",
      "metadata": {
        "id": "cb28ffb4"
      },
      "source": [
        ""
      ],
      "id": "cb28ffb4",
      "execution_count": null,
      "outputs": []
    },
    {
      "cell_type": "code",
      "metadata": {
        "id": "f52fedc6"
      },
      "source": [
        ""
      ],
      "id": "f52fedc6",
      "execution_count": null,
      "outputs": []
    }
  ]
}