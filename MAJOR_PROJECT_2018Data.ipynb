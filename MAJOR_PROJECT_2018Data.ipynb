{
  "cells": [
    {
      "cell_type": "markdown",
      "metadata": {
        "id": "view-in-github",
        "colab_type": "text"
      },
      "source": [
        "<a href=\"https://colab.research.google.com/github/umas-iit/Python-Examples/blob/main/MAJOR_PROJECT_2018Data.ipynb\" target=\"_parent\"><img src=\"https://colab.research.google.com/assets/colab-badge.svg\" alt=\"Open In Colab\"/></a>"
      ]
    },
    {
      "cell_type": "code",
      "execution_count": null,
      "metadata": {
        "id": "mQuTDFMdb_z8"
      },
      "outputs": [],
      "source": [
        "import netCDF4 as nc\n",
        "import numpy as np\n",
        "import pandas as pd\n",
        "import matplotlib.pyplot as plt\n",
        "from statsmodels.tsa.stattools import adfuller\n",
        "from statsmodels.tsa.arima_model import ARIMA\n",
        "from sklearn.metrics import mean_squared_error\n",
        "import itertools\n",
        "pd.set_option('display.max_rows', None)\n",
        "import statistics\n",
        "import warnings\n",
        "warnings.filterwarnings(\"ignore\")"
      ]
    },
    {
      "cell_type": "code",
      "execution_count": null,
      "metadata": {
        "id": "qgS7baSfcGaY"
      },
      "outputs": [],
      "source": [
        "data = nc.Dataset('/content/drive/MyDrive/datasets/RF25_IMD0p252018.nc')\n",
        "#data = nc.Dataset('/content/RF25_IMD0p252019.nc')\n"
      ]
    },
    {
      "cell_type": "markdown",
      "metadata": {
        "id": "guFddogr5B-n"
      },
      "source": [
        "###data variable contains the nc dataset considered"
      ]
    },
    {
      "cell_type": "code",
      "execution_count": null,
      "metadata": {
        "colab": {
          "base_uri": "https://localhost:8080/"
        },
        "id": "5zH8pVQi522-",
        "outputId": "f52b9fc0-f486-4cd7-b124-db2d29594b42"
      },
      "outputs": [
        {
          "output_type": "stream",
          "name": "stdout",
          "text": [
            "dict_keys(['LONGITUDE', 'LATITUDE', 'TIME', 'RAINFALL'])\n"
          ]
        }
      ],
      "source": [
        "print(data.variables.keys())"
      ]
    },
    {
      "cell_type": "code",
      "execution_count": null,
      "metadata": {
        "colab": {
          "base_uri": "https://localhost:8080/"
        },
        "id": "PawXDywQdU9z",
        "outputId": "a749e38d-158f-4d54-dea4-45fdd97898db"
      },
      "outputs": [
        {
          "output_type": "stream",
          "name": "stdout",
          "text": [
            "<class 'netCDF4._netCDF4.Dataset'>\n",
            "root group (NETCDF3_CLASSIC data model, file format NETCDF3):\n",
            "    history: FERRET V6.9   13-Jan-21\n",
            "    Conventions: CF-1.0\n",
            "    dimensions(sizes): LONGITUDE(135), LATITUDE(129), TIME(365)\n",
            "    variables(dimensions): float64 LONGITUDE(LONGITUDE), float64 LATITUDE(LATITUDE), float64 TIME(TIME), float32 RAINFALL(TIME, LATITUDE, LONGITUDE)\n",
            "    groups: \n"
          ]
        }
      ],
      "source": [
        "print(data)"
      ]
    },
    {
      "cell_type": "markdown",
      "metadata": {
        "id": "kP2jAs5s5N9S"
      },
      "source": [
        "Description:\n",
        "\n",
        "\n",
        "1.   Longitude: The shape of longitude variable in nc dataset is 135 which indicates there are 135 different longitudinal values (data points)\n",
        "2.   Latitude: The shape of latitude variable in nc dataset is 129 which indicates that there are 129 different latitudinal values.\n",
        "3. Time: The shape of time variable is 365 which means taht the dataset contains data of 1 non leap year.\n",
        "4. Rainfall: The Rainfall variable depends on all the three factors described above(longitude,latitude,time). \n",
        "\n",
        "A certain location has one longitude value and one latitude value for which the rainfall varies by time. \n",
        "\n"
      ]
    },
    {
      "cell_type": "code",
      "execution_count": null,
      "metadata": {
        "colab": {
          "base_uri": "https://localhost:8080/"
        },
        "id": "d-1sdcBcb4Vf",
        "outputId": "3d65d93e-564e-45f1-c942-5b3425b65e8a"
      },
      "outputs": [
        {
          "output_type": "stream",
          "name": "stdout",
          "text": [
            "<class 'netCDF4._netCDF4.Variable'>\n",
            "float64 LONGITUDE(LONGITUDE)\n",
            "    units: degrees_east\n",
            "    point_spacing: even\n",
            "    axis: X\n",
            "    modulo: 360.0\n",
            "    standard_name: longitude\n",
            "unlimited dimensions: \n",
            "current shape = (135,)\n",
            "filling on, default _FillValue of 9.969209968386869e+36 used\n"
          ]
        }
      ],
      "source": [
        "lon = data.variables['LONGITUDE']\n",
        "print(lon)"
      ]
    },
    {
      "cell_type": "code",
      "execution_count": null,
      "metadata": {
        "colab": {
          "base_uri": "https://localhost:8080/"
        },
        "id": "FkrTR6wQWGg9",
        "outputId": "8347dbec-9cd8-4f7e-b443-a8a3dc67e497"
      },
      "outputs": [
        {
          "output_type": "stream",
          "name": "stdout",
          "text": [
            "<class 'netCDF4._netCDF4.Variable'>\n",
            "float64 LATITUDE(LATITUDE)\n",
            "    units: degrees_north\n",
            "    point_spacing: even\n",
            "    axis: Y\n",
            "    standard_name: latitude\n",
            "unlimited dimensions: \n",
            "current shape = (129,)\n",
            "filling on, default _FillValue of 9.969209968386869e+36 used\n"
          ]
        }
      ],
      "source": [
        "lat = data.variables['LATITUDE']\n",
        "print(lat)"
      ]
    },
    {
      "cell_type": "code",
      "execution_count": null,
      "metadata": {
        "colab": {
          "base_uri": "https://localhost:8080/"
        },
        "id": "DntmoU8scX47",
        "outputId": "5dc8183b-7927-41f9-ac8a-8c6454e24aee"
      },
      "outputs": [
        {
          "output_type": "stream",
          "name": "stdout",
          "text": [
            "<class 'netCDF4._netCDF4.Variable'>\n",
            "float64 TIME(TIME)\n",
            "    units: days since 1900-12-31 00:00:00\n",
            "    axis: T\n",
            "    time_origin: 31-DEC-1900\n",
            "    standard_name: time\n",
            "unlimited dimensions: TIME\n",
            "current shape = (365,)\n",
            "filling on, default _FillValue of 9.969209968386869e+36 used\n"
          ]
        }
      ],
      "source": [
        "time = data.variables['TIME']\n",
        "print(time)"
      ]
    },
    {
      "cell_type": "code",
      "execution_count": null,
      "metadata": {
        "colab": {
          "base_uri": "https://localhost:8080/"
        },
        "id": "ks-OC1TtdemK",
        "outputId": "3599af95-7302-4fb1-f37e-362f37a8fed3"
      },
      "outputs": [
        {
          "output_type": "stream",
          "name": "stdout",
          "text": [
            "<class 'netCDF4._netCDF4.Variable'>\n",
            "float32 RAINFALL(TIME, LATITUDE, LONGITUDE)\n",
            "    missing_value: -999.0\n",
            "    _FillValue: -999.0\n",
            "    long_name: Rainfall\n",
            "    units: mm\n",
            "    history: From ind2018_rfp25.grd\n",
            "unlimited dimensions: TIME\n",
            "current shape = (365, 129, 135)\n",
            "filling on\n"
          ]
        }
      ],
      "source": [
        "R = data.variables['RAINFALL']\n",
        "print(R)"
      ]
    },
    {
      "cell_type": "code",
      "execution_count": null,
      "metadata": {
        "colab": {
          "base_uri": "https://localhost:8080/"
        },
        "id": "y1P0heXIivz1",
        "outputId": "1927fab3-0079-4b63-d233-af22466fe061"
      },
      "outputs": [
        {
          "output_type": "stream",
          "name": "stdout",
          "text": [
            "[42735. 42736. 42737. 42738. 42739. 42740. 42741. 42742. 42743. 42744.\n",
            " 42745. 42746. 42747. 42748. 42749. 42750. 42751. 42752. 42753. 42754.\n",
            " 42755. 42756. 42757. 42758. 42759. 42760. 42761. 42762. 42763. 42764.\n",
            " 42765. 42766. 42767. 42768. 42769. 42770. 42771. 42772. 42773. 42774.\n",
            " 42775. 42776. 42777. 42778. 42779. 42780. 42781. 42782. 42783. 42784.\n",
            " 42785. 42786. 42787. 42788. 42789. 42790. 42791. 42792. 42793. 42794.\n",
            " 42795. 42796. 42797. 42798. 42799. 42800. 42801. 42802. 42803. 42804.\n",
            " 42805. 42806. 42807. 42808. 42809. 42810. 42811. 42812. 42813. 42814.\n",
            " 42815. 42816. 42817. 42818. 42819. 42820. 42821. 42822. 42823. 42824.\n",
            " 42825. 42826. 42827. 42828. 42829. 42830. 42831. 42832. 42833. 42834.\n",
            " 42835. 42836. 42837. 42838. 42839. 42840. 42841. 42842. 42843. 42844.\n",
            " 42845. 42846. 42847. 42848. 42849. 42850. 42851. 42852. 42853. 42854.\n",
            " 42855. 42856. 42857. 42858. 42859. 42860. 42861. 42862. 42863. 42864.\n",
            " 42865. 42866. 42867. 42868. 42869. 42870. 42871. 42872. 42873. 42874.\n",
            " 42875. 42876. 42877. 42878. 42879. 42880. 42881. 42882. 42883. 42884.\n",
            " 42885. 42886. 42887. 42888. 42889. 42890. 42891. 42892. 42893. 42894.\n",
            " 42895. 42896. 42897. 42898. 42899. 42900. 42901. 42902. 42903. 42904.\n",
            " 42905. 42906. 42907. 42908. 42909. 42910. 42911. 42912. 42913. 42914.\n",
            " 42915. 42916. 42917. 42918. 42919. 42920. 42921. 42922. 42923. 42924.\n",
            " 42925. 42926. 42927. 42928. 42929. 42930. 42931. 42932. 42933. 42934.\n",
            " 42935. 42936. 42937. 42938. 42939. 42940. 42941. 42942. 42943. 42944.\n",
            " 42945. 42946. 42947. 42948. 42949. 42950. 42951. 42952. 42953. 42954.\n",
            " 42955. 42956. 42957. 42958. 42959. 42960. 42961. 42962. 42963. 42964.\n",
            " 42965. 42966. 42967. 42968. 42969. 42970. 42971. 42972. 42973. 42974.\n",
            " 42975. 42976. 42977. 42978. 42979. 42980. 42981. 42982. 42983. 42984.\n",
            " 42985. 42986. 42987. 42988. 42989. 42990. 42991. 42992. 42993. 42994.\n",
            " 42995. 42996. 42997. 42998. 42999. 43000. 43001. 43002. 43003. 43004.\n",
            " 43005. 43006. 43007. 43008. 43009. 43010. 43011. 43012. 43013. 43014.\n",
            " 43015. 43016. 43017. 43018. 43019. 43020. 43021. 43022. 43023. 43024.\n",
            " 43025. 43026. 43027. 43028. 43029. 43030. 43031. 43032. 43033. 43034.\n",
            " 43035. 43036. 43037. 43038. 43039. 43040. 43041. 43042. 43043. 43044.\n",
            " 43045. 43046. 43047. 43048. 43049. 43050. 43051. 43052. 43053. 43054.\n",
            " 43055. 43056. 43057. 43058. 43059. 43060. 43061. 43062. 43063. 43064.\n",
            " 43065. 43066. 43067. 43068. 43069. 43070. 43071. 43072. 43073. 43074.\n",
            " 43075. 43076. 43077. 43078. 43079. 43080. 43081. 43082. 43083. 43084.\n",
            " 43085. 43086. 43087. 43088. 43089. 43090. 43091. 43092. 43093. 43094.\n",
            " 43095. 43096. 43097. 43098. 43099.]\n"
          ]
        }
      ],
      "source": [
        "time_data = data.variables['TIME'][:]\n",
        "print(time_data)"
      ]
    },
    {
      "cell_type": "markdown",
      "metadata": {
        "id": "6q0zQljfWcl1"
      },
      "source": [
        "These are the values present in the time variable. \n",
        "\n",
        "These values indicates the number of days since 31 st december 1900.\n",
        "\n",
        "42735 days after 31-12-1900 is 01-01-2018. So the data is of 2018."
      ]
    },
    {
      "cell_type": "code",
      "execution_count": null,
      "metadata": {
        "colab": {
          "base_uri": "https://localhost:8080/"
        },
        "id": "z9grbl8DjXPg",
        "outputId": "5b3acb16-f8f3-4738-c257-3a08fa91484a"
      },
      "outputs": [
        {
          "output_type": "stream",
          "name": "stdout",
          "text": [
            "[ 66.5   66.75  67.    67.25  67.5   67.75  68.    68.25  68.5   68.75\n",
            "  69.    69.25  69.5   69.75  70.    70.25  70.5   70.75  71.    71.25\n",
            "  71.5   71.75  72.    72.25  72.5   72.75  73.    73.25  73.5   73.75\n",
            "  74.    74.25  74.5   74.75  75.    75.25  75.5   75.75  76.    76.25\n",
            "  76.5   76.75  77.    77.25  77.5   77.75  78.    78.25  78.5   78.75\n",
            "  79.    79.25  79.5   79.75  80.    80.25  80.5   80.75  81.    81.25\n",
            "  81.5   81.75  82.    82.25  82.5   82.75  83.    83.25  83.5   83.75\n",
            "  84.    84.25  84.5   84.75  85.    85.25  85.5   85.75  86.    86.25\n",
            "  86.5   86.75  87.    87.25  87.5   87.75  88.    88.25  88.5   88.75\n",
            "  89.    89.25  89.5   89.75  90.    90.25  90.5   90.75  91.    91.25\n",
            "  91.5   91.75  92.    92.25  92.5   92.75  93.    93.25  93.5   93.75\n",
            "  94.    94.25  94.5   94.75  95.    95.25  95.5   95.75  96.    96.25\n",
            "  96.5   96.75  97.    97.25  97.5   97.75  98.    98.25  98.5   98.75\n",
            "  99.    99.25  99.5   99.75 100.  ]\n"
          ]
        }
      ],
      "source": [
        "lon_data = data.variables['LONGITUDE'][:]\n",
        "print(lon_data)"
      ]
    },
    {
      "cell_type": "code",
      "execution_count": null,
      "metadata": {
        "colab": {
          "base_uri": "https://localhost:8080/"
        },
        "id": "bKN32WhIj39Y",
        "outputId": "2dab89ac-7e75-4034-9b13-3c03a10aeb16"
      },
      "outputs": [
        {
          "output_type": "stream",
          "name": "stdout",
          "text": [
            "[ 6.5   6.75  7.    7.25  7.5   7.75  8.    8.25  8.5   8.75  9.    9.25\n",
            "  9.5   9.75 10.   10.25 10.5  10.75 11.   11.25 11.5  11.75 12.   12.25\n",
            " 12.5  12.75 13.   13.25 13.5  13.75 14.   14.25 14.5  14.75 15.   15.25\n",
            " 15.5  15.75 16.   16.25 16.5  16.75 17.   17.25 17.5  17.75 18.   18.25\n",
            " 18.5  18.75 19.   19.25 19.5  19.75 20.   20.25 20.5  20.75 21.   21.25\n",
            " 21.5  21.75 22.   22.25 22.5  22.75 23.   23.25 23.5  23.75 24.   24.25\n",
            " 24.5  24.75 25.   25.25 25.5  25.75 26.   26.25 26.5  26.75 27.   27.25\n",
            " 27.5  27.75 28.   28.25 28.5  28.75 29.   29.25 29.5  29.75 30.   30.25\n",
            " 30.5  30.75 31.   31.25 31.5  31.75 32.   32.25 32.5  32.75 33.   33.25\n",
            " 33.5  33.75 34.   34.25 34.5  34.75 35.   35.25 35.5  35.75 36.   36.25\n",
            " 36.5  36.75 37.   37.25 37.5  37.75 38.   38.25 38.5 ]\n"
          ]
        }
      ],
      "source": [
        "lat_data = data.variables['LATITUDE'][:]\n",
        "print(lat_data)"
      ]
    },
    {
      "cell_type": "code",
      "execution_count": null,
      "metadata": {
        "id": "ZFT_xpP_1ox1"
      },
      "outputs": [],
      "source": [
        "start_date = '2018-01-01'\n",
        "end_date = '2018-12-31'\n",
        "date_range = pd.date_range(start =start_date, end= end_date)"
      ]
    },
    {
      "cell_type": "markdown",
      "metadata": {
        "id": "ukrC0_b3XJ1Y"
      },
      "source": [
        "The date_range variable is a list consists of all the dates in the year 2018."
      ]
    },
    {
      "cell_type": "code",
      "execution_count": null,
      "metadata": {
        "id": "Wn06AP5z1wXt"
      },
      "outputs": [],
      "source": [
        "template = pd.DataFrame(0,columns=['Rainfall in mm'],index = date_range)"
      ]
    },
    {
      "cell_type": "markdown",
      "metadata": {
        "id": "fdwrKt-UXeDl"
      },
      "source": [
        "The template dataframe consists of two columns:\n",
        "\n",
        "\n",
        "1.   Date\n",
        "2.   Rainfall values (currently filled with zero)\n",
        "\n"
      ]
    },
    {
      "cell_type": "code",
      "execution_count": null,
      "metadata": {
        "id": "1qBejlSn22GQ"
      },
      "outputs": [],
      "source": [
        "in_c = np.arange(0,time.size)"
      ]
    },
    {
      "cell_type": "code",
      "execution_count": null,
      "metadata": {
        "id": "08PNj3uLzZa8"
      },
      "outputs": [],
      "source": [
        "def findindexoflat(lat):\n",
        "  sq_diff_lat = (lat_data-lat)**2\n",
        "  min_index_lat = sq_diff_lat.argmin()\n",
        "  return min_index_lat\n"
      ]
    },
    {
      "cell_type": "markdown",
      "metadata": {
        "id": "UZSw4lpSX8v8"
      },
      "source": [
        "This function (findindexoflat) will gives the index of closest latitude value of the city considered."
      ]
    },
    {
      "cell_type": "code",
      "execution_count": null,
      "metadata": {
        "id": "2PPpzWIJ0QC6"
      },
      "outputs": [],
      "source": [
        "def findindexoflon(lon):\n",
        "  sq_diff_lon = (lon_data-lon)**2\n",
        "  min_index_lon = sq_diff_lon.argmin()\n",
        "  return min_index_lon"
      ]
    },
    {
      "cell_type": "markdown",
      "metadata": {
        "id": "jb0n5WuiYSfI"
      },
      "source": [
        "This function (findindexoflon) will gives the index of closest longitude value of the city considered"
      ]
    },
    {
      "cell_type": "code",
      "execution_count": null,
      "metadata": {
        "id": "1dqmAfwl2vwl"
      },
      "outputs": [],
      "source": [
        "def convert(lat,lon,name):\n",
        "  for i in in_c:\n",
        "    template.iloc[i] = R[i,lat,lon]\n",
        "  template.to_csv(name)"
      ]
    },
    {
      "cell_type": "markdown",
      "metadata": {
        "id": "YHlI_HNrYal_"
      },
      "source": [
        "The function will add the values of the rainfall in the template dataframe created and after adding the values it converts the dataframe to the csv file\n",
        "\n",
        "This function will take three parmeters:\n",
        "\n",
        "\n",
        "1.   lat: this is the value returned from the function findindexoflan\n",
        "2.   lon: this is the value returned from the function findindexoflon\n",
        "3. name: this parameter will give name to the csv file according to the city.\n",
        "\n"
      ]
    },
    {
      "cell_type": "code",
      "execution_count": null,
      "metadata": {
        "id": "m6Mv84fdVDpm"
      },
      "outputs": [],
      "source": [
        "#blore,vizag,hubli\n",
        "\n",
        "latitude = [12.972442,17.686815,15.371598]\n",
        "longitude=[77.580643,83.218483,75.101166]\n",
        "for i in range(3):\n",
        "  latitude_index = findindexoflat(latitude[i])\n",
        "  longitude_index = findindexoflon(longitude[i])\n",
        "  if(i==0):\n",
        "    name = 'Rainfall_Bangalore.csv'\n",
        "  elif(i==1):\n",
        "    name = 'Rainfall_Vizag.csv'\n",
        "  else:\n",
        "    name = 'Rainfall_Hubli.csv'\n",
        "  convert(latitude_index,longitude_index,name)\n",
        "\n"
      ]
    },
    {
      "cell_type": "markdown",
      "metadata": {
        "id": "nHcec94iZb6n"
      },
      "source": [
        "latitude list contains the values of city latitudes [Bangalore,Vizag,Hubli]\n",
        "\n",
        "Similarly longitude list contains the values of city longitude.\n",
        "\n",
        "After this cell runs every function described will run and finally it gives the csv files of rainfall values for three cities considered."
      ]
    },
    {
      "cell_type": "code",
      "execution_count": null,
      "metadata": {
        "id": "L1PIHtaRwwB3"
      },
      "outputs": [],
      "source": [
        "blore_rainfall_dataset = pd.read_csv('/content/Rainfall_Bangalore.csv')\n",
        "vizag_rainfall_dataset = pd.read_csv('/content/Rainfall_Vizag.csv')\n",
        "hubli_rainfall_dataset = pd.read_csv('/content/Rainfall_Hubli.csv')"
      ]
    },
    {
      "cell_type": "code",
      "execution_count": null,
      "metadata": {
        "id": "o8Z4jYAEbu8P"
      },
      "outputs": [],
      "source": [
        "blore_rainfall_dataset.columns = ['Date','Blore rainfall']\n",
        "vizag_rainfall_dataset.columns = ['Date','Vizag rainfall']\n",
        "hubli_rainfall_dataset.columns = ['Date','Hubli rainfall']"
      ]
    },
    {
      "cell_type": "code",
      "execution_count": null,
      "metadata": {
        "id": "u74Gx8Z3bfzG"
      },
      "outputs": [],
      "source": [
        "dataset = blore_rainfall_dataset.copy()"
      ]
    },
    {
      "cell_type": "code",
      "execution_count": null,
      "metadata": {
        "id": "zX6580etbkUz"
      },
      "outputs": [],
      "source": [
        "dataset['Vizag rainfall'] = vizag_rainfall_dataset['Vizag rainfall']\n",
        "dataset['Hubli rainfall'] = hubli_rainfall_dataset['Hubli rainfall']"
      ]
    },
    {
      "cell_type": "markdown",
      "metadata": {
        "id": "PfNUzmuVla4q"
      },
      "source": [
        "Created a Dataframe named dataset which contains the rainfall data of three citites."
      ]
    },
    {
      "cell_type": "code",
      "execution_count": null,
      "metadata": {
        "colab": {
          "base_uri": "https://localhost:8080/",
          "height": 1000
        },
        "id": "rYOJ1LmecUj4",
        "outputId": "9d1e3285-30c0-4404-df36-8d71731e02ef"
      },
      "outputs": [
        {
          "output_type": "execute_result",
          "data": {
            "text/plain": [
              "           Date  Blore rainfall  Vizag rainfall  Hubli rainfall\n",
              "0    2018-01-01        0.000000        0.000000        0.000000\n",
              "1    2018-01-02        0.000000        0.000000        0.000000\n",
              "2    2018-01-03        0.000000        0.000000        0.000000\n",
              "3    2018-01-04        0.000000        0.000000        0.000000\n",
              "4    2018-01-05        0.000000        0.000000        0.000000\n",
              "5    2018-01-06        0.000000        0.000000        0.000000\n",
              "6    2018-01-07        0.000000        0.000000        0.000000\n",
              "7    2018-01-08        0.000000        0.000000        0.000000\n",
              "8    2018-01-09        0.000000        0.000000        0.000000\n",
              "9    2018-01-10        0.000000        0.000000        0.000000\n",
              "10   2018-01-11        0.000000        0.000000        0.000000\n",
              "11   2018-01-12        0.000000        0.000000        0.000000\n",
              "12   2018-01-13        0.000000        0.000000        0.000000\n",
              "13   2018-01-14        0.000000        0.000000        0.000000\n",
              "14   2018-01-15        0.000000        0.000000        0.000000\n",
              "15   2018-01-16        0.000000        0.000000        0.000000\n",
              "16   2018-01-17        0.000000        0.000000        0.000000\n",
              "17   2018-01-18        0.000000        0.000000        0.000000\n",
              "18   2018-01-19        0.000000        0.000000        0.000000\n",
              "19   2018-01-20        0.000000        0.000000        0.000000\n",
              "20   2018-01-21        0.000000        0.000000        0.000000\n",
              "21   2018-01-22        0.000000        0.000000        0.000000\n",
              "22   2018-01-23        0.000000        0.000000        0.000000\n",
              "23   2018-01-24        0.000000        0.000000        0.000000\n",
              "24   2018-01-25        0.000000        0.000000        0.000000\n",
              "25   2018-01-26        0.000000        0.000000        0.000000\n",
              "26   2018-01-27        0.000000        0.000000        0.000000\n",
              "27   2018-01-28        0.000000        0.000000        0.000000\n",
              "28   2018-01-29        0.000000        0.000000        0.000000\n",
              "29   2018-01-30        0.000000        0.000000        0.000000\n",
              "30   2018-01-31        0.000000        0.000000        0.000000\n",
              "31   2018-02-01        0.000000        0.000000        0.000000\n",
              "32   2018-02-02        0.000000        0.000000        0.000000\n",
              "33   2018-02-03        0.000000        0.000000        0.000000\n",
              "34   2018-02-04        0.000000        0.000000        0.000000\n",
              "35   2018-02-05        0.000000        0.000000        0.000000\n",
              "36   2018-02-06        0.000000        0.000000        0.000000\n",
              "37   2018-02-07        0.000000        0.000000        0.000000\n",
              "38   2018-02-08        1.028956        0.000000        0.337765\n",
              "39   2018-02-09        0.000000        0.000000        0.000000\n",
              "40   2018-02-10        2.310529        0.000000        0.000000\n",
              "41   2018-02-11        0.000000        0.000000        0.000000\n",
              "42   2018-02-12        0.000000        0.000000        0.000000\n",
              "43   2018-02-13        0.000000        0.000000        0.000000\n",
              "44   2018-02-14        0.000000        0.000000        0.000000\n",
              "45   2018-02-15        0.000000        0.000000        0.000000\n",
              "46   2018-02-16        0.000000        0.000000        0.000000\n",
              "47   2018-02-17        0.000000        0.000000        0.000000\n",
              "48   2018-02-18        0.000000        0.000000        0.000000\n",
              "49   2018-02-19        0.000000        0.000000        0.000000\n",
              "50   2018-02-20        0.000000        0.000000        0.000000\n",
              "51   2018-02-21        0.000000        0.000000        0.000000\n",
              "52   2018-02-22        0.000000        0.000000        0.000000\n",
              "53   2018-02-23        0.000000        0.000000        0.000000\n",
              "54   2018-02-24        0.000000        0.000000        0.000000\n",
              "55   2018-02-25        0.000000        0.000000        0.000000\n",
              "56   2018-02-26        0.000000        0.000000        0.000000\n",
              "57   2018-02-27        0.000000        0.000000        0.000000\n",
              "58   2018-02-28        0.000000        0.000000        0.000000\n",
              "59   2018-03-01        0.000000        0.000000        0.000000\n",
              "60   2018-03-02        0.000000        0.000000        0.000000\n",
              "61   2018-03-03        0.000000        0.000000        0.000000\n",
              "62   2018-03-04        0.000000        0.000000        0.000000\n",
              "63   2018-03-05        0.000000        0.000000        0.000000\n",
              "64   2018-03-06        0.000000        0.000000        0.000000\n",
              "65   2018-03-07        0.000000        0.000000        0.000000\n",
              "66   2018-03-08        0.000000        0.000000        0.000000\n",
              "67   2018-03-09        0.000000        0.000000        0.000000\n",
              "68   2018-03-10        0.000000        0.000000        0.000000\n",
              "69   2018-03-11        0.000000        0.000000        0.000000\n",
              "70   2018-03-12        0.000000        0.000000        0.000000\n",
              "71   2018-03-13        0.000000        0.000000        0.000000\n",
              "72   2018-03-14        0.000000        0.000000        0.000000\n",
              "73   2018-03-15        0.000000        0.000000        1.103143\n",
              "74   2018-03-16        1.989443        0.000000        0.129230\n",
              "75   2018-03-17       20.488142        0.000000        1.964064\n",
              "76   2018-03-18        0.000000        0.000000        0.000000\n",
              "77   2018-03-19        0.000000        0.000000        0.126631\n",
              "78   2018-03-20        0.000000        0.000000        0.000000\n",
              "79   2018-03-21        0.000000        0.000000        0.000000\n",
              "80   2018-03-22        0.000000        0.000000        0.000000\n",
              "81   2018-03-23        0.000000        0.000000        0.000000\n",
              "82   2018-03-24        0.000000        0.000000        0.000000\n",
              "83   2018-03-25        0.000000        0.000000        0.000000\n",
              "84   2018-03-26        0.000000        0.000000        0.000000\n",
              "85   2018-03-27        0.000000        0.000000        0.000000\n",
              "86   2018-03-28        0.000000        0.000000        0.000000\n",
              "87   2018-03-29        0.000000        0.000000        5.551741\n",
              "88   2018-03-30        0.000000        0.000000        0.000000\n",
              "89   2018-03-31        6.160728        0.000000        0.000000\n",
              "90   2018-04-01        0.102431        0.000000        0.000000\n",
              "91   2018-04-02        0.000000        5.453740        0.000000\n",
              "92   2018-04-03        7.509087        0.107387        0.000000\n",
              "93   2018-04-04        0.000000        0.000000        0.000000\n",
              "94   2018-04-05        0.000000        0.183715        0.190415\n",
              "95   2018-04-06        0.000000        0.000000        1.635517\n",
              "96   2018-04-07        0.000000        0.000000        0.000000\n",
              "97   2018-04-08        0.000000       10.772834        1.103015\n",
              "98   2018-04-09        0.000000        0.000000        5.675817\n",
              "99   2018-04-10        0.000000       12.833719        0.000000\n",
              "100  2018-04-11        0.000000        0.000000        5.653680\n",
              "101  2018-04-12        0.000000        0.000000        0.000000\n",
              "102  2018-04-13        0.000000        0.000000        0.497948\n",
              "103  2018-04-14        0.000000        0.000000        2.479514\n",
              "104  2018-04-15        0.000000        0.153729        0.626000\n",
              "105  2018-04-16        0.000000        0.000000        7.371430\n",
              "106  2018-04-17        4.068943        0.000000        0.000000\n",
              "107  2018-04-18        0.000000        0.000000        6.600836\n",
              "108  2018-04-19        0.000000        4.769193        0.642894\n",
              "109  2018-04-20        0.336608        0.000000        0.000000\n",
              "110  2018-04-21       14.585514        0.000000        0.352154\n",
              "111  2018-04-22        0.000000        0.000000        0.000000\n",
              "112  2018-04-23        1.218241        0.000000        0.000000\n",
              "113  2018-04-24        0.000000        0.000000        0.000000\n",
              "114  2018-04-25        1.101226       26.736233        0.000000\n",
              "115  2018-04-26        0.154802        0.000000        0.000000\n",
              "116  2018-04-27        2.216286        0.000000        0.000000\n",
              "117  2018-04-28        0.000000        0.000000        0.000000\n",
              "118  2018-04-29        0.000000        0.000000        0.000000\n",
              "119  2018-04-30        0.000000        0.000000        0.000000\n",
              "120  2018-05-01       23.717123        0.000000        0.000000\n",
              "121  2018-05-02        0.000000       44.047413        0.000000\n",
              "122  2018-05-03        0.206403       45.197727        0.000000\n",
              "123  2018-05-04       26.993792        6.703269        0.000000\n",
              "124  2018-05-05        0.000000        0.000000        6.825873\n",
              "125  2018-05-06        0.000000        0.000000        5.649790\n",
              "126  2018-05-07        0.000000        0.000000        1.168640\n",
              "127  2018-05-08        0.000000        0.000000        0.000000\n",
              "128  2018-05-09        0.103246        0.000000        0.181870\n",
              "129  2018-05-10        0.000000        0.000000        5.782369\n",
              "130  2018-05-11       31.144264        0.000000       33.324081\n",
              "131  2018-05-12       22.132856       13.647026        0.000000\n",
              "132  2018-05-13        0.000000        0.000000        6.247669\n",
              "133  2018-05-14        7.360068        6.481775        4.679273\n",
              "134  2018-05-15        5.593477        0.385872       14.520314\n",
              "135  2018-05-16        1.827820        0.000000        0.000000\n",
              "136  2018-05-17        0.000000        0.000000        0.895993\n",
              "137  2018-05-18        0.000000        8.194389       11.614411\n",
              "138  2018-05-19        3.334853        0.000000        0.000000\n",
              "139  2018-05-20       11.982009        0.000000        9.722710\n",
              "140  2018-05-21        0.000000        0.000000        0.000000\n",
              "141  2018-05-22        9.661338        0.000000       18.563789\n",
              "142  2018-05-23        0.000000        0.000000       11.266572\n",
              "143  2018-05-24        8.044038        0.000000       16.762835\n",
              "144  2018-05-25        0.000000        0.000000        6.818715\n",
              "145  2018-05-26       19.471029        0.000000        0.000000\n",
              "146  2018-05-27        8.987210        0.000000        8.647022\n",
              "147  2018-05-28        0.000000        0.000000        0.000000\n",
              "148  2018-05-29        0.000000        0.000000        2.117728\n",
              "149  2018-05-30        0.000000        0.000000       32.725872\n",
              "150  2018-05-31       27.900593        0.000000        0.000000\n",
              "151  2018-06-01        0.000000        0.000000        0.000000\n",
              "152  2018-06-02       13.509078       20.076761        5.792185\n",
              "153  2018-06-03       17.177521        2.052287       23.429873\n",
              "154  2018-06-04        2.465724        0.000000        2.844014\n",
              "155  2018-06-05        0.000000        0.000000        4.339640\n",
              "156  2018-06-06        0.834960        3.238665        0.161532\n",
              "157  2018-06-07        0.000000       14.454426        0.000000\n",
              "158  2018-06-08        4.416892        0.000000        2.234048\n",
              "159  2018-06-09        1.976252        1.496209        3.029675\n",
              "160  2018-06-10        0.720563       22.680408        7.743483\n",
              "161  2018-06-11        1.460571        0.000000       31.592510\n",
              "162  2018-06-12        0.000000        0.145283        6.871781\n",
              "163  2018-06-13        0.000000        0.799057        0.788725\n",
              "164  2018-06-14        1.204039        0.000000        0.000000\n",
              "165  2018-06-15        2.727028        0.000000        0.000000\n",
              "166  2018-06-16        8.275262        0.000000        0.000000\n",
              "167  2018-06-17        2.898301       14.371573        0.507928\n",
              "168  2018-06-18        1.158189        0.000000        1.071707\n",
              "169  2018-06-19        4.181269       10.603214        5.081715\n",
              "170  2018-06-20        0.000000        0.000000        2.321144\n",
              "171  2018-06-21        0.000000        0.000000        4.173158\n",
              "172  2018-06-22        0.000000        0.726919        0.000000\n",
              "173  2018-06-23        0.371547        0.756886        0.000000\n",
              "174  2018-06-24       14.598734        0.000000        2.884359\n",
              "175  2018-06-25        0.000000        1.196814        2.853595\n",
              "176  2018-06-26        0.000000        0.000000        1.744243\n",
              "177  2018-06-27        0.000000       27.423923        0.689785\n",
              "178  2018-06-28        0.000000        3.662837       23.322187\n",
              "179  2018-06-29        0.000000        0.111074        0.806478\n",
              "180  2018-06-30        0.000000        1.369766        1.187992\n",
              "181  2018-07-01        0.270243       24.395733        0.615033\n",
              "182  2018-07-02        0.000000        0.169497        0.000000\n",
              "183  2018-07-03        0.526953        2.068441        0.651901\n",
              "184  2018-07-04        0.000000        0.749079        0.389572\n",
              "185  2018-07-05        0.000000        0.384322        2.602343\n",
              "186  2018-07-06        0.000000        0.000000        3.391201\n",
              "187  2018-07-07        0.221193        2.269768        0.355003\n",
              "188  2018-07-08        0.000000        0.000000        1.871415\n",
              "189  2018-07-09        0.674290        8.970670       12.150935\n",
              "190  2018-07-10        1.055017        0.000000        1.507408\n",
              "191  2018-07-11       12.923486        0.131251        6.605257\n",
              "192  2018-07-12        6.696092        3.833158        5.060530\n",
              "193  2018-07-13        0.000000        0.115296        8.933652\n",
              "194  2018-07-14        2.146757        0.000000        4.247991\n",
              "195  2018-07-15        0.634238        3.506162        4.763731\n",
              "196  2018-07-16        0.000000        0.239688       18.216656\n",
              "197  2018-07-17        0.176331        0.549045        9.150002\n",
              "198  2018-07-18        0.000000        0.120019        2.095705\n",
              "199  2018-07-19        0.000000        4.464284        1.654149\n",
              "200  2018-07-20        0.000000       13.981240        2.188405\n",
              "201  2018-07-21        0.000000       24.389908        3.979766\n",
              "202  2018-07-22        0.000000        0.364630        5.576748\n",
              "203  2018-07-23        0.000000        0.000000        2.899499\n",
              "204  2018-07-24       11.870148        0.000000        2.471497\n",
              "205  2018-07-25        1.924266        8.696195        1.397296\n",
              "206  2018-07-26        1.233681        0.907717        1.017097\n",
              "207  2018-07-27        0.213886        0.000000        3.100363\n",
              "208  2018-07-28        0.107324        0.000000        2.347271\n",
              "209  2018-07-29        6.914366        0.513072        1.181937\n",
              "210  2018-07-30        0.147794       12.509553        0.000000\n",
              "211  2018-07-31        3.478093        1.293121        0.384975\n",
              "212  2018-08-01        7.098416        0.000000        2.689033\n",
              "213  2018-08-02        2.761951        0.000000        0.793497\n",
              "214  2018-08-03        0.000000        3.013160        0.477260\n",
              "215  2018-08-04        0.932755        0.000000        0.807722\n",
              "216  2018-08-05        0.000000        5.472329        2.016234\n",
              "217  2018-08-06        0.167228        0.000000        3.269118\n",
              "218  2018-08-07        9.668523        2.456919        3.824238\n",
              "219  2018-08-08        2.050490        5.915369        2.316491\n",
              "220  2018-08-09        6.961413        0.000000        4.145689\n",
              "221  2018-08-10        0.117554        0.000000        0.776922\n",
              "222  2018-08-11        3.115163       22.935188        2.353689\n",
              "223  2018-08-12        0.946810       10.688773        9.540451\n",
              "224  2018-08-13        1.947657       14.614695       11.305964\n",
              "225  2018-08-14        1.201510       18.112751        7.914021\n",
              "226  2018-08-15        6.339376       49.745964        3.044865\n",
              "227  2018-08-16        4.002475        7.231176        7.593417\n",
              "228  2018-08-17        0.226555        0.000000        7.635566\n",
              "229  2018-08-18        0.000000        0.230593        0.302612\n",
              "230  2018-08-19        0.364506        0.000000        0.798041\n",
              "231  2018-08-20        0.000000       58.726952        2.245375\n",
              "232  2018-08-21        0.452613        0.183715        2.336836\n",
              "233  2018-08-22        0.000000        0.000000        1.650134\n",
              "234  2018-08-23        0.000000        0.000000        2.700344\n",
              "235  2018-08-24        4.410487        0.000000        0.488355\n",
              "236  2018-08-25       24.707186       11.333662        0.385062\n",
              "237  2018-08-26        0.000000       10.966830        0.000000\n",
              "238  2018-08-27        7.066688        1.125552        0.832116\n",
              "239  2018-08-28        1.720872        0.125292        2.047982\n",
              "240  2018-08-29        4.873739        3.696362        0.532730\n",
              "241  2018-08-30        1.578289        0.000000        1.195186\n",
              "242  2018-08-31       20.342546       29.990843        1.022542\n",
              "243  2018-09-01        0.000000       11.137969        1.063220\n",
              "244  2018-09-02        0.000000       10.376225        1.053912\n",
              "245  2018-09-03        0.000000        0.000000        0.201313\n",
              "246  2018-09-04        0.000000        0.000000        0.000000\n",
              "247  2018-09-05        0.000000        5.472329        1.432621\n",
              "248  2018-09-06        0.000000        0.000000        0.703030\n",
              "249  2018-09-07        0.000000        0.125292        0.000000\n",
              "250  2018-09-08        0.000000        0.000000        2.980548\n",
              "251  2018-09-09        0.000000        0.000000        0.238152\n",
              "252  2018-09-10        0.000000        0.000000        0.000000\n",
              "253  2018-09-11        0.101196        1.407964        0.000000\n",
              "254  2018-09-12        0.000000        1.758719        0.000000\n",
              "255  2018-09-13        0.000000        6.789930        0.000000\n",
              "256  2018-09-14        1.181959        0.153729        0.000000\n",
              "257  2018-09-15       22.004560        0.942620        0.000000\n",
              "258  2018-09-16        7.605023        2.536681        0.000000\n",
              "259  2018-09-17       40.105827        8.963693        0.000000\n",
              "260  2018-09-18        5.462226        0.886640        0.618256\n",
              "261  2018-09-19        0.000000        0.000000        0.000000\n",
              "262  2018-09-20        0.000000       15.410845        0.000000\n",
              "263  2018-09-21        9.723103       29.723883       20.432560\n",
              "264  2018-09-22        0.000000       31.541996        0.000000\n",
              "265  2018-09-23        0.000000        0.000000        0.000000\n",
              "266  2018-09-24       18.361101        0.691779        0.000000\n",
              "267  2018-09-25       13.147305        0.000000        0.000000\n",
              "268  2018-09-26        1.372106        1.880631        4.317886\n",
              "269  2018-09-27       22.749176        0.000000        2.875689\n",
              "270  2018-09-28        1.867532        0.000000       11.156343\n",
              "271  2018-09-29        2.336798        0.000000       17.780731\n",
              "272  2018-09-30        0.000000        0.000000        0.000000\n",
              "273  2018-10-01        0.726531        0.000000        3.795102\n",
              "274  2018-10-02        0.000000        0.000000        0.605012\n",
              "275  2018-10-03        0.000000        0.000000        0.702520\n",
              "276  2018-10-04       10.591330        0.000000        0.000000\n",
              "277  2018-10-05       13.186159        0.000000        0.000000\n",
              "278  2018-10-06        1.794833        0.000000        2.344923\n",
              "279  2018-10-07        4.362407        0.000000        3.921000\n",
              "280  2018-10-08        0.000000        0.000000        0.000000\n",
              "281  2018-10-09        7.939789        0.000000        0.189396\n",
              "282  2018-10-10        0.000000        0.000000        0.517777\n",
              "283  2018-10-11        0.000000        0.788906        0.000000\n",
              "284  2018-10-12        0.000000        0.000000        0.000000\n",
              "285  2018-10-13        0.000000        3.824238        0.000000\n",
              "286  2018-10-14        0.000000        4.953257        0.000000\n",
              "287  2018-10-15        5.356080        3.907850        0.000000\n",
              "288  2018-10-16        1.693744        1.211578        4.045506\n",
              "289  2018-10-17        0.000000        0.000000       31.525087\n",
              "290  2018-10-18       22.365135        0.000000        2.659493\n",
              "291  2018-10-19        0.433004        0.000000        0.000000\n",
              "292  2018-10-20        0.000000        0.000000        1.175782\n",
              "293  2018-10-21        0.000000        0.000000        0.000000\n",
              "294  2018-10-22        0.000000        0.000000        0.000000\n",
              "295  2018-10-23        0.000000        0.000000        0.000000\n",
              "296  2018-10-24        0.000000        0.000000        0.000000\n",
              "297  2018-10-25        0.000000        0.000000        2.065098\n",
              "298  2018-10-26        0.000000        0.000000        0.000000\n",
              "299  2018-10-27        0.000000        0.000000        0.000000\n",
              "300  2018-10-28        0.000000        0.000000        0.000000\n",
              "301  2018-10-29        0.000000        0.000000        0.000000\n",
              "302  2018-10-30        0.000000        0.000000        0.000000\n",
              "303  2018-10-31        0.000000        0.000000        0.000000\n",
              "304  2018-11-01        0.000000        3.137456        0.000000\n",
              "305  2018-11-02        0.000000        0.000000        0.000000\n",
              "306  2018-11-03        0.452662        0.000000        0.000000\n",
              "307  2018-11-04        1.442290        0.000000        0.000000\n",
              "308  2018-11-05        0.000000        0.000000        0.000000\n",
              "309  2018-11-06        0.000000        0.000000        0.000000\n",
              "310  2018-11-07        0.000000        0.000000        0.000000\n",
              "311  2018-11-08        0.000000        0.000000        0.000000\n",
              "312  2018-11-09        0.000000        0.000000        0.000000\n",
              "313  2018-11-10        0.000000        0.000000        0.000000\n",
              "314  2018-11-11        0.000000        0.000000        0.000000\n",
              "315  2018-11-12        0.000000        0.000000        0.000000\n",
              "316  2018-11-13        0.000000        0.000000        0.000000\n",
              "317  2018-11-14        0.000000        0.000000        0.000000\n",
              "318  2018-11-15        0.000000        0.000000        0.000000\n",
              "319  2018-11-16        0.446973        0.000000        0.000000\n",
              "320  2018-11-17        0.231688        0.000000        0.000000\n",
              "321  2018-11-18        0.000000        0.000000        0.000000\n",
              "322  2018-11-19        0.221051        0.000000       20.786270\n",
              "323  2018-11-20        0.000000        0.000000        3.476125\n",
              "324  2018-11-21        0.000000        0.000000        0.000000\n",
              "325  2018-11-22        0.000000        0.000000        0.000000\n",
              "326  2018-11-23        0.671740        0.000000        0.000000\n",
              "327  2018-11-24        2.595885        0.000000        0.000000\n",
              "328  2018-11-25        0.000000        0.000000        0.000000\n",
              "329  2018-11-26        0.000000        0.000000        0.000000\n",
              "330  2018-11-27        0.000000        0.000000        0.000000\n",
              "331  2018-11-28        0.000000        0.000000        0.000000\n",
              "332  2018-11-29        0.000000        0.000000        0.000000\n",
              "333  2018-11-30        0.000000        0.000000        0.000000\n",
              "334  2018-12-01        0.000000        0.000000        0.000000\n",
              "335  2018-12-02        0.000000        0.000000        0.000000\n",
              "336  2018-12-03        0.000000        0.000000        0.000000\n",
              "337  2018-12-04        0.000000        0.000000        0.000000\n",
              "338  2018-12-05        4.997499        0.000000        0.000000\n",
              "339  2018-12-06        0.000000        0.000000        5.638509\n",
              "340  2018-12-07        0.000000        0.000000        0.458179\n",
              "341  2018-12-08        0.000000        0.000000        0.000000\n",
              "342  2018-12-09        0.000000        0.000000        0.000000\n",
              "343  2018-12-10        0.000000        0.000000        0.000000\n",
              "344  2018-12-11        0.000000        0.000000        0.000000\n",
              "345  2018-12-12        0.000000        0.000000        0.000000\n",
              "346  2018-12-13        0.000000        0.000000        0.000000\n",
              "347  2018-12-14        0.000000        0.000000        0.000000\n",
              "348  2018-12-15        0.000000        0.000000        0.000000\n",
              "349  2018-12-16        0.000000        0.000000        0.000000\n",
              "350  2018-12-17        0.000000        1.377740        0.000000\n",
              "351  2018-12-18        0.000000      104.037682        0.000000\n",
              "352  2018-12-19        0.000000        0.000000        0.000000\n",
              "353  2018-12-20        0.000000        0.000000        0.000000\n",
              "354  2018-12-21        0.000000        0.000000        0.000000\n",
              "355  2018-12-22        0.000000        0.000000        0.000000\n",
              "356  2018-12-23        0.000000        0.000000        0.000000\n",
              "357  2018-12-24        0.000000        0.000000        0.000000\n",
              "358  2018-12-25        0.000000        0.000000        0.000000\n",
              "359  2018-12-26        0.000000        0.000000        0.000000\n",
              "360  2018-12-27        0.000000        0.000000        0.000000\n",
              "361  2018-12-28        0.000000        0.000000        0.000000\n",
              "362  2018-12-29        3.039958        0.000000        0.000000\n",
              "363  2018-12-30        0.000000        0.000000        0.000000\n",
              "364  2018-12-31        0.000000        0.000000        0.000000"
            ],
            "text/html": [
              "\n",
              "  <div id=\"df-f436d75a-22d6-4fd2-a734-9eca25129786\">\n",
              "    <div class=\"colab-df-container\">\n",
              "      <div>\n",
              "<style scoped>\n",
              "    .dataframe tbody tr th:only-of-type {\n",
              "        vertical-align: middle;\n",
              "    }\n",
              "\n",
              "    .dataframe tbody tr th {\n",
              "        vertical-align: top;\n",
              "    }\n",
              "\n",
              "    .dataframe thead th {\n",
              "        text-align: right;\n",
              "    }\n",
              "</style>\n",
              "<table border=\"1\" class=\"dataframe\">\n",
              "  <thead>\n",
              "    <tr style=\"text-align: right;\">\n",
              "      <th></th>\n",
              "      <th>Date</th>\n",
              "      <th>Blore rainfall</th>\n",
              "      <th>Vizag rainfall</th>\n",
              "      <th>Hubli rainfall</th>\n",
              "    </tr>\n",
              "  </thead>\n",
              "  <tbody>\n",
              "    <tr>\n",
              "      <th>0</th>\n",
              "      <td>2018-01-01</td>\n",
              "      <td>0.000000</td>\n",
              "      <td>0.000000</td>\n",
              "      <td>0.000000</td>\n",
              "    </tr>\n",
              "    <tr>\n",
              "      <th>1</th>\n",
              "      <td>2018-01-02</td>\n",
              "      <td>0.000000</td>\n",
              "      <td>0.000000</td>\n",
              "      <td>0.000000</td>\n",
              "    </tr>\n",
              "    <tr>\n",
              "      <th>2</th>\n",
              "      <td>2018-01-03</td>\n",
              "      <td>0.000000</td>\n",
              "      <td>0.000000</td>\n",
              "      <td>0.000000</td>\n",
              "    </tr>\n",
              "    <tr>\n",
              "      <th>3</th>\n",
              "      <td>2018-01-04</td>\n",
              "      <td>0.000000</td>\n",
              "      <td>0.000000</td>\n",
              "      <td>0.000000</td>\n",
              "    </tr>\n",
              "    <tr>\n",
              "      <th>4</th>\n",
              "      <td>2018-01-05</td>\n",
              "      <td>0.000000</td>\n",
              "      <td>0.000000</td>\n",
              "      <td>0.000000</td>\n",
              "    </tr>\n",
              "    <tr>\n",
              "      <th>5</th>\n",
              "      <td>2018-01-06</td>\n",
              "      <td>0.000000</td>\n",
              "      <td>0.000000</td>\n",
              "      <td>0.000000</td>\n",
              "    </tr>\n",
              "    <tr>\n",
              "      <th>6</th>\n",
              "      <td>2018-01-07</td>\n",
              "      <td>0.000000</td>\n",
              "      <td>0.000000</td>\n",
              "      <td>0.000000</td>\n",
              "    </tr>\n",
              "    <tr>\n",
              "      <th>7</th>\n",
              "      <td>2018-01-08</td>\n",
              "      <td>0.000000</td>\n",
              "      <td>0.000000</td>\n",
              "      <td>0.000000</td>\n",
              "    </tr>\n",
              "    <tr>\n",
              "      <th>8</th>\n",
              "      <td>2018-01-09</td>\n",
              "      <td>0.000000</td>\n",
              "      <td>0.000000</td>\n",
              "      <td>0.000000</td>\n",
              "    </tr>\n",
              "    <tr>\n",
              "      <th>9</th>\n",
              "      <td>2018-01-10</td>\n",
              "      <td>0.000000</td>\n",
              "      <td>0.000000</td>\n",
              "      <td>0.000000</td>\n",
              "    </tr>\n",
              "    <tr>\n",
              "      <th>10</th>\n",
              "      <td>2018-01-11</td>\n",
              "      <td>0.000000</td>\n",
              "      <td>0.000000</td>\n",
              "      <td>0.000000</td>\n",
              "    </tr>\n",
              "    <tr>\n",
              "      <th>11</th>\n",
              "      <td>2018-01-12</td>\n",
              "      <td>0.000000</td>\n",
              "      <td>0.000000</td>\n",
              "      <td>0.000000</td>\n",
              "    </tr>\n",
              "    <tr>\n",
              "      <th>12</th>\n",
              "      <td>2018-01-13</td>\n",
              "      <td>0.000000</td>\n",
              "      <td>0.000000</td>\n",
              "      <td>0.000000</td>\n",
              "    </tr>\n",
              "    <tr>\n",
              "      <th>13</th>\n",
              "      <td>2018-01-14</td>\n",
              "      <td>0.000000</td>\n",
              "      <td>0.000000</td>\n",
              "      <td>0.000000</td>\n",
              "    </tr>\n",
              "    <tr>\n",
              "      <th>14</th>\n",
              "      <td>2018-01-15</td>\n",
              "      <td>0.000000</td>\n",
              "      <td>0.000000</td>\n",
              "      <td>0.000000</td>\n",
              "    </tr>\n",
              "    <tr>\n",
              "      <th>15</th>\n",
              "      <td>2018-01-16</td>\n",
              "      <td>0.000000</td>\n",
              "      <td>0.000000</td>\n",
              "      <td>0.000000</td>\n",
              "    </tr>\n",
              "    <tr>\n",
              "      <th>16</th>\n",
              "      <td>2018-01-17</td>\n",
              "      <td>0.000000</td>\n",
              "      <td>0.000000</td>\n",
              "      <td>0.000000</td>\n",
              "    </tr>\n",
              "    <tr>\n",
              "      <th>17</th>\n",
              "      <td>2018-01-18</td>\n",
              "      <td>0.000000</td>\n",
              "      <td>0.000000</td>\n",
              "      <td>0.000000</td>\n",
              "    </tr>\n",
              "    <tr>\n",
              "      <th>18</th>\n",
              "      <td>2018-01-19</td>\n",
              "      <td>0.000000</td>\n",
              "      <td>0.000000</td>\n",
              "      <td>0.000000</td>\n",
              "    </tr>\n",
              "    <tr>\n",
              "      <th>19</th>\n",
              "      <td>2018-01-20</td>\n",
              "      <td>0.000000</td>\n",
              "      <td>0.000000</td>\n",
              "      <td>0.000000</td>\n",
              "    </tr>\n",
              "    <tr>\n",
              "      <th>20</th>\n",
              "      <td>2018-01-21</td>\n",
              "      <td>0.000000</td>\n",
              "      <td>0.000000</td>\n",
              "      <td>0.000000</td>\n",
              "    </tr>\n",
              "    <tr>\n",
              "      <th>21</th>\n",
              "      <td>2018-01-22</td>\n",
              "      <td>0.000000</td>\n",
              "      <td>0.000000</td>\n",
              "      <td>0.000000</td>\n",
              "    </tr>\n",
              "    <tr>\n",
              "      <th>22</th>\n",
              "      <td>2018-01-23</td>\n",
              "      <td>0.000000</td>\n",
              "      <td>0.000000</td>\n",
              "      <td>0.000000</td>\n",
              "    </tr>\n",
              "    <tr>\n",
              "      <th>23</th>\n",
              "      <td>2018-01-24</td>\n",
              "      <td>0.000000</td>\n",
              "      <td>0.000000</td>\n",
              "      <td>0.000000</td>\n",
              "    </tr>\n",
              "    <tr>\n",
              "      <th>24</th>\n",
              "      <td>2018-01-25</td>\n",
              "      <td>0.000000</td>\n",
              "      <td>0.000000</td>\n",
              "      <td>0.000000</td>\n",
              "    </tr>\n",
              "    <tr>\n",
              "      <th>25</th>\n",
              "      <td>2018-01-26</td>\n",
              "      <td>0.000000</td>\n",
              "      <td>0.000000</td>\n",
              "      <td>0.000000</td>\n",
              "    </tr>\n",
              "    <tr>\n",
              "      <th>26</th>\n",
              "      <td>2018-01-27</td>\n",
              "      <td>0.000000</td>\n",
              "      <td>0.000000</td>\n",
              "      <td>0.000000</td>\n",
              "    </tr>\n",
              "    <tr>\n",
              "      <th>27</th>\n",
              "      <td>2018-01-28</td>\n",
              "      <td>0.000000</td>\n",
              "      <td>0.000000</td>\n",
              "      <td>0.000000</td>\n",
              "    </tr>\n",
              "    <tr>\n",
              "      <th>28</th>\n",
              "      <td>2018-01-29</td>\n",
              "      <td>0.000000</td>\n",
              "      <td>0.000000</td>\n",
              "      <td>0.000000</td>\n",
              "    </tr>\n",
              "    <tr>\n",
              "      <th>29</th>\n",
              "      <td>2018-01-30</td>\n",
              "      <td>0.000000</td>\n",
              "      <td>0.000000</td>\n",
              "      <td>0.000000</td>\n",
              "    </tr>\n",
              "    <tr>\n",
              "      <th>30</th>\n",
              "      <td>2018-01-31</td>\n",
              "      <td>0.000000</td>\n",
              "      <td>0.000000</td>\n",
              "      <td>0.000000</td>\n",
              "    </tr>\n",
              "    <tr>\n",
              "      <th>31</th>\n",
              "      <td>2018-02-01</td>\n",
              "      <td>0.000000</td>\n",
              "      <td>0.000000</td>\n",
              "      <td>0.000000</td>\n",
              "    </tr>\n",
              "    <tr>\n",
              "      <th>32</th>\n",
              "      <td>2018-02-02</td>\n",
              "      <td>0.000000</td>\n",
              "      <td>0.000000</td>\n",
              "      <td>0.000000</td>\n",
              "    </tr>\n",
              "    <tr>\n",
              "      <th>33</th>\n",
              "      <td>2018-02-03</td>\n",
              "      <td>0.000000</td>\n",
              "      <td>0.000000</td>\n",
              "      <td>0.000000</td>\n",
              "    </tr>\n",
              "    <tr>\n",
              "      <th>34</th>\n",
              "      <td>2018-02-04</td>\n",
              "      <td>0.000000</td>\n",
              "      <td>0.000000</td>\n",
              "      <td>0.000000</td>\n",
              "    </tr>\n",
              "    <tr>\n",
              "      <th>35</th>\n",
              "      <td>2018-02-05</td>\n",
              "      <td>0.000000</td>\n",
              "      <td>0.000000</td>\n",
              "      <td>0.000000</td>\n",
              "    </tr>\n",
              "    <tr>\n",
              "      <th>36</th>\n",
              "      <td>2018-02-06</td>\n",
              "      <td>0.000000</td>\n",
              "      <td>0.000000</td>\n",
              "      <td>0.000000</td>\n",
              "    </tr>\n",
              "    <tr>\n",
              "      <th>37</th>\n",
              "      <td>2018-02-07</td>\n",
              "      <td>0.000000</td>\n",
              "      <td>0.000000</td>\n",
              "      <td>0.000000</td>\n",
              "    </tr>\n",
              "    <tr>\n",
              "      <th>38</th>\n",
              "      <td>2018-02-08</td>\n",
              "      <td>1.028956</td>\n",
              "      <td>0.000000</td>\n",
              "      <td>0.337765</td>\n",
              "    </tr>\n",
              "    <tr>\n",
              "      <th>39</th>\n",
              "      <td>2018-02-09</td>\n",
              "      <td>0.000000</td>\n",
              "      <td>0.000000</td>\n",
              "      <td>0.000000</td>\n",
              "    </tr>\n",
              "    <tr>\n",
              "      <th>40</th>\n",
              "      <td>2018-02-10</td>\n",
              "      <td>2.310529</td>\n",
              "      <td>0.000000</td>\n",
              "      <td>0.000000</td>\n",
              "    </tr>\n",
              "    <tr>\n",
              "      <th>41</th>\n",
              "      <td>2018-02-11</td>\n",
              "      <td>0.000000</td>\n",
              "      <td>0.000000</td>\n",
              "      <td>0.000000</td>\n",
              "    </tr>\n",
              "    <tr>\n",
              "      <th>42</th>\n",
              "      <td>2018-02-12</td>\n",
              "      <td>0.000000</td>\n",
              "      <td>0.000000</td>\n",
              "      <td>0.000000</td>\n",
              "    </tr>\n",
              "    <tr>\n",
              "      <th>43</th>\n",
              "      <td>2018-02-13</td>\n",
              "      <td>0.000000</td>\n",
              "      <td>0.000000</td>\n",
              "      <td>0.000000</td>\n",
              "    </tr>\n",
              "    <tr>\n",
              "      <th>44</th>\n",
              "      <td>2018-02-14</td>\n",
              "      <td>0.000000</td>\n",
              "      <td>0.000000</td>\n",
              "      <td>0.000000</td>\n",
              "    </tr>\n",
              "    <tr>\n",
              "      <th>45</th>\n",
              "      <td>2018-02-15</td>\n",
              "      <td>0.000000</td>\n",
              "      <td>0.000000</td>\n",
              "      <td>0.000000</td>\n",
              "    </tr>\n",
              "    <tr>\n",
              "      <th>46</th>\n",
              "      <td>2018-02-16</td>\n",
              "      <td>0.000000</td>\n",
              "      <td>0.000000</td>\n",
              "      <td>0.000000</td>\n",
              "    </tr>\n",
              "    <tr>\n",
              "      <th>47</th>\n",
              "      <td>2018-02-17</td>\n",
              "      <td>0.000000</td>\n",
              "      <td>0.000000</td>\n",
              "      <td>0.000000</td>\n",
              "    </tr>\n",
              "    <tr>\n",
              "      <th>48</th>\n",
              "      <td>2018-02-18</td>\n",
              "      <td>0.000000</td>\n",
              "      <td>0.000000</td>\n",
              "      <td>0.000000</td>\n",
              "    </tr>\n",
              "    <tr>\n",
              "      <th>49</th>\n",
              "      <td>2018-02-19</td>\n",
              "      <td>0.000000</td>\n",
              "      <td>0.000000</td>\n",
              "      <td>0.000000</td>\n",
              "    </tr>\n",
              "    <tr>\n",
              "      <th>50</th>\n",
              "      <td>2018-02-20</td>\n",
              "      <td>0.000000</td>\n",
              "      <td>0.000000</td>\n",
              "      <td>0.000000</td>\n",
              "    </tr>\n",
              "    <tr>\n",
              "      <th>51</th>\n",
              "      <td>2018-02-21</td>\n",
              "      <td>0.000000</td>\n",
              "      <td>0.000000</td>\n",
              "      <td>0.000000</td>\n",
              "    </tr>\n",
              "    <tr>\n",
              "      <th>52</th>\n",
              "      <td>2018-02-22</td>\n",
              "      <td>0.000000</td>\n",
              "      <td>0.000000</td>\n",
              "      <td>0.000000</td>\n",
              "    </tr>\n",
              "    <tr>\n",
              "      <th>53</th>\n",
              "      <td>2018-02-23</td>\n",
              "      <td>0.000000</td>\n",
              "      <td>0.000000</td>\n",
              "      <td>0.000000</td>\n",
              "    </tr>\n",
              "    <tr>\n",
              "      <th>54</th>\n",
              "      <td>2018-02-24</td>\n",
              "      <td>0.000000</td>\n",
              "      <td>0.000000</td>\n",
              "      <td>0.000000</td>\n",
              "    </tr>\n",
              "    <tr>\n",
              "      <th>55</th>\n",
              "      <td>2018-02-25</td>\n",
              "      <td>0.000000</td>\n",
              "      <td>0.000000</td>\n",
              "      <td>0.000000</td>\n",
              "    </tr>\n",
              "    <tr>\n",
              "      <th>56</th>\n",
              "      <td>2018-02-26</td>\n",
              "      <td>0.000000</td>\n",
              "      <td>0.000000</td>\n",
              "      <td>0.000000</td>\n",
              "    </tr>\n",
              "    <tr>\n",
              "      <th>57</th>\n",
              "      <td>2018-02-27</td>\n",
              "      <td>0.000000</td>\n",
              "      <td>0.000000</td>\n",
              "      <td>0.000000</td>\n",
              "    </tr>\n",
              "    <tr>\n",
              "      <th>58</th>\n",
              "      <td>2018-02-28</td>\n",
              "      <td>0.000000</td>\n",
              "      <td>0.000000</td>\n",
              "      <td>0.000000</td>\n",
              "    </tr>\n",
              "    <tr>\n",
              "      <th>59</th>\n",
              "      <td>2018-03-01</td>\n",
              "      <td>0.000000</td>\n",
              "      <td>0.000000</td>\n",
              "      <td>0.000000</td>\n",
              "    </tr>\n",
              "    <tr>\n",
              "      <th>60</th>\n",
              "      <td>2018-03-02</td>\n",
              "      <td>0.000000</td>\n",
              "      <td>0.000000</td>\n",
              "      <td>0.000000</td>\n",
              "    </tr>\n",
              "    <tr>\n",
              "      <th>61</th>\n",
              "      <td>2018-03-03</td>\n",
              "      <td>0.000000</td>\n",
              "      <td>0.000000</td>\n",
              "      <td>0.000000</td>\n",
              "    </tr>\n",
              "    <tr>\n",
              "      <th>62</th>\n",
              "      <td>2018-03-04</td>\n",
              "      <td>0.000000</td>\n",
              "      <td>0.000000</td>\n",
              "      <td>0.000000</td>\n",
              "    </tr>\n",
              "    <tr>\n",
              "      <th>63</th>\n",
              "      <td>2018-03-05</td>\n",
              "      <td>0.000000</td>\n",
              "      <td>0.000000</td>\n",
              "      <td>0.000000</td>\n",
              "    </tr>\n",
              "    <tr>\n",
              "      <th>64</th>\n",
              "      <td>2018-03-06</td>\n",
              "      <td>0.000000</td>\n",
              "      <td>0.000000</td>\n",
              "      <td>0.000000</td>\n",
              "    </tr>\n",
              "    <tr>\n",
              "      <th>65</th>\n",
              "      <td>2018-03-07</td>\n",
              "      <td>0.000000</td>\n",
              "      <td>0.000000</td>\n",
              "      <td>0.000000</td>\n",
              "    </tr>\n",
              "    <tr>\n",
              "      <th>66</th>\n",
              "      <td>2018-03-08</td>\n",
              "      <td>0.000000</td>\n",
              "      <td>0.000000</td>\n",
              "      <td>0.000000</td>\n",
              "    </tr>\n",
              "    <tr>\n",
              "      <th>67</th>\n",
              "      <td>2018-03-09</td>\n",
              "      <td>0.000000</td>\n",
              "      <td>0.000000</td>\n",
              "      <td>0.000000</td>\n",
              "    </tr>\n",
              "    <tr>\n",
              "      <th>68</th>\n",
              "      <td>2018-03-10</td>\n",
              "      <td>0.000000</td>\n",
              "      <td>0.000000</td>\n",
              "      <td>0.000000</td>\n",
              "    </tr>\n",
              "    <tr>\n",
              "      <th>69</th>\n",
              "      <td>2018-03-11</td>\n",
              "      <td>0.000000</td>\n",
              "      <td>0.000000</td>\n",
              "      <td>0.000000</td>\n",
              "    </tr>\n",
              "    <tr>\n",
              "      <th>70</th>\n",
              "      <td>2018-03-12</td>\n",
              "      <td>0.000000</td>\n",
              "      <td>0.000000</td>\n",
              "      <td>0.000000</td>\n",
              "    </tr>\n",
              "    <tr>\n",
              "      <th>71</th>\n",
              "      <td>2018-03-13</td>\n",
              "      <td>0.000000</td>\n",
              "      <td>0.000000</td>\n",
              "      <td>0.000000</td>\n",
              "    </tr>\n",
              "    <tr>\n",
              "      <th>72</th>\n",
              "      <td>2018-03-14</td>\n",
              "      <td>0.000000</td>\n",
              "      <td>0.000000</td>\n",
              "      <td>0.000000</td>\n",
              "    </tr>\n",
              "    <tr>\n",
              "      <th>73</th>\n",
              "      <td>2018-03-15</td>\n",
              "      <td>0.000000</td>\n",
              "      <td>0.000000</td>\n",
              "      <td>1.103143</td>\n",
              "    </tr>\n",
              "    <tr>\n",
              "      <th>74</th>\n",
              "      <td>2018-03-16</td>\n",
              "      <td>1.989443</td>\n",
              "      <td>0.000000</td>\n",
              "      <td>0.129230</td>\n",
              "    </tr>\n",
              "    <tr>\n",
              "      <th>75</th>\n",
              "      <td>2018-03-17</td>\n",
              "      <td>20.488142</td>\n",
              "      <td>0.000000</td>\n",
              "      <td>1.964064</td>\n",
              "    </tr>\n",
              "    <tr>\n",
              "      <th>76</th>\n",
              "      <td>2018-03-18</td>\n",
              "      <td>0.000000</td>\n",
              "      <td>0.000000</td>\n",
              "      <td>0.000000</td>\n",
              "    </tr>\n",
              "    <tr>\n",
              "      <th>77</th>\n",
              "      <td>2018-03-19</td>\n",
              "      <td>0.000000</td>\n",
              "      <td>0.000000</td>\n",
              "      <td>0.126631</td>\n",
              "    </tr>\n",
              "    <tr>\n",
              "      <th>78</th>\n",
              "      <td>2018-03-20</td>\n",
              "      <td>0.000000</td>\n",
              "      <td>0.000000</td>\n",
              "      <td>0.000000</td>\n",
              "    </tr>\n",
              "    <tr>\n",
              "      <th>79</th>\n",
              "      <td>2018-03-21</td>\n",
              "      <td>0.000000</td>\n",
              "      <td>0.000000</td>\n",
              "      <td>0.000000</td>\n",
              "    </tr>\n",
              "    <tr>\n",
              "      <th>80</th>\n",
              "      <td>2018-03-22</td>\n",
              "      <td>0.000000</td>\n",
              "      <td>0.000000</td>\n",
              "      <td>0.000000</td>\n",
              "    </tr>\n",
              "    <tr>\n",
              "      <th>81</th>\n",
              "      <td>2018-03-23</td>\n",
              "      <td>0.000000</td>\n",
              "      <td>0.000000</td>\n",
              "      <td>0.000000</td>\n",
              "    </tr>\n",
              "    <tr>\n",
              "      <th>82</th>\n",
              "      <td>2018-03-24</td>\n",
              "      <td>0.000000</td>\n",
              "      <td>0.000000</td>\n",
              "      <td>0.000000</td>\n",
              "    </tr>\n",
              "    <tr>\n",
              "      <th>83</th>\n",
              "      <td>2018-03-25</td>\n",
              "      <td>0.000000</td>\n",
              "      <td>0.000000</td>\n",
              "      <td>0.000000</td>\n",
              "    </tr>\n",
              "    <tr>\n",
              "      <th>84</th>\n",
              "      <td>2018-03-26</td>\n",
              "      <td>0.000000</td>\n",
              "      <td>0.000000</td>\n",
              "      <td>0.000000</td>\n",
              "    </tr>\n",
              "    <tr>\n",
              "      <th>85</th>\n",
              "      <td>2018-03-27</td>\n",
              "      <td>0.000000</td>\n",
              "      <td>0.000000</td>\n",
              "      <td>0.000000</td>\n",
              "    </tr>\n",
              "    <tr>\n",
              "      <th>86</th>\n",
              "      <td>2018-03-28</td>\n",
              "      <td>0.000000</td>\n",
              "      <td>0.000000</td>\n",
              "      <td>0.000000</td>\n",
              "    </tr>\n",
              "    <tr>\n",
              "      <th>87</th>\n",
              "      <td>2018-03-29</td>\n",
              "      <td>0.000000</td>\n",
              "      <td>0.000000</td>\n",
              "      <td>5.551741</td>\n",
              "    </tr>\n",
              "    <tr>\n",
              "      <th>88</th>\n",
              "      <td>2018-03-30</td>\n",
              "      <td>0.000000</td>\n",
              "      <td>0.000000</td>\n",
              "      <td>0.000000</td>\n",
              "    </tr>\n",
              "    <tr>\n",
              "      <th>89</th>\n",
              "      <td>2018-03-31</td>\n",
              "      <td>6.160728</td>\n",
              "      <td>0.000000</td>\n",
              "      <td>0.000000</td>\n",
              "    </tr>\n",
              "    <tr>\n",
              "      <th>90</th>\n",
              "      <td>2018-04-01</td>\n",
              "      <td>0.102431</td>\n",
              "      <td>0.000000</td>\n",
              "      <td>0.000000</td>\n",
              "    </tr>\n",
              "    <tr>\n",
              "      <th>91</th>\n",
              "      <td>2018-04-02</td>\n",
              "      <td>0.000000</td>\n",
              "      <td>5.453740</td>\n",
              "      <td>0.000000</td>\n",
              "    </tr>\n",
              "    <tr>\n",
              "      <th>92</th>\n",
              "      <td>2018-04-03</td>\n",
              "      <td>7.509087</td>\n",
              "      <td>0.107387</td>\n",
              "      <td>0.000000</td>\n",
              "    </tr>\n",
              "    <tr>\n",
              "      <th>93</th>\n",
              "      <td>2018-04-04</td>\n",
              "      <td>0.000000</td>\n",
              "      <td>0.000000</td>\n",
              "      <td>0.000000</td>\n",
              "    </tr>\n",
              "    <tr>\n",
              "      <th>94</th>\n",
              "      <td>2018-04-05</td>\n",
              "      <td>0.000000</td>\n",
              "      <td>0.183715</td>\n",
              "      <td>0.190415</td>\n",
              "    </tr>\n",
              "    <tr>\n",
              "      <th>95</th>\n",
              "      <td>2018-04-06</td>\n",
              "      <td>0.000000</td>\n",
              "      <td>0.000000</td>\n",
              "      <td>1.635517</td>\n",
              "    </tr>\n",
              "    <tr>\n",
              "      <th>96</th>\n",
              "      <td>2018-04-07</td>\n",
              "      <td>0.000000</td>\n",
              "      <td>0.000000</td>\n",
              "      <td>0.000000</td>\n",
              "    </tr>\n",
              "    <tr>\n",
              "      <th>97</th>\n",
              "      <td>2018-04-08</td>\n",
              "      <td>0.000000</td>\n",
              "      <td>10.772834</td>\n",
              "      <td>1.103015</td>\n",
              "    </tr>\n",
              "    <tr>\n",
              "      <th>98</th>\n",
              "      <td>2018-04-09</td>\n",
              "      <td>0.000000</td>\n",
              "      <td>0.000000</td>\n",
              "      <td>5.675817</td>\n",
              "    </tr>\n",
              "    <tr>\n",
              "      <th>99</th>\n",
              "      <td>2018-04-10</td>\n",
              "      <td>0.000000</td>\n",
              "      <td>12.833719</td>\n",
              "      <td>0.000000</td>\n",
              "    </tr>\n",
              "    <tr>\n",
              "      <th>100</th>\n",
              "      <td>2018-04-11</td>\n",
              "      <td>0.000000</td>\n",
              "      <td>0.000000</td>\n",
              "      <td>5.653680</td>\n",
              "    </tr>\n",
              "    <tr>\n",
              "      <th>101</th>\n",
              "      <td>2018-04-12</td>\n",
              "      <td>0.000000</td>\n",
              "      <td>0.000000</td>\n",
              "      <td>0.000000</td>\n",
              "    </tr>\n",
              "    <tr>\n",
              "      <th>102</th>\n",
              "      <td>2018-04-13</td>\n",
              "      <td>0.000000</td>\n",
              "      <td>0.000000</td>\n",
              "      <td>0.497948</td>\n",
              "    </tr>\n",
              "    <tr>\n",
              "      <th>103</th>\n",
              "      <td>2018-04-14</td>\n",
              "      <td>0.000000</td>\n",
              "      <td>0.000000</td>\n",
              "      <td>2.479514</td>\n",
              "    </tr>\n",
              "    <tr>\n",
              "      <th>104</th>\n",
              "      <td>2018-04-15</td>\n",
              "      <td>0.000000</td>\n",
              "      <td>0.153729</td>\n",
              "      <td>0.626000</td>\n",
              "    </tr>\n",
              "    <tr>\n",
              "      <th>105</th>\n",
              "      <td>2018-04-16</td>\n",
              "      <td>0.000000</td>\n",
              "      <td>0.000000</td>\n",
              "      <td>7.371430</td>\n",
              "    </tr>\n",
              "    <tr>\n",
              "      <th>106</th>\n",
              "      <td>2018-04-17</td>\n",
              "      <td>4.068943</td>\n",
              "      <td>0.000000</td>\n",
              "      <td>0.000000</td>\n",
              "    </tr>\n",
              "    <tr>\n",
              "      <th>107</th>\n",
              "      <td>2018-04-18</td>\n",
              "      <td>0.000000</td>\n",
              "      <td>0.000000</td>\n",
              "      <td>6.600836</td>\n",
              "    </tr>\n",
              "    <tr>\n",
              "      <th>108</th>\n",
              "      <td>2018-04-19</td>\n",
              "      <td>0.000000</td>\n",
              "      <td>4.769193</td>\n",
              "      <td>0.642894</td>\n",
              "    </tr>\n",
              "    <tr>\n",
              "      <th>109</th>\n",
              "      <td>2018-04-20</td>\n",
              "      <td>0.336608</td>\n",
              "      <td>0.000000</td>\n",
              "      <td>0.000000</td>\n",
              "    </tr>\n",
              "    <tr>\n",
              "      <th>110</th>\n",
              "      <td>2018-04-21</td>\n",
              "      <td>14.585514</td>\n",
              "      <td>0.000000</td>\n",
              "      <td>0.352154</td>\n",
              "    </tr>\n",
              "    <tr>\n",
              "      <th>111</th>\n",
              "      <td>2018-04-22</td>\n",
              "      <td>0.000000</td>\n",
              "      <td>0.000000</td>\n",
              "      <td>0.000000</td>\n",
              "    </tr>\n",
              "    <tr>\n",
              "      <th>112</th>\n",
              "      <td>2018-04-23</td>\n",
              "      <td>1.218241</td>\n",
              "      <td>0.000000</td>\n",
              "      <td>0.000000</td>\n",
              "    </tr>\n",
              "    <tr>\n",
              "      <th>113</th>\n",
              "      <td>2018-04-24</td>\n",
              "      <td>0.000000</td>\n",
              "      <td>0.000000</td>\n",
              "      <td>0.000000</td>\n",
              "    </tr>\n",
              "    <tr>\n",
              "      <th>114</th>\n",
              "      <td>2018-04-25</td>\n",
              "      <td>1.101226</td>\n",
              "      <td>26.736233</td>\n",
              "      <td>0.000000</td>\n",
              "    </tr>\n",
              "    <tr>\n",
              "      <th>115</th>\n",
              "      <td>2018-04-26</td>\n",
              "      <td>0.154802</td>\n",
              "      <td>0.000000</td>\n",
              "      <td>0.000000</td>\n",
              "    </tr>\n",
              "    <tr>\n",
              "      <th>116</th>\n",
              "      <td>2018-04-27</td>\n",
              "      <td>2.216286</td>\n",
              "      <td>0.000000</td>\n",
              "      <td>0.000000</td>\n",
              "    </tr>\n",
              "    <tr>\n",
              "      <th>117</th>\n",
              "      <td>2018-04-28</td>\n",
              "      <td>0.000000</td>\n",
              "      <td>0.000000</td>\n",
              "      <td>0.000000</td>\n",
              "    </tr>\n",
              "    <tr>\n",
              "      <th>118</th>\n",
              "      <td>2018-04-29</td>\n",
              "      <td>0.000000</td>\n",
              "      <td>0.000000</td>\n",
              "      <td>0.000000</td>\n",
              "    </tr>\n",
              "    <tr>\n",
              "      <th>119</th>\n",
              "      <td>2018-04-30</td>\n",
              "      <td>0.000000</td>\n",
              "      <td>0.000000</td>\n",
              "      <td>0.000000</td>\n",
              "    </tr>\n",
              "    <tr>\n",
              "      <th>120</th>\n",
              "      <td>2018-05-01</td>\n",
              "      <td>23.717123</td>\n",
              "      <td>0.000000</td>\n",
              "      <td>0.000000</td>\n",
              "    </tr>\n",
              "    <tr>\n",
              "      <th>121</th>\n",
              "      <td>2018-05-02</td>\n",
              "      <td>0.000000</td>\n",
              "      <td>44.047413</td>\n",
              "      <td>0.000000</td>\n",
              "    </tr>\n",
              "    <tr>\n",
              "      <th>122</th>\n",
              "      <td>2018-05-03</td>\n",
              "      <td>0.206403</td>\n",
              "      <td>45.197727</td>\n",
              "      <td>0.000000</td>\n",
              "    </tr>\n",
              "    <tr>\n",
              "      <th>123</th>\n",
              "      <td>2018-05-04</td>\n",
              "      <td>26.993792</td>\n",
              "      <td>6.703269</td>\n",
              "      <td>0.000000</td>\n",
              "    </tr>\n",
              "    <tr>\n",
              "      <th>124</th>\n",
              "      <td>2018-05-05</td>\n",
              "      <td>0.000000</td>\n",
              "      <td>0.000000</td>\n",
              "      <td>6.825873</td>\n",
              "    </tr>\n",
              "    <tr>\n",
              "      <th>125</th>\n",
              "      <td>2018-05-06</td>\n",
              "      <td>0.000000</td>\n",
              "      <td>0.000000</td>\n",
              "      <td>5.649790</td>\n",
              "    </tr>\n",
              "    <tr>\n",
              "      <th>126</th>\n",
              "      <td>2018-05-07</td>\n",
              "      <td>0.000000</td>\n",
              "      <td>0.000000</td>\n",
              "      <td>1.168640</td>\n",
              "    </tr>\n",
              "    <tr>\n",
              "      <th>127</th>\n",
              "      <td>2018-05-08</td>\n",
              "      <td>0.000000</td>\n",
              "      <td>0.000000</td>\n",
              "      <td>0.000000</td>\n",
              "    </tr>\n",
              "    <tr>\n",
              "      <th>128</th>\n",
              "      <td>2018-05-09</td>\n",
              "      <td>0.103246</td>\n",
              "      <td>0.000000</td>\n",
              "      <td>0.181870</td>\n",
              "    </tr>\n",
              "    <tr>\n",
              "      <th>129</th>\n",
              "      <td>2018-05-10</td>\n",
              "      <td>0.000000</td>\n",
              "      <td>0.000000</td>\n",
              "      <td>5.782369</td>\n",
              "    </tr>\n",
              "    <tr>\n",
              "      <th>130</th>\n",
              "      <td>2018-05-11</td>\n",
              "      <td>31.144264</td>\n",
              "      <td>0.000000</td>\n",
              "      <td>33.324081</td>\n",
              "    </tr>\n",
              "    <tr>\n",
              "      <th>131</th>\n",
              "      <td>2018-05-12</td>\n",
              "      <td>22.132856</td>\n",
              "      <td>13.647026</td>\n",
              "      <td>0.000000</td>\n",
              "    </tr>\n",
              "    <tr>\n",
              "      <th>132</th>\n",
              "      <td>2018-05-13</td>\n",
              "      <td>0.000000</td>\n",
              "      <td>0.000000</td>\n",
              "      <td>6.247669</td>\n",
              "    </tr>\n",
              "    <tr>\n",
              "      <th>133</th>\n",
              "      <td>2018-05-14</td>\n",
              "      <td>7.360068</td>\n",
              "      <td>6.481775</td>\n",
              "      <td>4.679273</td>\n",
              "    </tr>\n",
              "    <tr>\n",
              "      <th>134</th>\n",
              "      <td>2018-05-15</td>\n",
              "      <td>5.593477</td>\n",
              "      <td>0.385872</td>\n",
              "      <td>14.520314</td>\n",
              "    </tr>\n",
              "    <tr>\n",
              "      <th>135</th>\n",
              "      <td>2018-05-16</td>\n",
              "      <td>1.827820</td>\n",
              "      <td>0.000000</td>\n",
              "      <td>0.000000</td>\n",
              "    </tr>\n",
              "    <tr>\n",
              "      <th>136</th>\n",
              "      <td>2018-05-17</td>\n",
              "      <td>0.000000</td>\n",
              "      <td>0.000000</td>\n",
              "      <td>0.895993</td>\n",
              "    </tr>\n",
              "    <tr>\n",
              "      <th>137</th>\n",
              "      <td>2018-05-18</td>\n",
              "      <td>0.000000</td>\n",
              "      <td>8.194389</td>\n",
              "      <td>11.614411</td>\n",
              "    </tr>\n",
              "    <tr>\n",
              "      <th>138</th>\n",
              "      <td>2018-05-19</td>\n",
              "      <td>3.334853</td>\n",
              "      <td>0.000000</td>\n",
              "      <td>0.000000</td>\n",
              "    </tr>\n",
              "    <tr>\n",
              "      <th>139</th>\n",
              "      <td>2018-05-20</td>\n",
              "      <td>11.982009</td>\n",
              "      <td>0.000000</td>\n",
              "      <td>9.722710</td>\n",
              "    </tr>\n",
              "    <tr>\n",
              "      <th>140</th>\n",
              "      <td>2018-05-21</td>\n",
              "      <td>0.000000</td>\n",
              "      <td>0.000000</td>\n",
              "      <td>0.000000</td>\n",
              "    </tr>\n",
              "    <tr>\n",
              "      <th>141</th>\n",
              "      <td>2018-05-22</td>\n",
              "      <td>9.661338</td>\n",
              "      <td>0.000000</td>\n",
              "      <td>18.563789</td>\n",
              "    </tr>\n",
              "    <tr>\n",
              "      <th>142</th>\n",
              "      <td>2018-05-23</td>\n",
              "      <td>0.000000</td>\n",
              "      <td>0.000000</td>\n",
              "      <td>11.266572</td>\n",
              "    </tr>\n",
              "    <tr>\n",
              "      <th>143</th>\n",
              "      <td>2018-05-24</td>\n",
              "      <td>8.044038</td>\n",
              "      <td>0.000000</td>\n",
              "      <td>16.762835</td>\n",
              "    </tr>\n",
              "    <tr>\n",
              "      <th>144</th>\n",
              "      <td>2018-05-25</td>\n",
              "      <td>0.000000</td>\n",
              "      <td>0.000000</td>\n",
              "      <td>6.818715</td>\n",
              "    </tr>\n",
              "    <tr>\n",
              "      <th>145</th>\n",
              "      <td>2018-05-26</td>\n",
              "      <td>19.471029</td>\n",
              "      <td>0.000000</td>\n",
              "      <td>0.000000</td>\n",
              "    </tr>\n",
              "    <tr>\n",
              "      <th>146</th>\n",
              "      <td>2018-05-27</td>\n",
              "      <td>8.987210</td>\n",
              "      <td>0.000000</td>\n",
              "      <td>8.647022</td>\n",
              "    </tr>\n",
              "    <tr>\n",
              "      <th>147</th>\n",
              "      <td>2018-05-28</td>\n",
              "      <td>0.000000</td>\n",
              "      <td>0.000000</td>\n",
              "      <td>0.000000</td>\n",
              "    </tr>\n",
              "    <tr>\n",
              "      <th>148</th>\n",
              "      <td>2018-05-29</td>\n",
              "      <td>0.000000</td>\n",
              "      <td>0.000000</td>\n",
              "      <td>2.117728</td>\n",
              "    </tr>\n",
              "    <tr>\n",
              "      <th>149</th>\n",
              "      <td>2018-05-30</td>\n",
              "      <td>0.000000</td>\n",
              "      <td>0.000000</td>\n",
              "      <td>32.725872</td>\n",
              "    </tr>\n",
              "    <tr>\n",
              "      <th>150</th>\n",
              "      <td>2018-05-31</td>\n",
              "      <td>27.900593</td>\n",
              "      <td>0.000000</td>\n",
              "      <td>0.000000</td>\n",
              "    </tr>\n",
              "    <tr>\n",
              "      <th>151</th>\n",
              "      <td>2018-06-01</td>\n",
              "      <td>0.000000</td>\n",
              "      <td>0.000000</td>\n",
              "      <td>0.000000</td>\n",
              "    </tr>\n",
              "    <tr>\n",
              "      <th>152</th>\n",
              "      <td>2018-06-02</td>\n",
              "      <td>13.509078</td>\n",
              "      <td>20.076761</td>\n",
              "      <td>5.792185</td>\n",
              "    </tr>\n",
              "    <tr>\n",
              "      <th>153</th>\n",
              "      <td>2018-06-03</td>\n",
              "      <td>17.177521</td>\n",
              "      <td>2.052287</td>\n",
              "      <td>23.429873</td>\n",
              "    </tr>\n",
              "    <tr>\n",
              "      <th>154</th>\n",
              "      <td>2018-06-04</td>\n",
              "      <td>2.465724</td>\n",
              "      <td>0.000000</td>\n",
              "      <td>2.844014</td>\n",
              "    </tr>\n",
              "    <tr>\n",
              "      <th>155</th>\n",
              "      <td>2018-06-05</td>\n",
              "      <td>0.000000</td>\n",
              "      <td>0.000000</td>\n",
              "      <td>4.339640</td>\n",
              "    </tr>\n",
              "    <tr>\n",
              "      <th>156</th>\n",
              "      <td>2018-06-06</td>\n",
              "      <td>0.834960</td>\n",
              "      <td>3.238665</td>\n",
              "      <td>0.161532</td>\n",
              "    </tr>\n",
              "    <tr>\n",
              "      <th>157</th>\n",
              "      <td>2018-06-07</td>\n",
              "      <td>0.000000</td>\n",
              "      <td>14.454426</td>\n",
              "      <td>0.000000</td>\n",
              "    </tr>\n",
              "    <tr>\n",
              "      <th>158</th>\n",
              "      <td>2018-06-08</td>\n",
              "      <td>4.416892</td>\n",
              "      <td>0.000000</td>\n",
              "      <td>2.234048</td>\n",
              "    </tr>\n",
              "    <tr>\n",
              "      <th>159</th>\n",
              "      <td>2018-06-09</td>\n",
              "      <td>1.976252</td>\n",
              "      <td>1.496209</td>\n",
              "      <td>3.029675</td>\n",
              "    </tr>\n",
              "    <tr>\n",
              "      <th>160</th>\n",
              "      <td>2018-06-10</td>\n",
              "      <td>0.720563</td>\n",
              "      <td>22.680408</td>\n",
              "      <td>7.743483</td>\n",
              "    </tr>\n",
              "    <tr>\n",
              "      <th>161</th>\n",
              "      <td>2018-06-11</td>\n",
              "      <td>1.460571</td>\n",
              "      <td>0.000000</td>\n",
              "      <td>31.592510</td>\n",
              "    </tr>\n",
              "    <tr>\n",
              "      <th>162</th>\n",
              "      <td>2018-06-12</td>\n",
              "      <td>0.000000</td>\n",
              "      <td>0.145283</td>\n",
              "      <td>6.871781</td>\n",
              "    </tr>\n",
              "    <tr>\n",
              "      <th>163</th>\n",
              "      <td>2018-06-13</td>\n",
              "      <td>0.000000</td>\n",
              "      <td>0.799057</td>\n",
              "      <td>0.788725</td>\n",
              "    </tr>\n",
              "    <tr>\n",
              "      <th>164</th>\n",
              "      <td>2018-06-14</td>\n",
              "      <td>1.204039</td>\n",
              "      <td>0.000000</td>\n",
              "      <td>0.000000</td>\n",
              "    </tr>\n",
              "    <tr>\n",
              "      <th>165</th>\n",
              "      <td>2018-06-15</td>\n",
              "      <td>2.727028</td>\n",
              "      <td>0.000000</td>\n",
              "      <td>0.000000</td>\n",
              "    </tr>\n",
              "    <tr>\n",
              "      <th>166</th>\n",
              "      <td>2018-06-16</td>\n",
              "      <td>8.275262</td>\n",
              "      <td>0.000000</td>\n",
              "      <td>0.000000</td>\n",
              "    </tr>\n",
              "    <tr>\n",
              "      <th>167</th>\n",
              "      <td>2018-06-17</td>\n",
              "      <td>2.898301</td>\n",
              "      <td>14.371573</td>\n",
              "      <td>0.507928</td>\n",
              "    </tr>\n",
              "    <tr>\n",
              "      <th>168</th>\n",
              "      <td>2018-06-18</td>\n",
              "      <td>1.158189</td>\n",
              "      <td>0.000000</td>\n",
              "      <td>1.071707</td>\n",
              "    </tr>\n",
              "    <tr>\n",
              "      <th>169</th>\n",
              "      <td>2018-06-19</td>\n",
              "      <td>4.181269</td>\n",
              "      <td>10.603214</td>\n",
              "      <td>5.081715</td>\n",
              "    </tr>\n",
              "    <tr>\n",
              "      <th>170</th>\n",
              "      <td>2018-06-20</td>\n",
              "      <td>0.000000</td>\n",
              "      <td>0.000000</td>\n",
              "      <td>2.321144</td>\n",
              "    </tr>\n",
              "    <tr>\n",
              "      <th>171</th>\n",
              "      <td>2018-06-21</td>\n",
              "      <td>0.000000</td>\n",
              "      <td>0.000000</td>\n",
              "      <td>4.173158</td>\n",
              "    </tr>\n",
              "    <tr>\n",
              "      <th>172</th>\n",
              "      <td>2018-06-22</td>\n",
              "      <td>0.000000</td>\n",
              "      <td>0.726919</td>\n",
              "      <td>0.000000</td>\n",
              "    </tr>\n",
              "    <tr>\n",
              "      <th>173</th>\n",
              "      <td>2018-06-23</td>\n",
              "      <td>0.371547</td>\n",
              "      <td>0.756886</td>\n",
              "      <td>0.000000</td>\n",
              "    </tr>\n",
              "    <tr>\n",
              "      <th>174</th>\n",
              "      <td>2018-06-24</td>\n",
              "      <td>14.598734</td>\n",
              "      <td>0.000000</td>\n",
              "      <td>2.884359</td>\n",
              "    </tr>\n",
              "    <tr>\n",
              "      <th>175</th>\n",
              "      <td>2018-06-25</td>\n",
              "      <td>0.000000</td>\n",
              "      <td>1.196814</td>\n",
              "      <td>2.853595</td>\n",
              "    </tr>\n",
              "    <tr>\n",
              "      <th>176</th>\n",
              "      <td>2018-06-26</td>\n",
              "      <td>0.000000</td>\n",
              "      <td>0.000000</td>\n",
              "      <td>1.744243</td>\n",
              "    </tr>\n",
              "    <tr>\n",
              "      <th>177</th>\n",
              "      <td>2018-06-27</td>\n",
              "      <td>0.000000</td>\n",
              "      <td>27.423923</td>\n",
              "      <td>0.689785</td>\n",
              "    </tr>\n",
              "    <tr>\n",
              "      <th>178</th>\n",
              "      <td>2018-06-28</td>\n",
              "      <td>0.000000</td>\n",
              "      <td>3.662837</td>\n",
              "      <td>23.322187</td>\n",
              "    </tr>\n",
              "    <tr>\n",
              "      <th>179</th>\n",
              "      <td>2018-06-29</td>\n",
              "      <td>0.000000</td>\n",
              "      <td>0.111074</td>\n",
              "      <td>0.806478</td>\n",
              "    </tr>\n",
              "    <tr>\n",
              "      <th>180</th>\n",
              "      <td>2018-06-30</td>\n",
              "      <td>0.000000</td>\n",
              "      <td>1.369766</td>\n",
              "      <td>1.187992</td>\n",
              "    </tr>\n",
              "    <tr>\n",
              "      <th>181</th>\n",
              "      <td>2018-07-01</td>\n",
              "      <td>0.270243</td>\n",
              "      <td>24.395733</td>\n",
              "      <td>0.615033</td>\n",
              "    </tr>\n",
              "    <tr>\n",
              "      <th>182</th>\n",
              "      <td>2018-07-02</td>\n",
              "      <td>0.000000</td>\n",
              "      <td>0.169497</td>\n",
              "      <td>0.000000</td>\n",
              "    </tr>\n",
              "    <tr>\n",
              "      <th>183</th>\n",
              "      <td>2018-07-03</td>\n",
              "      <td>0.526953</td>\n",
              "      <td>2.068441</td>\n",
              "      <td>0.651901</td>\n",
              "    </tr>\n",
              "    <tr>\n",
              "      <th>184</th>\n",
              "      <td>2018-07-04</td>\n",
              "      <td>0.000000</td>\n",
              "      <td>0.749079</td>\n",
              "      <td>0.389572</td>\n",
              "    </tr>\n",
              "    <tr>\n",
              "      <th>185</th>\n",
              "      <td>2018-07-05</td>\n",
              "      <td>0.000000</td>\n",
              "      <td>0.384322</td>\n",
              "      <td>2.602343</td>\n",
              "    </tr>\n",
              "    <tr>\n",
              "      <th>186</th>\n",
              "      <td>2018-07-06</td>\n",
              "      <td>0.000000</td>\n",
              "      <td>0.000000</td>\n",
              "      <td>3.391201</td>\n",
              "    </tr>\n",
              "    <tr>\n",
              "      <th>187</th>\n",
              "      <td>2018-07-07</td>\n",
              "      <td>0.221193</td>\n",
              "      <td>2.269768</td>\n",
              "      <td>0.355003</td>\n",
              "    </tr>\n",
              "    <tr>\n",
              "      <th>188</th>\n",
              "      <td>2018-07-08</td>\n",
              "      <td>0.000000</td>\n",
              "      <td>0.000000</td>\n",
              "      <td>1.871415</td>\n",
              "    </tr>\n",
              "    <tr>\n",
              "      <th>189</th>\n",
              "      <td>2018-07-09</td>\n",
              "      <td>0.674290</td>\n",
              "      <td>8.970670</td>\n",
              "      <td>12.150935</td>\n",
              "    </tr>\n",
              "    <tr>\n",
              "      <th>190</th>\n",
              "      <td>2018-07-10</td>\n",
              "      <td>1.055017</td>\n",
              "      <td>0.000000</td>\n",
              "      <td>1.507408</td>\n",
              "    </tr>\n",
              "    <tr>\n",
              "      <th>191</th>\n",
              "      <td>2018-07-11</td>\n",
              "      <td>12.923486</td>\n",
              "      <td>0.131251</td>\n",
              "      <td>6.605257</td>\n",
              "    </tr>\n",
              "    <tr>\n",
              "      <th>192</th>\n",
              "      <td>2018-07-12</td>\n",
              "      <td>6.696092</td>\n",
              "      <td>3.833158</td>\n",
              "      <td>5.060530</td>\n",
              "    </tr>\n",
              "    <tr>\n",
              "      <th>193</th>\n",
              "      <td>2018-07-13</td>\n",
              "      <td>0.000000</td>\n",
              "      <td>0.115296</td>\n",
              "      <td>8.933652</td>\n",
              "    </tr>\n",
              "    <tr>\n",
              "      <th>194</th>\n",
              "      <td>2018-07-14</td>\n",
              "      <td>2.146757</td>\n",
              "      <td>0.000000</td>\n",
              "      <td>4.247991</td>\n",
              "    </tr>\n",
              "    <tr>\n",
              "      <th>195</th>\n",
              "      <td>2018-07-15</td>\n",
              "      <td>0.634238</td>\n",
              "      <td>3.506162</td>\n",
              "      <td>4.763731</td>\n",
              "    </tr>\n",
              "    <tr>\n",
              "      <th>196</th>\n",
              "      <td>2018-07-16</td>\n",
              "      <td>0.000000</td>\n",
              "      <td>0.239688</td>\n",
              "      <td>18.216656</td>\n",
              "    </tr>\n",
              "    <tr>\n",
              "      <th>197</th>\n",
              "      <td>2018-07-17</td>\n",
              "      <td>0.176331</td>\n",
              "      <td>0.549045</td>\n",
              "      <td>9.150002</td>\n",
              "    </tr>\n",
              "    <tr>\n",
              "      <th>198</th>\n",
              "      <td>2018-07-18</td>\n",
              "      <td>0.000000</td>\n",
              "      <td>0.120019</td>\n",
              "      <td>2.095705</td>\n",
              "    </tr>\n",
              "    <tr>\n",
              "      <th>199</th>\n",
              "      <td>2018-07-19</td>\n",
              "      <td>0.000000</td>\n",
              "      <td>4.464284</td>\n",
              "      <td>1.654149</td>\n",
              "    </tr>\n",
              "    <tr>\n",
              "      <th>200</th>\n",
              "      <td>2018-07-20</td>\n",
              "      <td>0.000000</td>\n",
              "      <td>13.981240</td>\n",
              "      <td>2.188405</td>\n",
              "    </tr>\n",
              "    <tr>\n",
              "      <th>201</th>\n",
              "      <td>2018-07-21</td>\n",
              "      <td>0.000000</td>\n",
              "      <td>24.389908</td>\n",
              "      <td>3.979766</td>\n",
              "    </tr>\n",
              "    <tr>\n",
              "      <th>202</th>\n",
              "      <td>2018-07-22</td>\n",
              "      <td>0.000000</td>\n",
              "      <td>0.364630</td>\n",
              "      <td>5.576748</td>\n",
              "    </tr>\n",
              "    <tr>\n",
              "      <th>203</th>\n",
              "      <td>2018-07-23</td>\n",
              "      <td>0.000000</td>\n",
              "      <td>0.000000</td>\n",
              "      <td>2.899499</td>\n",
              "    </tr>\n",
              "    <tr>\n",
              "      <th>204</th>\n",
              "      <td>2018-07-24</td>\n",
              "      <td>11.870148</td>\n",
              "      <td>0.000000</td>\n",
              "      <td>2.471497</td>\n",
              "    </tr>\n",
              "    <tr>\n",
              "      <th>205</th>\n",
              "      <td>2018-07-25</td>\n",
              "      <td>1.924266</td>\n",
              "      <td>8.696195</td>\n",
              "      <td>1.397296</td>\n",
              "    </tr>\n",
              "    <tr>\n",
              "      <th>206</th>\n",
              "      <td>2018-07-26</td>\n",
              "      <td>1.233681</td>\n",
              "      <td>0.907717</td>\n",
              "      <td>1.017097</td>\n",
              "    </tr>\n",
              "    <tr>\n",
              "      <th>207</th>\n",
              "      <td>2018-07-27</td>\n",
              "      <td>0.213886</td>\n",
              "      <td>0.000000</td>\n",
              "      <td>3.100363</td>\n",
              "    </tr>\n",
              "    <tr>\n",
              "      <th>208</th>\n",
              "      <td>2018-07-28</td>\n",
              "      <td>0.107324</td>\n",
              "      <td>0.000000</td>\n",
              "      <td>2.347271</td>\n",
              "    </tr>\n",
              "    <tr>\n",
              "      <th>209</th>\n",
              "      <td>2018-07-29</td>\n",
              "      <td>6.914366</td>\n",
              "      <td>0.513072</td>\n",
              "      <td>1.181937</td>\n",
              "    </tr>\n",
              "    <tr>\n",
              "      <th>210</th>\n",
              "      <td>2018-07-30</td>\n",
              "      <td>0.147794</td>\n",
              "      <td>12.509553</td>\n",
              "      <td>0.000000</td>\n",
              "    </tr>\n",
              "    <tr>\n",
              "      <th>211</th>\n",
              "      <td>2018-07-31</td>\n",
              "      <td>3.478093</td>\n",
              "      <td>1.293121</td>\n",
              "      <td>0.384975</td>\n",
              "    </tr>\n",
              "    <tr>\n",
              "      <th>212</th>\n",
              "      <td>2018-08-01</td>\n",
              "      <td>7.098416</td>\n",
              "      <td>0.000000</td>\n",
              "      <td>2.689033</td>\n",
              "    </tr>\n",
              "    <tr>\n",
              "      <th>213</th>\n",
              "      <td>2018-08-02</td>\n",
              "      <td>2.761951</td>\n",
              "      <td>0.000000</td>\n",
              "      <td>0.793497</td>\n",
              "    </tr>\n",
              "    <tr>\n",
              "      <th>214</th>\n",
              "      <td>2018-08-03</td>\n",
              "      <td>0.000000</td>\n",
              "      <td>3.013160</td>\n",
              "      <td>0.477260</td>\n",
              "    </tr>\n",
              "    <tr>\n",
              "      <th>215</th>\n",
              "      <td>2018-08-04</td>\n",
              "      <td>0.932755</td>\n",
              "      <td>0.000000</td>\n",
              "      <td>0.807722</td>\n",
              "    </tr>\n",
              "    <tr>\n",
              "      <th>216</th>\n",
              "      <td>2018-08-05</td>\n",
              "      <td>0.000000</td>\n",
              "      <td>5.472329</td>\n",
              "      <td>2.016234</td>\n",
              "    </tr>\n",
              "    <tr>\n",
              "      <th>217</th>\n",
              "      <td>2018-08-06</td>\n",
              "      <td>0.167228</td>\n",
              "      <td>0.000000</td>\n",
              "      <td>3.269118</td>\n",
              "    </tr>\n",
              "    <tr>\n",
              "      <th>218</th>\n",
              "      <td>2018-08-07</td>\n",
              "      <td>9.668523</td>\n",
              "      <td>2.456919</td>\n",
              "      <td>3.824238</td>\n",
              "    </tr>\n",
              "    <tr>\n",
              "      <th>219</th>\n",
              "      <td>2018-08-08</td>\n",
              "      <td>2.050490</td>\n",
              "      <td>5.915369</td>\n",
              "      <td>2.316491</td>\n",
              "    </tr>\n",
              "    <tr>\n",
              "      <th>220</th>\n",
              "      <td>2018-08-09</td>\n",
              "      <td>6.961413</td>\n",
              "      <td>0.000000</td>\n",
              "      <td>4.145689</td>\n",
              "    </tr>\n",
              "    <tr>\n",
              "      <th>221</th>\n",
              "      <td>2018-08-10</td>\n",
              "      <td>0.117554</td>\n",
              "      <td>0.000000</td>\n",
              "      <td>0.776922</td>\n",
              "    </tr>\n",
              "    <tr>\n",
              "      <th>222</th>\n",
              "      <td>2018-08-11</td>\n",
              "      <td>3.115163</td>\n",
              "      <td>22.935188</td>\n",
              "      <td>2.353689</td>\n",
              "    </tr>\n",
              "    <tr>\n",
              "      <th>223</th>\n",
              "      <td>2018-08-12</td>\n",
              "      <td>0.946810</td>\n",
              "      <td>10.688773</td>\n",
              "      <td>9.540451</td>\n",
              "    </tr>\n",
              "    <tr>\n",
              "      <th>224</th>\n",
              "      <td>2018-08-13</td>\n",
              "      <td>1.947657</td>\n",
              "      <td>14.614695</td>\n",
              "      <td>11.305964</td>\n",
              "    </tr>\n",
              "    <tr>\n",
              "      <th>225</th>\n",
              "      <td>2018-08-14</td>\n",
              "      <td>1.201510</td>\n",
              "      <td>18.112751</td>\n",
              "      <td>7.914021</td>\n",
              "    </tr>\n",
              "    <tr>\n",
              "      <th>226</th>\n",
              "      <td>2018-08-15</td>\n",
              "      <td>6.339376</td>\n",
              "      <td>49.745964</td>\n",
              "      <td>3.044865</td>\n",
              "    </tr>\n",
              "    <tr>\n",
              "      <th>227</th>\n",
              "      <td>2018-08-16</td>\n",
              "      <td>4.002475</td>\n",
              "      <td>7.231176</td>\n",
              "      <td>7.593417</td>\n",
              "    </tr>\n",
              "    <tr>\n",
              "      <th>228</th>\n",
              "      <td>2018-08-17</td>\n",
              "      <td>0.226555</td>\n",
              "      <td>0.000000</td>\n",
              "      <td>7.635566</td>\n",
              "    </tr>\n",
              "    <tr>\n",
              "      <th>229</th>\n",
              "      <td>2018-08-18</td>\n",
              "      <td>0.000000</td>\n",
              "      <td>0.230593</td>\n",
              "      <td>0.302612</td>\n",
              "    </tr>\n",
              "    <tr>\n",
              "      <th>230</th>\n",
              "      <td>2018-08-19</td>\n",
              "      <td>0.364506</td>\n",
              "      <td>0.000000</td>\n",
              "      <td>0.798041</td>\n",
              "    </tr>\n",
              "    <tr>\n",
              "      <th>231</th>\n",
              "      <td>2018-08-20</td>\n",
              "      <td>0.000000</td>\n",
              "      <td>58.726952</td>\n",
              "      <td>2.245375</td>\n",
              "    </tr>\n",
              "    <tr>\n",
              "      <th>232</th>\n",
              "      <td>2018-08-21</td>\n",
              "      <td>0.452613</td>\n",
              "      <td>0.183715</td>\n",
              "      <td>2.336836</td>\n",
              "    </tr>\n",
              "    <tr>\n",
              "      <th>233</th>\n",
              "      <td>2018-08-22</td>\n",
              "      <td>0.000000</td>\n",
              "      <td>0.000000</td>\n",
              "      <td>1.650134</td>\n",
              "    </tr>\n",
              "    <tr>\n",
              "      <th>234</th>\n",
              "      <td>2018-08-23</td>\n",
              "      <td>0.000000</td>\n",
              "      <td>0.000000</td>\n",
              "      <td>2.700344</td>\n",
              "    </tr>\n",
              "    <tr>\n",
              "      <th>235</th>\n",
              "      <td>2018-08-24</td>\n",
              "      <td>4.410487</td>\n",
              "      <td>0.000000</td>\n",
              "      <td>0.488355</td>\n",
              "    </tr>\n",
              "    <tr>\n",
              "      <th>236</th>\n",
              "      <td>2018-08-25</td>\n",
              "      <td>24.707186</td>\n",
              "      <td>11.333662</td>\n",
              "      <td>0.385062</td>\n",
              "    </tr>\n",
              "    <tr>\n",
              "      <th>237</th>\n",
              "      <td>2018-08-26</td>\n",
              "      <td>0.000000</td>\n",
              "      <td>10.966830</td>\n",
              "      <td>0.000000</td>\n",
              "    </tr>\n",
              "    <tr>\n",
              "      <th>238</th>\n",
              "      <td>2018-08-27</td>\n",
              "      <td>7.066688</td>\n",
              "      <td>1.125552</td>\n",
              "      <td>0.832116</td>\n",
              "    </tr>\n",
              "    <tr>\n",
              "      <th>239</th>\n",
              "      <td>2018-08-28</td>\n",
              "      <td>1.720872</td>\n",
              "      <td>0.125292</td>\n",
              "      <td>2.047982</td>\n",
              "    </tr>\n",
              "    <tr>\n",
              "      <th>240</th>\n",
              "      <td>2018-08-29</td>\n",
              "      <td>4.873739</td>\n",
              "      <td>3.696362</td>\n",
              "      <td>0.532730</td>\n",
              "    </tr>\n",
              "    <tr>\n",
              "      <th>241</th>\n",
              "      <td>2018-08-30</td>\n",
              "      <td>1.578289</td>\n",
              "      <td>0.000000</td>\n",
              "      <td>1.195186</td>\n",
              "    </tr>\n",
              "    <tr>\n",
              "      <th>242</th>\n",
              "      <td>2018-08-31</td>\n",
              "      <td>20.342546</td>\n",
              "      <td>29.990843</td>\n",
              "      <td>1.022542</td>\n",
              "    </tr>\n",
              "    <tr>\n",
              "      <th>243</th>\n",
              "      <td>2018-09-01</td>\n",
              "      <td>0.000000</td>\n",
              "      <td>11.137969</td>\n",
              "      <td>1.063220</td>\n",
              "    </tr>\n",
              "    <tr>\n",
              "      <th>244</th>\n",
              "      <td>2018-09-02</td>\n",
              "      <td>0.000000</td>\n",
              "      <td>10.376225</td>\n",
              "      <td>1.053912</td>\n",
              "    </tr>\n",
              "    <tr>\n",
              "      <th>245</th>\n",
              "      <td>2018-09-03</td>\n",
              "      <td>0.000000</td>\n",
              "      <td>0.000000</td>\n",
              "      <td>0.201313</td>\n",
              "    </tr>\n",
              "    <tr>\n",
              "      <th>246</th>\n",
              "      <td>2018-09-04</td>\n",
              "      <td>0.000000</td>\n",
              "      <td>0.000000</td>\n",
              "      <td>0.000000</td>\n",
              "    </tr>\n",
              "    <tr>\n",
              "      <th>247</th>\n",
              "      <td>2018-09-05</td>\n",
              "      <td>0.000000</td>\n",
              "      <td>5.472329</td>\n",
              "      <td>1.432621</td>\n",
              "    </tr>\n",
              "    <tr>\n",
              "      <th>248</th>\n",
              "      <td>2018-09-06</td>\n",
              "      <td>0.000000</td>\n",
              "      <td>0.000000</td>\n",
              "      <td>0.703030</td>\n",
              "    </tr>\n",
              "    <tr>\n",
              "      <th>249</th>\n",
              "      <td>2018-09-07</td>\n",
              "      <td>0.000000</td>\n",
              "      <td>0.125292</td>\n",
              "      <td>0.000000</td>\n",
              "    </tr>\n",
              "    <tr>\n",
              "      <th>250</th>\n",
              "      <td>2018-09-08</td>\n",
              "      <td>0.000000</td>\n",
              "      <td>0.000000</td>\n",
              "      <td>2.980548</td>\n",
              "    </tr>\n",
              "    <tr>\n",
              "      <th>251</th>\n",
              "      <td>2018-09-09</td>\n",
              "      <td>0.000000</td>\n",
              "      <td>0.000000</td>\n",
              "      <td>0.238152</td>\n",
              "    </tr>\n",
              "    <tr>\n",
              "      <th>252</th>\n",
              "      <td>2018-09-10</td>\n",
              "      <td>0.000000</td>\n",
              "      <td>0.000000</td>\n",
              "      <td>0.000000</td>\n",
              "    </tr>\n",
              "    <tr>\n",
              "      <th>253</th>\n",
              "      <td>2018-09-11</td>\n",
              "      <td>0.101196</td>\n",
              "      <td>1.407964</td>\n",
              "      <td>0.000000</td>\n",
              "    </tr>\n",
              "    <tr>\n",
              "      <th>254</th>\n",
              "      <td>2018-09-12</td>\n",
              "      <td>0.000000</td>\n",
              "      <td>1.758719</td>\n",
              "      <td>0.000000</td>\n",
              "    </tr>\n",
              "    <tr>\n",
              "      <th>255</th>\n",
              "      <td>2018-09-13</td>\n",
              "      <td>0.000000</td>\n",
              "      <td>6.789930</td>\n",
              "      <td>0.000000</td>\n",
              "    </tr>\n",
              "    <tr>\n",
              "      <th>256</th>\n",
              "      <td>2018-09-14</td>\n",
              "      <td>1.181959</td>\n",
              "      <td>0.153729</td>\n",
              "      <td>0.000000</td>\n",
              "    </tr>\n",
              "    <tr>\n",
              "      <th>257</th>\n",
              "      <td>2018-09-15</td>\n",
              "      <td>22.004560</td>\n",
              "      <td>0.942620</td>\n",
              "      <td>0.000000</td>\n",
              "    </tr>\n",
              "    <tr>\n",
              "      <th>258</th>\n",
              "      <td>2018-09-16</td>\n",
              "      <td>7.605023</td>\n",
              "      <td>2.536681</td>\n",
              "      <td>0.000000</td>\n",
              "    </tr>\n",
              "    <tr>\n",
              "      <th>259</th>\n",
              "      <td>2018-09-17</td>\n",
              "      <td>40.105827</td>\n",
              "      <td>8.963693</td>\n",
              "      <td>0.000000</td>\n",
              "    </tr>\n",
              "    <tr>\n",
              "      <th>260</th>\n",
              "      <td>2018-09-18</td>\n",
              "      <td>5.462226</td>\n",
              "      <td>0.886640</td>\n",
              "      <td>0.618256</td>\n",
              "    </tr>\n",
              "    <tr>\n",
              "      <th>261</th>\n",
              "      <td>2018-09-19</td>\n",
              "      <td>0.000000</td>\n",
              "      <td>0.000000</td>\n",
              "      <td>0.000000</td>\n",
              "    </tr>\n",
              "    <tr>\n",
              "      <th>262</th>\n",
              "      <td>2018-09-20</td>\n",
              "      <td>0.000000</td>\n",
              "      <td>15.410845</td>\n",
              "      <td>0.000000</td>\n",
              "    </tr>\n",
              "    <tr>\n",
              "      <th>263</th>\n",
              "      <td>2018-09-21</td>\n",
              "      <td>9.723103</td>\n",
              "      <td>29.723883</td>\n",
              "      <td>20.432560</td>\n",
              "    </tr>\n",
              "    <tr>\n",
              "      <th>264</th>\n",
              "      <td>2018-09-22</td>\n",
              "      <td>0.000000</td>\n",
              "      <td>31.541996</td>\n",
              "      <td>0.000000</td>\n",
              "    </tr>\n",
              "    <tr>\n",
              "      <th>265</th>\n",
              "      <td>2018-09-23</td>\n",
              "      <td>0.000000</td>\n",
              "      <td>0.000000</td>\n",
              "      <td>0.000000</td>\n",
              "    </tr>\n",
              "    <tr>\n",
              "      <th>266</th>\n",
              "      <td>2018-09-24</td>\n",
              "      <td>18.361101</td>\n",
              "      <td>0.691779</td>\n",
              "      <td>0.000000</td>\n",
              "    </tr>\n",
              "    <tr>\n",
              "      <th>267</th>\n",
              "      <td>2018-09-25</td>\n",
              "      <td>13.147305</td>\n",
              "      <td>0.000000</td>\n",
              "      <td>0.000000</td>\n",
              "    </tr>\n",
              "    <tr>\n",
              "      <th>268</th>\n",
              "      <td>2018-09-26</td>\n",
              "      <td>1.372106</td>\n",
              "      <td>1.880631</td>\n",
              "      <td>4.317886</td>\n",
              "    </tr>\n",
              "    <tr>\n",
              "      <th>269</th>\n",
              "      <td>2018-09-27</td>\n",
              "      <td>22.749176</td>\n",
              "      <td>0.000000</td>\n",
              "      <td>2.875689</td>\n",
              "    </tr>\n",
              "    <tr>\n",
              "      <th>270</th>\n",
              "      <td>2018-09-28</td>\n",
              "      <td>1.867532</td>\n",
              "      <td>0.000000</td>\n",
              "      <td>11.156343</td>\n",
              "    </tr>\n",
              "    <tr>\n",
              "      <th>271</th>\n",
              "      <td>2018-09-29</td>\n",
              "      <td>2.336798</td>\n",
              "      <td>0.000000</td>\n",
              "      <td>17.780731</td>\n",
              "    </tr>\n",
              "    <tr>\n",
              "      <th>272</th>\n",
              "      <td>2018-09-30</td>\n",
              "      <td>0.000000</td>\n",
              "      <td>0.000000</td>\n",
              "      <td>0.000000</td>\n",
              "    </tr>\n",
              "    <tr>\n",
              "      <th>273</th>\n",
              "      <td>2018-10-01</td>\n",
              "      <td>0.726531</td>\n",
              "      <td>0.000000</td>\n",
              "      <td>3.795102</td>\n",
              "    </tr>\n",
              "    <tr>\n",
              "      <th>274</th>\n",
              "      <td>2018-10-02</td>\n",
              "      <td>0.000000</td>\n",
              "      <td>0.000000</td>\n",
              "      <td>0.605012</td>\n",
              "    </tr>\n",
              "    <tr>\n",
              "      <th>275</th>\n",
              "      <td>2018-10-03</td>\n",
              "      <td>0.000000</td>\n",
              "      <td>0.000000</td>\n",
              "      <td>0.702520</td>\n",
              "    </tr>\n",
              "    <tr>\n",
              "      <th>276</th>\n",
              "      <td>2018-10-04</td>\n",
              "      <td>10.591330</td>\n",
              "      <td>0.000000</td>\n",
              "      <td>0.000000</td>\n",
              "    </tr>\n",
              "    <tr>\n",
              "      <th>277</th>\n",
              "      <td>2018-10-05</td>\n",
              "      <td>13.186159</td>\n",
              "      <td>0.000000</td>\n",
              "      <td>0.000000</td>\n",
              "    </tr>\n",
              "    <tr>\n",
              "      <th>278</th>\n",
              "      <td>2018-10-06</td>\n",
              "      <td>1.794833</td>\n",
              "      <td>0.000000</td>\n",
              "      <td>2.344923</td>\n",
              "    </tr>\n",
              "    <tr>\n",
              "      <th>279</th>\n",
              "      <td>2018-10-07</td>\n",
              "      <td>4.362407</td>\n",
              "      <td>0.000000</td>\n",
              "      <td>3.921000</td>\n",
              "    </tr>\n",
              "    <tr>\n",
              "      <th>280</th>\n",
              "      <td>2018-10-08</td>\n",
              "      <td>0.000000</td>\n",
              "      <td>0.000000</td>\n",
              "      <td>0.000000</td>\n",
              "    </tr>\n",
              "    <tr>\n",
              "      <th>281</th>\n",
              "      <td>2018-10-09</td>\n",
              "      <td>7.939789</td>\n",
              "      <td>0.000000</td>\n",
              "      <td>0.189396</td>\n",
              "    </tr>\n",
              "    <tr>\n",
              "      <th>282</th>\n",
              "      <td>2018-10-10</td>\n",
              "      <td>0.000000</td>\n",
              "      <td>0.000000</td>\n",
              "      <td>0.517777</td>\n",
              "    </tr>\n",
              "    <tr>\n",
              "      <th>283</th>\n",
              "      <td>2018-10-11</td>\n",
              "      <td>0.000000</td>\n",
              "      <td>0.788906</td>\n",
              "      <td>0.000000</td>\n",
              "    </tr>\n",
              "    <tr>\n",
              "      <th>284</th>\n",
              "      <td>2018-10-12</td>\n",
              "      <td>0.000000</td>\n",
              "      <td>0.000000</td>\n",
              "      <td>0.000000</td>\n",
              "    </tr>\n",
              "    <tr>\n",
              "      <th>285</th>\n",
              "      <td>2018-10-13</td>\n",
              "      <td>0.000000</td>\n",
              "      <td>3.824238</td>\n",
              "      <td>0.000000</td>\n",
              "    </tr>\n",
              "    <tr>\n",
              "      <th>286</th>\n",
              "      <td>2018-10-14</td>\n",
              "      <td>0.000000</td>\n",
              "      <td>4.953257</td>\n",
              "      <td>0.000000</td>\n",
              "    </tr>\n",
              "    <tr>\n",
              "      <th>287</th>\n",
              "      <td>2018-10-15</td>\n",
              "      <td>5.356080</td>\n",
              "      <td>3.907850</td>\n",
              "      <td>0.000000</td>\n",
              "    </tr>\n",
              "    <tr>\n",
              "      <th>288</th>\n",
              "      <td>2018-10-16</td>\n",
              "      <td>1.693744</td>\n",
              "      <td>1.211578</td>\n",
              "      <td>4.045506</td>\n",
              "    </tr>\n",
              "    <tr>\n",
              "      <th>289</th>\n",
              "      <td>2018-10-17</td>\n",
              "      <td>0.000000</td>\n",
              "      <td>0.000000</td>\n",
              "      <td>31.525087</td>\n",
              "    </tr>\n",
              "    <tr>\n",
              "      <th>290</th>\n",
              "      <td>2018-10-18</td>\n",
              "      <td>22.365135</td>\n",
              "      <td>0.000000</td>\n",
              "      <td>2.659493</td>\n",
              "    </tr>\n",
              "    <tr>\n",
              "      <th>291</th>\n",
              "      <td>2018-10-19</td>\n",
              "      <td>0.433004</td>\n",
              "      <td>0.000000</td>\n",
              "      <td>0.000000</td>\n",
              "    </tr>\n",
              "    <tr>\n",
              "      <th>292</th>\n",
              "      <td>2018-10-20</td>\n",
              "      <td>0.000000</td>\n",
              "      <td>0.000000</td>\n",
              "      <td>1.175782</td>\n",
              "    </tr>\n",
              "    <tr>\n",
              "      <th>293</th>\n",
              "      <td>2018-10-21</td>\n",
              "      <td>0.000000</td>\n",
              "      <td>0.000000</td>\n",
              "      <td>0.000000</td>\n",
              "    </tr>\n",
              "    <tr>\n",
              "      <th>294</th>\n",
              "      <td>2018-10-22</td>\n",
              "      <td>0.000000</td>\n",
              "      <td>0.000000</td>\n",
              "      <td>0.000000</td>\n",
              "    </tr>\n",
              "    <tr>\n",
              "      <th>295</th>\n",
              "      <td>2018-10-23</td>\n",
              "      <td>0.000000</td>\n",
              "      <td>0.000000</td>\n",
              "      <td>0.000000</td>\n",
              "    </tr>\n",
              "    <tr>\n",
              "      <th>296</th>\n",
              "      <td>2018-10-24</td>\n",
              "      <td>0.000000</td>\n",
              "      <td>0.000000</td>\n",
              "      <td>0.000000</td>\n",
              "    </tr>\n",
              "    <tr>\n",
              "      <th>297</th>\n",
              "      <td>2018-10-25</td>\n",
              "      <td>0.000000</td>\n",
              "      <td>0.000000</td>\n",
              "      <td>2.065098</td>\n",
              "    </tr>\n",
              "    <tr>\n",
              "      <th>298</th>\n",
              "      <td>2018-10-26</td>\n",
              "      <td>0.000000</td>\n",
              "      <td>0.000000</td>\n",
              "      <td>0.000000</td>\n",
              "    </tr>\n",
              "    <tr>\n",
              "      <th>299</th>\n",
              "      <td>2018-10-27</td>\n",
              "      <td>0.000000</td>\n",
              "      <td>0.000000</td>\n",
              "      <td>0.000000</td>\n",
              "    </tr>\n",
              "    <tr>\n",
              "      <th>300</th>\n",
              "      <td>2018-10-28</td>\n",
              "      <td>0.000000</td>\n",
              "      <td>0.000000</td>\n",
              "      <td>0.000000</td>\n",
              "    </tr>\n",
              "    <tr>\n",
              "      <th>301</th>\n",
              "      <td>2018-10-29</td>\n",
              "      <td>0.000000</td>\n",
              "      <td>0.000000</td>\n",
              "      <td>0.000000</td>\n",
              "    </tr>\n",
              "    <tr>\n",
              "      <th>302</th>\n",
              "      <td>2018-10-30</td>\n",
              "      <td>0.000000</td>\n",
              "      <td>0.000000</td>\n",
              "      <td>0.000000</td>\n",
              "    </tr>\n",
              "    <tr>\n",
              "      <th>303</th>\n",
              "      <td>2018-10-31</td>\n",
              "      <td>0.000000</td>\n",
              "      <td>0.000000</td>\n",
              "      <td>0.000000</td>\n",
              "    </tr>\n",
              "    <tr>\n",
              "      <th>304</th>\n",
              "      <td>2018-11-01</td>\n",
              "      <td>0.000000</td>\n",
              "      <td>3.137456</td>\n",
              "      <td>0.000000</td>\n",
              "    </tr>\n",
              "    <tr>\n",
              "      <th>305</th>\n",
              "      <td>2018-11-02</td>\n",
              "      <td>0.000000</td>\n",
              "      <td>0.000000</td>\n",
              "      <td>0.000000</td>\n",
              "    </tr>\n",
              "    <tr>\n",
              "      <th>306</th>\n",
              "      <td>2018-11-03</td>\n",
              "      <td>0.452662</td>\n",
              "      <td>0.000000</td>\n",
              "      <td>0.000000</td>\n",
              "    </tr>\n",
              "    <tr>\n",
              "      <th>307</th>\n",
              "      <td>2018-11-04</td>\n",
              "      <td>1.442290</td>\n",
              "      <td>0.000000</td>\n",
              "      <td>0.000000</td>\n",
              "    </tr>\n",
              "    <tr>\n",
              "      <th>308</th>\n",
              "      <td>2018-11-05</td>\n",
              "      <td>0.000000</td>\n",
              "      <td>0.000000</td>\n",
              "      <td>0.000000</td>\n",
              "    </tr>\n",
              "    <tr>\n",
              "      <th>309</th>\n",
              "      <td>2018-11-06</td>\n",
              "      <td>0.000000</td>\n",
              "      <td>0.000000</td>\n",
              "      <td>0.000000</td>\n",
              "    </tr>\n",
              "    <tr>\n",
              "      <th>310</th>\n",
              "      <td>2018-11-07</td>\n",
              "      <td>0.000000</td>\n",
              "      <td>0.000000</td>\n",
              "      <td>0.000000</td>\n",
              "    </tr>\n",
              "    <tr>\n",
              "      <th>311</th>\n",
              "      <td>2018-11-08</td>\n",
              "      <td>0.000000</td>\n",
              "      <td>0.000000</td>\n",
              "      <td>0.000000</td>\n",
              "    </tr>\n",
              "    <tr>\n",
              "      <th>312</th>\n",
              "      <td>2018-11-09</td>\n",
              "      <td>0.000000</td>\n",
              "      <td>0.000000</td>\n",
              "      <td>0.000000</td>\n",
              "    </tr>\n",
              "    <tr>\n",
              "      <th>313</th>\n",
              "      <td>2018-11-10</td>\n",
              "      <td>0.000000</td>\n",
              "      <td>0.000000</td>\n",
              "      <td>0.000000</td>\n",
              "    </tr>\n",
              "    <tr>\n",
              "      <th>314</th>\n",
              "      <td>2018-11-11</td>\n",
              "      <td>0.000000</td>\n",
              "      <td>0.000000</td>\n",
              "      <td>0.000000</td>\n",
              "    </tr>\n",
              "    <tr>\n",
              "      <th>315</th>\n",
              "      <td>2018-11-12</td>\n",
              "      <td>0.000000</td>\n",
              "      <td>0.000000</td>\n",
              "      <td>0.000000</td>\n",
              "    </tr>\n",
              "    <tr>\n",
              "      <th>316</th>\n",
              "      <td>2018-11-13</td>\n",
              "      <td>0.000000</td>\n",
              "      <td>0.000000</td>\n",
              "      <td>0.000000</td>\n",
              "    </tr>\n",
              "    <tr>\n",
              "      <th>317</th>\n",
              "      <td>2018-11-14</td>\n",
              "      <td>0.000000</td>\n",
              "      <td>0.000000</td>\n",
              "      <td>0.000000</td>\n",
              "    </tr>\n",
              "    <tr>\n",
              "      <th>318</th>\n",
              "      <td>2018-11-15</td>\n",
              "      <td>0.000000</td>\n",
              "      <td>0.000000</td>\n",
              "      <td>0.000000</td>\n",
              "    </tr>\n",
              "    <tr>\n",
              "      <th>319</th>\n",
              "      <td>2018-11-16</td>\n",
              "      <td>0.446973</td>\n",
              "      <td>0.000000</td>\n",
              "      <td>0.000000</td>\n",
              "    </tr>\n",
              "    <tr>\n",
              "      <th>320</th>\n",
              "      <td>2018-11-17</td>\n",
              "      <td>0.231688</td>\n",
              "      <td>0.000000</td>\n",
              "      <td>0.000000</td>\n",
              "    </tr>\n",
              "    <tr>\n",
              "      <th>321</th>\n",
              "      <td>2018-11-18</td>\n",
              "      <td>0.000000</td>\n",
              "      <td>0.000000</td>\n",
              "      <td>0.000000</td>\n",
              "    </tr>\n",
              "    <tr>\n",
              "      <th>322</th>\n",
              "      <td>2018-11-19</td>\n",
              "      <td>0.221051</td>\n",
              "      <td>0.000000</td>\n",
              "      <td>20.786270</td>\n",
              "    </tr>\n",
              "    <tr>\n",
              "      <th>323</th>\n",
              "      <td>2018-11-20</td>\n",
              "      <td>0.000000</td>\n",
              "      <td>0.000000</td>\n",
              "      <td>3.476125</td>\n",
              "    </tr>\n",
              "    <tr>\n",
              "      <th>324</th>\n",
              "      <td>2018-11-21</td>\n",
              "      <td>0.000000</td>\n",
              "      <td>0.000000</td>\n",
              "      <td>0.000000</td>\n",
              "    </tr>\n",
              "    <tr>\n",
              "      <th>325</th>\n",
              "      <td>2018-11-22</td>\n",
              "      <td>0.000000</td>\n",
              "      <td>0.000000</td>\n",
              "      <td>0.000000</td>\n",
              "    </tr>\n",
              "    <tr>\n",
              "      <th>326</th>\n",
              "      <td>2018-11-23</td>\n",
              "      <td>0.671740</td>\n",
              "      <td>0.000000</td>\n",
              "      <td>0.000000</td>\n",
              "    </tr>\n",
              "    <tr>\n",
              "      <th>327</th>\n",
              "      <td>2018-11-24</td>\n",
              "      <td>2.595885</td>\n",
              "      <td>0.000000</td>\n",
              "      <td>0.000000</td>\n",
              "    </tr>\n",
              "    <tr>\n",
              "      <th>328</th>\n",
              "      <td>2018-11-25</td>\n",
              "      <td>0.000000</td>\n",
              "      <td>0.000000</td>\n",
              "      <td>0.000000</td>\n",
              "    </tr>\n",
              "    <tr>\n",
              "      <th>329</th>\n",
              "      <td>2018-11-26</td>\n",
              "      <td>0.000000</td>\n",
              "      <td>0.000000</td>\n",
              "      <td>0.000000</td>\n",
              "    </tr>\n",
              "    <tr>\n",
              "      <th>330</th>\n",
              "      <td>2018-11-27</td>\n",
              "      <td>0.000000</td>\n",
              "      <td>0.000000</td>\n",
              "      <td>0.000000</td>\n",
              "    </tr>\n",
              "    <tr>\n",
              "      <th>331</th>\n",
              "      <td>2018-11-28</td>\n",
              "      <td>0.000000</td>\n",
              "      <td>0.000000</td>\n",
              "      <td>0.000000</td>\n",
              "    </tr>\n",
              "    <tr>\n",
              "      <th>332</th>\n",
              "      <td>2018-11-29</td>\n",
              "      <td>0.000000</td>\n",
              "      <td>0.000000</td>\n",
              "      <td>0.000000</td>\n",
              "    </tr>\n",
              "    <tr>\n",
              "      <th>333</th>\n",
              "      <td>2018-11-30</td>\n",
              "      <td>0.000000</td>\n",
              "      <td>0.000000</td>\n",
              "      <td>0.000000</td>\n",
              "    </tr>\n",
              "    <tr>\n",
              "      <th>334</th>\n",
              "      <td>2018-12-01</td>\n",
              "      <td>0.000000</td>\n",
              "      <td>0.000000</td>\n",
              "      <td>0.000000</td>\n",
              "    </tr>\n",
              "    <tr>\n",
              "      <th>335</th>\n",
              "      <td>2018-12-02</td>\n",
              "      <td>0.000000</td>\n",
              "      <td>0.000000</td>\n",
              "      <td>0.000000</td>\n",
              "    </tr>\n",
              "    <tr>\n",
              "      <th>336</th>\n",
              "      <td>2018-12-03</td>\n",
              "      <td>0.000000</td>\n",
              "      <td>0.000000</td>\n",
              "      <td>0.000000</td>\n",
              "    </tr>\n",
              "    <tr>\n",
              "      <th>337</th>\n",
              "      <td>2018-12-04</td>\n",
              "      <td>0.000000</td>\n",
              "      <td>0.000000</td>\n",
              "      <td>0.000000</td>\n",
              "    </tr>\n",
              "    <tr>\n",
              "      <th>338</th>\n",
              "      <td>2018-12-05</td>\n",
              "      <td>4.997499</td>\n",
              "      <td>0.000000</td>\n",
              "      <td>0.000000</td>\n",
              "    </tr>\n",
              "    <tr>\n",
              "      <th>339</th>\n",
              "      <td>2018-12-06</td>\n",
              "      <td>0.000000</td>\n",
              "      <td>0.000000</td>\n",
              "      <td>5.638509</td>\n",
              "    </tr>\n",
              "    <tr>\n",
              "      <th>340</th>\n",
              "      <td>2018-12-07</td>\n",
              "      <td>0.000000</td>\n",
              "      <td>0.000000</td>\n",
              "      <td>0.458179</td>\n",
              "    </tr>\n",
              "    <tr>\n",
              "      <th>341</th>\n",
              "      <td>2018-12-08</td>\n",
              "      <td>0.000000</td>\n",
              "      <td>0.000000</td>\n",
              "      <td>0.000000</td>\n",
              "    </tr>\n",
              "    <tr>\n",
              "      <th>342</th>\n",
              "      <td>2018-12-09</td>\n",
              "      <td>0.000000</td>\n",
              "      <td>0.000000</td>\n",
              "      <td>0.000000</td>\n",
              "    </tr>\n",
              "    <tr>\n",
              "      <th>343</th>\n",
              "      <td>2018-12-10</td>\n",
              "      <td>0.000000</td>\n",
              "      <td>0.000000</td>\n",
              "      <td>0.000000</td>\n",
              "    </tr>\n",
              "    <tr>\n",
              "      <th>344</th>\n",
              "      <td>2018-12-11</td>\n",
              "      <td>0.000000</td>\n",
              "      <td>0.000000</td>\n",
              "      <td>0.000000</td>\n",
              "    </tr>\n",
              "    <tr>\n",
              "      <th>345</th>\n",
              "      <td>2018-12-12</td>\n",
              "      <td>0.000000</td>\n",
              "      <td>0.000000</td>\n",
              "      <td>0.000000</td>\n",
              "    </tr>\n",
              "    <tr>\n",
              "      <th>346</th>\n",
              "      <td>2018-12-13</td>\n",
              "      <td>0.000000</td>\n",
              "      <td>0.000000</td>\n",
              "      <td>0.000000</td>\n",
              "    </tr>\n",
              "    <tr>\n",
              "      <th>347</th>\n",
              "      <td>2018-12-14</td>\n",
              "      <td>0.000000</td>\n",
              "      <td>0.000000</td>\n",
              "      <td>0.000000</td>\n",
              "    </tr>\n",
              "    <tr>\n",
              "      <th>348</th>\n",
              "      <td>2018-12-15</td>\n",
              "      <td>0.000000</td>\n",
              "      <td>0.000000</td>\n",
              "      <td>0.000000</td>\n",
              "    </tr>\n",
              "    <tr>\n",
              "      <th>349</th>\n",
              "      <td>2018-12-16</td>\n",
              "      <td>0.000000</td>\n",
              "      <td>0.000000</td>\n",
              "      <td>0.000000</td>\n",
              "    </tr>\n",
              "    <tr>\n",
              "      <th>350</th>\n",
              "      <td>2018-12-17</td>\n",
              "      <td>0.000000</td>\n",
              "      <td>1.377740</td>\n",
              "      <td>0.000000</td>\n",
              "    </tr>\n",
              "    <tr>\n",
              "      <th>351</th>\n",
              "      <td>2018-12-18</td>\n",
              "      <td>0.000000</td>\n",
              "      <td>104.037682</td>\n",
              "      <td>0.000000</td>\n",
              "    </tr>\n",
              "    <tr>\n",
              "      <th>352</th>\n",
              "      <td>2018-12-19</td>\n",
              "      <td>0.000000</td>\n",
              "      <td>0.000000</td>\n",
              "      <td>0.000000</td>\n",
              "    </tr>\n",
              "    <tr>\n",
              "      <th>353</th>\n",
              "      <td>2018-12-20</td>\n",
              "      <td>0.000000</td>\n",
              "      <td>0.000000</td>\n",
              "      <td>0.000000</td>\n",
              "    </tr>\n",
              "    <tr>\n",
              "      <th>354</th>\n",
              "      <td>2018-12-21</td>\n",
              "      <td>0.000000</td>\n",
              "      <td>0.000000</td>\n",
              "      <td>0.000000</td>\n",
              "    </tr>\n",
              "    <tr>\n",
              "      <th>355</th>\n",
              "      <td>2018-12-22</td>\n",
              "      <td>0.000000</td>\n",
              "      <td>0.000000</td>\n",
              "      <td>0.000000</td>\n",
              "    </tr>\n",
              "    <tr>\n",
              "      <th>356</th>\n",
              "      <td>2018-12-23</td>\n",
              "      <td>0.000000</td>\n",
              "      <td>0.000000</td>\n",
              "      <td>0.000000</td>\n",
              "    </tr>\n",
              "    <tr>\n",
              "      <th>357</th>\n",
              "      <td>2018-12-24</td>\n",
              "      <td>0.000000</td>\n",
              "      <td>0.000000</td>\n",
              "      <td>0.000000</td>\n",
              "    </tr>\n",
              "    <tr>\n",
              "      <th>358</th>\n",
              "      <td>2018-12-25</td>\n",
              "      <td>0.000000</td>\n",
              "      <td>0.000000</td>\n",
              "      <td>0.000000</td>\n",
              "    </tr>\n",
              "    <tr>\n",
              "      <th>359</th>\n",
              "      <td>2018-12-26</td>\n",
              "      <td>0.000000</td>\n",
              "      <td>0.000000</td>\n",
              "      <td>0.000000</td>\n",
              "    </tr>\n",
              "    <tr>\n",
              "      <th>360</th>\n",
              "      <td>2018-12-27</td>\n",
              "      <td>0.000000</td>\n",
              "      <td>0.000000</td>\n",
              "      <td>0.000000</td>\n",
              "    </tr>\n",
              "    <tr>\n",
              "      <th>361</th>\n",
              "      <td>2018-12-28</td>\n",
              "      <td>0.000000</td>\n",
              "      <td>0.000000</td>\n",
              "      <td>0.000000</td>\n",
              "    </tr>\n",
              "    <tr>\n",
              "      <th>362</th>\n",
              "      <td>2018-12-29</td>\n",
              "      <td>3.039958</td>\n",
              "      <td>0.000000</td>\n",
              "      <td>0.000000</td>\n",
              "    </tr>\n",
              "    <tr>\n",
              "      <th>363</th>\n",
              "      <td>2018-12-30</td>\n",
              "      <td>0.000000</td>\n",
              "      <td>0.000000</td>\n",
              "      <td>0.000000</td>\n",
              "    </tr>\n",
              "    <tr>\n",
              "      <th>364</th>\n",
              "      <td>2018-12-31</td>\n",
              "      <td>0.000000</td>\n",
              "      <td>0.000000</td>\n",
              "      <td>0.000000</td>\n",
              "    </tr>\n",
              "  </tbody>\n",
              "</table>\n",
              "</div>\n",
              "      <button class=\"colab-df-convert\" onclick=\"convertToInteractive('df-f436d75a-22d6-4fd2-a734-9eca25129786')\"\n",
              "              title=\"Convert this dataframe to an interactive table.\"\n",
              "              style=\"display:none;\">\n",
              "        \n",
              "  <svg xmlns=\"http://www.w3.org/2000/svg\" height=\"24px\"viewBox=\"0 0 24 24\"\n",
              "       width=\"24px\">\n",
              "    <path d=\"M0 0h24v24H0V0z\" fill=\"none\"/>\n",
              "    <path d=\"M18.56 5.44l.94 2.06.94-2.06 2.06-.94-2.06-.94-.94-2.06-.94 2.06-2.06.94zm-11 1L8.5 8.5l.94-2.06 2.06-.94-2.06-.94L8.5 2.5l-.94 2.06-2.06.94zm10 10l.94 2.06.94-2.06 2.06-.94-2.06-.94-.94-2.06-.94 2.06-2.06.94z\"/><path d=\"M17.41 7.96l-1.37-1.37c-.4-.4-.92-.59-1.43-.59-.52 0-1.04.2-1.43.59L10.3 9.45l-7.72 7.72c-.78.78-.78 2.05 0 2.83L4 21.41c.39.39.9.59 1.41.59.51 0 1.02-.2 1.41-.59l7.78-7.78 2.81-2.81c.8-.78.8-2.07 0-2.86zM5.41 20L4 18.59l7.72-7.72 1.47 1.35L5.41 20z\"/>\n",
              "  </svg>\n",
              "      </button>\n",
              "      \n",
              "  <style>\n",
              "    .colab-df-container {\n",
              "      display:flex;\n",
              "      flex-wrap:wrap;\n",
              "      gap: 12px;\n",
              "    }\n",
              "\n",
              "    .colab-df-convert {\n",
              "      background-color: #E8F0FE;\n",
              "      border: none;\n",
              "      border-radius: 50%;\n",
              "      cursor: pointer;\n",
              "      display: none;\n",
              "      fill: #1967D2;\n",
              "      height: 32px;\n",
              "      padding: 0 0 0 0;\n",
              "      width: 32px;\n",
              "    }\n",
              "\n",
              "    .colab-df-convert:hover {\n",
              "      background-color: #E2EBFA;\n",
              "      box-shadow: 0px 1px 2px rgba(60, 64, 67, 0.3), 0px 1px 3px 1px rgba(60, 64, 67, 0.15);\n",
              "      fill: #174EA6;\n",
              "    }\n",
              "\n",
              "    [theme=dark] .colab-df-convert {\n",
              "      background-color: #3B4455;\n",
              "      fill: #D2E3FC;\n",
              "    }\n",
              "\n",
              "    [theme=dark] .colab-df-convert:hover {\n",
              "      background-color: #434B5C;\n",
              "      box-shadow: 0px 1px 3px 1px rgba(0, 0, 0, 0.15);\n",
              "      filter: drop-shadow(0px 1px 2px rgba(0, 0, 0, 0.3));\n",
              "      fill: #FFFFFF;\n",
              "    }\n",
              "  </style>\n",
              "\n",
              "      <script>\n",
              "        const buttonEl =\n",
              "          document.querySelector('#df-f436d75a-22d6-4fd2-a734-9eca25129786 button.colab-df-convert');\n",
              "        buttonEl.style.display =\n",
              "          google.colab.kernel.accessAllowed ? 'block' : 'none';\n",
              "\n",
              "        async function convertToInteractive(key) {\n",
              "          const element = document.querySelector('#df-f436d75a-22d6-4fd2-a734-9eca25129786');\n",
              "          const dataTable =\n",
              "            await google.colab.kernel.invokeFunction('convertToInteractive',\n",
              "                                                     [key], {});\n",
              "          if (!dataTable) return;\n",
              "\n",
              "          const docLinkHtml = 'Like what you see? Visit the ' +\n",
              "            '<a target=\"_blank\" href=https://colab.research.google.com/notebooks/data_table.ipynb>data table notebook</a>'\n",
              "            + ' to learn more about interactive tables.';\n",
              "          element.innerHTML = '';\n",
              "          dataTable['output_type'] = 'display_data';\n",
              "          await google.colab.output.renderOutput(dataTable, element);\n",
              "          const docLink = document.createElement('div');\n",
              "          docLink.innerHTML = docLinkHtml;\n",
              "          element.appendChild(docLink);\n",
              "        }\n",
              "      </script>\n",
              "    </div>\n",
              "  </div>\n",
              "  "
            ]
          },
          "metadata": {},
          "execution_count": 24
        }
      ],
      "source": [
        "dataset"
      ]
    },
    {
      "cell_type": "code",
      "execution_count": null,
      "metadata": {
        "id": "_1ERohl_cVdq"
      },
      "outputs": [],
      "source": [
        "x = dataset['Date']\n",
        "y1 = dataset['Blore rainfall']\n",
        "y2 = dataset['Vizag rainfall']\n",
        "y3 = dataset['Hubli rainfall']"
      ]
    },
    {
      "cell_type": "code",
      "execution_count": null,
      "metadata": {
        "colab": {
          "base_uri": "https://localhost:8080/",
          "height": 733
        },
        "id": "aR4k6N1qeCkm",
        "outputId": "6b94b356-2955-45cd-f779-e1d963fde60a"
      },
      "outputs": [
        {
          "output_type": "execute_result",
          "data": {
            "text/plain": [
              "Text(0, 0.5, 'Rainfall in mm')"
            ]
          },
          "metadata": {},
          "execution_count": 26
        },
        {
          "output_type": "display_data",
          "data": {
            "text/plain": [
              "<Figure size 1152x864 with 1 Axes>"
            ],
            "image/png": "[encoded data removed]"
          },
          "metadata": {
            "needs_background": "light"
          }
        }
      ],
      "source": [
        "plt.figure(figsize=(16,12))\n",
        "plt.plot(x,y1)\n",
        "plt.plot(x,y2)\n",
        "plt.plot(x,y3)\n",
        "plt.title('RAINFALL')\n",
        "plt.legend(['Bangalore','Vizag','Hubli'])\n",
        "plt.ylabel('Rainfall in mm')"
      ]
    },
    {
      "cell_type": "code",
      "execution_count": null,
      "metadata": {
        "id": "IGPYWApdeKwB"
      },
      "outputs": [],
      "source": [
        "date = list(dataset['Date'])"
      ]
    },
    {
      "cell_type": "code",
      "execution_count": null,
      "metadata": {
        "id": "E02Z9T-Rez63"
      },
      "outputs": [],
      "source": [
        "for i in range(len(date)):\n",
        "  if(date[i][5:7]=='01'):\n",
        "    date[i] = 'Jan'\n",
        "  elif(date[i][5:7]=='02'):\n",
        "    date[i] = 'Feb'\n",
        "  elif(date[i][5:7]=='03'):\n",
        "    date[i] = 'Mar'\n",
        "  elif(date[i][5:7]=='04'):\n",
        "    date[i] = 'Apr'\n",
        "  elif(date[i][5:7]=='05'):\n",
        "    date[i] = 'May'\n",
        "  elif(date[i][5:7]=='06'):\n",
        "    date[i] = 'Jun'\n",
        "  elif(date[i][5:7]=='07'):\n",
        "    date[i] = 'Jul'\n",
        "  elif(date[i][5:7]=='08'):\n",
        "    date[i] = 'Aug'\n",
        "  elif(date[i][5:7]=='09'):\n",
        "    date[i] = 'Sep'\n",
        "  elif(date[i][5:7]=='10'):\n",
        "    date[i] = 'Oct'\n",
        "  elif(date[i][5:7]=='11'):\n",
        "    date[i] = 'Nov'\n",
        "  elif(date[i][5:7]=='12'):\n",
        "    date[i] = 'Dec'"
      ]
    },
    {
      "cell_type": "markdown",
      "metadata": {
        "id": "GeSaPZnllwAA"
      },
      "source": [
        "We have created a list which contains all the dates in it and after we have converted the dates into months by checking the month number in the date. "
      ]
    },
    {
      "cell_type": "code",
      "execution_count": null,
      "metadata": {
        "id": "JzOfVNi1e8Ht"
      },
      "outputs": [],
      "source": [
        "dataset['Month'] = date"
      ]
    },
    {
      "cell_type": "code",
      "execution_count": null,
      "metadata": {
        "id": "bAr8iMaofN9H"
      },
      "outputs": [],
      "source": [
        "x = list(dataset['Month'])\n",
        "y1 = list(dataset['Blore rainfall'])\n",
        "y2 = list(dataset['Vizag rainfall'])\n",
        "y3 = list(dataset['Hubli rainfall'])"
      ]
    },
    {
      "cell_type": "code",
      "execution_count": null,
      "metadata": {
        "id": "WHo4pAgmfVYO"
      },
      "outputs": [],
      "source": [
        "month = ['Jan','Feb','Mar','Apr','May','Jun','Jul','Aug','Sep','Oct','Nov','Dec']\n",
        "blore_monthly_avg_list=[]\n",
        "vizag_monthly_avg_list=[]\n",
        "hubli_monthly_avg_list=[]\n",
        "for i in range(len(month)):\n",
        "  count=0\n",
        "  blore_sum=0\n",
        "  vizag_sum=0\n",
        "  hubli_sum=0\n",
        "  for j in range(len(x)):\n",
        "    if(month[i]==x[j]):\n",
        "      blore_sum+=y1[j]\n",
        "      vizag_sum+=y2[j]\n",
        "      hubli_sum+=y3[j]\n",
        "      count+=1\n",
        "  blore_monthly_avg_list.append(blore_sum/count)\n",
        "  vizag_monthly_avg_list.append(vizag_sum/count)\n",
        "  hubli_monthly_avg_list.append(hubli_sum/count)\n",
        "  "
      ]
    },
    {
      "cell_type": "markdown",
      "metadata": {
        "id": "7al4_-aomPOd"
      },
      "source": [
        "Here we are adding monthly average rainfall values of different cities and adding the values into respective city lists."
      ]
    },
    {
      "cell_type": "code",
      "execution_count": null,
      "metadata": {
        "id": "BjGtnrP5hlAG"
      },
      "outputs": [],
      "source": [
        "columns = ['Month','Blore monthly avg','Vizag monthly avg','Hubli monthly avg']\n",
        "dataset_monthly_avg = pd.DataFrame(columns = columns)"
      ]
    },
    {
      "cell_type": "code",
      "execution_count": null,
      "metadata": {
        "id": "0v8N7m4gib3F"
      },
      "outputs": [],
      "source": [
        "dataset_monthly_avg['Month']=month\n",
        "dataset_monthly_avg['Blore monthly avg'] = blore_monthly_avg_list\n",
        "dataset_monthly_avg['Vizag monthly avg'] = vizag_monthly_avg_list\n",
        "dataset_monthly_avg['Hubli monthly avg'] = hubli_monthly_avg_list"
      ]
    },
    {
      "cell_type": "code",
      "execution_count": null,
      "metadata": {
        "colab": {
          "base_uri": "https://localhost:8080/",
          "height": 426
        },
        "id": "o3AJSunii8Zx",
        "outputId": "acc73723-4da4-4eff-826a-70c6009fd6be"
      },
      "outputs": [
        {
          "output_type": "execute_result",
          "data": {
            "text/plain": [
              "   Month  Blore monthly avg  Vizag monthly avg  Hubli monthly avg\n",
              "0    Jan           0.000000           0.000000           0.000000\n",
              "1    Feb           0.119267           0.000000           0.012063\n",
              "2    Mar           0.923817           0.000000           0.286284\n",
              "3    Apr           1.043105           2.033685           1.094307\n",
              "4    May           6.724520           4.021209           6.371469\n",
              "5    Jun           2.599198           4.172203           4.515725\n",
              "6    Jul           1.652070           3.697479           3.574430\n",
              "7    Aug           3.646929           8.276327           2.807790\n",
              "8    Sep           4.867264           4.326697           2.161809\n",
              "9    Oct           2.208033           0.473736           1.727313\n",
              "10   Nov           0.202076           0.104582           0.808747\n",
              "11   Dec           0.259273           3.400497           0.196667"
            ],
            "text/html": [
              "\n",
              "  <div id=\"df-f6372321-357f-454c-af5b-9a46c32046be\">\n",
              "    <div class=\"colab-df-container\">\n",
              "      <div>\n",
              "<style scoped>\n",
              "    .dataframe tbody tr th:only-of-type {\n",
              "        vertical-align: middle;\n",
              "    }\n",
              "\n",
              "    .dataframe tbody tr th {\n",
              "        vertical-align: top;\n",
              "    }\n",
              "\n",
              "    .dataframe thead th {\n",
              "        text-align: right;\n",
              "    }\n",
              "</style>\n",
              "<table border=\"1\" class=\"dataframe\">\n",
              "  <thead>\n",
              "    <tr style=\"text-align: right;\">\n",
              "      <th></th>\n",
              "      <th>Month</th>\n",
              "      <th>Blore monthly avg</th>\n",
              "      <th>Vizag monthly avg</th>\n",
              "      <th>Hubli monthly avg</th>\n",
              "    </tr>\n",
              "  </thead>\n",
              "  <tbody>\n",
              "    <tr>\n",
              "      <th>0</th>\n",
              "      <td>Jan</td>\n",
              "      <td>0.000000</td>\n",
              "      <td>0.000000</td>\n",
              "      <td>0.000000</td>\n",
              "    </tr>\n",
              "    <tr>\n",
              "      <th>1</th>\n",
              "      <td>Feb</td>\n",
              "      <td>0.119267</td>\n",
              "      <td>0.000000</td>\n",
              "      <td>0.012063</td>\n",
              "    </tr>\n",
              "    <tr>\n",
              "      <th>2</th>\n",
              "      <td>Mar</td>\n",
              "      <td>0.923817</td>\n",
              "      <td>0.000000</td>\n",
              "      <td>0.286284</td>\n",
              "    </tr>\n",
              "    <tr>\n",
              "      <th>3</th>\n",
              "      <td>Apr</td>\n",
              "      <td>1.043105</td>\n",
              "      <td>2.033685</td>\n",
              "      <td>1.094307</td>\n",
              "    </tr>\n",
              "    <tr>\n",
              "      <th>4</th>\n",
              "      <td>May</td>\n",
              "      <td>6.724520</td>\n",
              "      <td>4.021209</td>\n",
              "      <td>6.371469</td>\n",
              "    </tr>\n",
              "    <tr>\n",
              "      <th>5</th>\n",
              "      <td>Jun</td>\n",
              "      <td>2.599198</td>\n",
              "      <td>4.172203</td>\n",
              "      <td>4.515725</td>\n",
              "    </tr>\n",
              "    <tr>\n",
              "      <th>6</th>\n",
              "      <td>Jul</td>\n",
              "      <td>1.652070</td>\n",
              "      <td>3.697479</td>\n",
              "      <td>3.574430</td>\n",
              "    </tr>\n",
              "    <tr>\n",
              "      <th>7</th>\n",
              "      <td>Aug</td>\n",
              "      <td>3.646929</td>\n",
              "      <td>8.276327</td>\n",
              "      <td>2.807790</td>\n",
              "    </tr>\n",
              "    <tr>\n",
              "      <th>8</th>\n",
              "      <td>Sep</td>\n",
              "      <td>4.867264</td>\n",
              "      <td>4.326697</td>\n",
              "      <td>2.161809</td>\n",
              "    </tr>\n",
              "    <tr>\n",
              "      <th>9</th>\n",
              "      <td>Oct</td>\n",
              "      <td>2.208033</td>\n",
              "      <td>0.473736</td>\n",
              "      <td>1.727313</td>\n",
              "    </tr>\n",
              "    <tr>\n",
              "      <th>10</th>\n",
              "      <td>Nov</td>\n",
              "      <td>0.202076</td>\n",
              "      <td>0.104582</td>\n",
              "      <td>0.808747</td>\n",
              "    </tr>\n",
              "    <tr>\n",
              "      <th>11</th>\n",
              "      <td>Dec</td>\n",
              "      <td>0.259273</td>\n",
              "      <td>3.400497</td>\n",
              "      <td>0.196667</td>\n",
              "    </tr>\n",
              "  </tbody>\n",
              "</table>\n",
              "</div>\n",
              "      <button class=\"colab-df-convert\" onclick=\"convertToInteractive('df-f6372321-357f-454c-af5b-9a46c32046be')\"\n",
              "              title=\"Convert this dataframe to an interactive table.\"\n",
              "              style=\"display:none;\">\n",
              "        \n",
              "  <svg xmlns=\"http://www.w3.org/2000/svg\" height=\"24px\"viewBox=\"0 0 24 24\"\n",
              "       width=\"24px\">\n",
              "    <path d=\"M0 0h24v24H0V0z\" fill=\"none\"/>\n",
              "    <path d=\"M18.56 5.44l.94 2.06.94-2.06 2.06-.94-2.06-.94-.94-2.06-.94 2.06-2.06.94zm-11 1L8.5 8.5l.94-2.06 2.06-.94-2.06-.94L8.5 2.5l-.94 2.06-2.06.94zm10 10l.94 2.06.94-2.06 2.06-.94-2.06-.94-.94-2.06-.94 2.06-2.06.94z\"/><path d=\"M17.41 7.96l-1.37-1.37c-.4-.4-.92-.59-1.43-.59-.52 0-1.04.2-1.43.59L10.3 9.45l-7.72 7.72c-.78.78-.78 2.05 0 2.83L4 21.41c.39.39.9.59 1.41.59.51 0 1.02-.2 1.41-.59l7.78-7.78 2.81-2.81c.8-.78.8-2.07 0-2.86zM5.41 20L4 18.59l7.72-7.72 1.47 1.35L5.41 20z\"/>\n",
              "  </svg>\n",
              "      </button>\n",
              "      \n",
              "  <style>\n",
              "    .colab-df-container {\n",
              "      display:flex;\n",
              "      flex-wrap:wrap;\n",
              "      gap: 12px;\n",
              "    }\n",
              "\n",
              "    .colab-df-convert {\n",
              "      background-color: #E8F0FE;\n",
              "      border: none;\n",
              "      border-radius: 50%;\n",
              "      cursor: pointer;\n",
              "      display: none;\n",
              "      fill: #1967D2;\n",
              "      height: 32px;\n",
              "      padding: 0 0 0 0;\n",
              "      width: 32px;\n",
              "    }\n",
              "\n",
              "    .colab-df-convert:hover {\n",
              "      background-color: #E2EBFA;\n",
              "      box-shadow: 0px 1px 2px rgba(60, 64, 67, 0.3), 0px 1px 3px 1px rgba(60, 64, 67, 0.15);\n",
              "      fill: #174EA6;\n",
              "    }\n",
              "\n",
              "    [theme=dark] .colab-df-convert {\n",
              "      background-color: #3B4455;\n",
              "      fill: #D2E3FC;\n",
              "    }\n",
              "\n",
              "    [theme=dark] .colab-df-convert:hover {\n",
              "      background-color: #434B5C;\n",
              "      box-shadow: 0px 1px 3px 1px rgba(0, 0, 0, 0.15);\n",
              "      filter: drop-shadow(0px 1px 2px rgba(0, 0, 0, 0.3));\n",
              "      fill: #FFFFFF;\n",
              "    }\n",
              "  </style>\n",
              "\n",
              "      <script>\n",
              "        const buttonEl =\n",
              "          document.querySelector('#df-f6372321-357f-454c-af5b-9a46c32046be button.colab-df-convert');\n",
              "        buttonEl.style.display =\n",
              "          google.colab.kernel.accessAllowed ? 'block' : 'none';\n",
              "\n",
              "        async function convertToInteractive(key) {\n",
              "          const element = document.querySelector('#df-f6372321-357f-454c-af5b-9a46c32046be');\n",
              "          const dataTable =\n",
              "            await google.colab.kernel.invokeFunction('convertToInteractive',\n",
              "                                                     [key], {});\n",
              "          if (!dataTable) return;\n",
              "\n",
              "          const docLinkHtml = 'Like what you see? Visit the ' +\n",
              "            '<a target=\"_blank\" href=https://colab.research.google.com/notebooks/data_table.ipynb>data table notebook</a>'\n",
              "            + ' to learn more about interactive tables.';\n",
              "          element.innerHTML = '';\n",
              "          dataTable['output_type'] = 'display_data';\n",
              "          await google.colab.output.renderOutput(dataTable, element);\n",
              "          const docLink = document.createElement('div');\n",
              "          docLink.innerHTML = docLinkHtml;\n",
              "          element.appendChild(docLink);\n",
              "        }\n",
              "      </script>\n",
              "    </div>\n",
              "  </div>\n",
              "  "
            ]
          },
          "metadata": {},
          "execution_count": 34
        }
      ],
      "source": [
        "dataset_monthly_avg"
      ]
    },
    {
      "cell_type": "markdown",
      "metadata": {
        "id": "_WHAMsJoIFzD"
      },
      "source": [
        "###Plotting monthly average graphs"
      ]
    },
    {
      "cell_type": "code",
      "execution_count": null,
      "metadata": {
        "id": "SJM4sq-9i9v0"
      },
      "outputs": [],
      "source": [
        "x = dataset_monthly_avg['Month']\n",
        "y1 = dataset_monthly_avg['Blore monthly avg']\n",
        "y2 = dataset_monthly_avg['Vizag monthly avg']\n",
        "y3 = dataset_monthly_avg['Hubli monthly avg']"
      ]
    },
    {
      "cell_type": "code",
      "execution_count": null,
      "metadata": {
        "colab": {
          "base_uri": "https://localhost:8080/",
          "height": 733
        },
        "id": "YjgdfJCBjgCC",
        "outputId": "6fb2c301-4667-4f63-9560-6b11d456595c"
      },
      "outputs": [
        {
          "output_type": "execute_result",
          "data": {
            "text/plain": [
              "Text(0.5, 1.0, 'Average Rainfall in Bangalore per month')"
            ]
          },
          "metadata": {},
          "execution_count": 36
        },
        {
          "output_type": "display_data",
          "data": {
            "text/plain": [
              "<Figure size 1152x864 with 1 Axes>"
            ],
            "image/png": "[encoded data removed]"
          },
          "metadata": {
            "needs_background": "light"
          }
        }
      ],
      "source": [
        "plt.figure(figsize=(16,12))\n",
        "plt.bar(x,y1)\n",
        "plt.title('Average Rainfall in Bangalore per month')"
      ]
    },
    {
      "cell_type": "code",
      "execution_count": null,
      "metadata": {
        "colab": {
          "base_uri": "https://localhost:8080/",
          "height": 733
        },
        "id": "2anY007ujk8f",
        "outputId": "9cc61b1d-1e5e-4f73-e878-c9b0f15f527a"
      },
      "outputs": [
        {
          "output_type": "execute_result",
          "data": {
            "text/plain": [
              "Text(0.5, 1.0, 'Rainfall in Vizag per month')"
            ]
          },
          "metadata": {},
          "execution_count": 37
        },
        {
          "output_type": "display_data",
          "data": {
            "text/plain": [
              "<Figure size 1152x864 with 1 Axes>"
            ],
            "image/png": "[encoded data removed]"
          },
          "metadata": {
            "needs_background": "light"
          }
        }
      ],
      "source": [
        "plt.figure(figsize=(16,12))\n",
        "plt.bar(x,y2)\n",
        "plt.title('Rainfall in Vizag per month')"
      ]
    },
    {
      "cell_type": "code",
      "execution_count": null,
      "metadata": {
        "colab": {
          "base_uri": "https://localhost:8080/",
          "height": 733
        },
        "id": "A3y4-6TyjyDL",
        "outputId": "d96f5a89-3c77-4482-b993-e62e6839d16f"
      },
      "outputs": [
        {
          "output_type": "execute_result",
          "data": {
            "text/plain": [
              "Text(0.5, 1.0, 'Rainfall in Hubli per month')"
            ]
          },
          "metadata": {},
          "execution_count": 38
        },
        {
          "output_type": "display_data",
          "data": {
            "text/plain": [
              "<Figure size 1152x864 with 1 Axes>"
            ],
            "image/png": "[encoded data removed]"
          },
          "metadata": {
            "needs_background": "light"
          }
        }
      ],
      "source": [
        "plt.figure(figsize=(16,12))\n",
        "plt.bar(x,y3)\n",
        "plt.title('Rainfall in Hubli per month')"
      ]
    },
    {
      "cell_type": "code",
      "execution_count": null,
      "metadata": {
        "colab": {
          "base_uri": "https://localhost:8080/",
          "height": 524
        },
        "id": "X8LINQZcj18A",
        "outputId": "d58f636a-317c-4076-f230-76b002f79ce8"
      },
      "outputs": [
        {
          "output_type": "execute_result",
          "data": {
            "text/plain": [
              "<matplotlib.axes._subplots.AxesSubplot at 0x7f3d1cd38f90>"
            ]
          },
          "metadata": {},
          "execution_count": 39
        },
        {
          "output_type": "display_data",
          "data": {
            "text/plain": [
              "<Figure size 864x576 with 1 Axes>"
            ],
            "image/png": "[encoded data removed]"
          },
          "metadata": {
            "needs_background": "light"
          }
        }
      ],
      "source": [
        "dataset_monthly_avg.plot('Month', ['Blore monthly avg','Vizag monthly avg','Hubli monthly avg'],kind=\"bar\",figsize=(12,8))"
      ]
    },
    {
      "cell_type": "markdown",
      "metadata": {
        "id": "rLFzHPi8Imp7"
      },
      "source": [
        "###Plotting average yearly rainfall of three cities"
      ]
    },
    {
      "cell_type": "code",
      "execution_count": null,
      "metadata": {
        "id": "EOKy4Aul763i"
      },
      "outputs": [],
      "source": [
        "avg_year_rainfall_list = []\n",
        "avg_year_rainfall_list.append(dataset_monthly_avg['Blore monthly avg'].mean())\n",
        "avg_year_rainfall_list.append(dataset_monthly_avg['Vizag monthly avg'].mean())\n",
        "avg_year_rainfall_list.append(dataset_monthly_avg['Hubli monthly avg'].mean())"
      ]
    },
    {
      "cell_type": "code",
      "execution_count": null,
      "metadata": {
        "colab": {
          "base_uri": "https://localhost:8080/"
        },
        "id": "oK6M9-HE8k4d",
        "outputId": "58fd278b-7e3e-4eac-a94b-a1fc166df375"
      },
      "outputs": [
        {
          "output_type": "execute_result",
          "data": {
            "text/plain": [
              "<BarContainer object of 3 artists>"
            ]
          },
          "metadata": {},
          "execution_count": 41
        },
        {
          "output_type": "display_data",
          "data": {
            "text/plain": [
              "<Figure size 720x432 with 1 Axes>"
            ],
            "image/png": "[encoded data removed]"
          },
          "metadata": {
            "needs_background": "light"
          }
        }
      ],
      "source": [
        "cities = ['Bangalore','Vizag','Hubli']\n",
        "plt.figure(figsize = (10,6))\n",
        "plt.title('Average rainfall in 2018')\n",
        "plt.bar(cities,avg_year_rainfall_list)"
      ]
    },
    {
      "cell_type": "markdown",
      "metadata": {
        "id": "b5-d_3MZI60X"
      },
      "source": [
        "###Plotting annual sum rainfall"
      ]
    },
    {
      "cell_type": "code",
      "execution_count": null,
      "metadata": {
        "id": "_PAZCKXP87BV"
      },
      "outputs": [],
      "source": [
        "blore_rainfall = list(dataset['Blore rainfall'])\n",
        "vizag_rainfall = list(dataset['Vizag rainfall'])\n",
        "hubli_rainfall = list(dataset['Hubli rainfall'])"
      ]
    },
    {
      "cell_type": "code",
      "execution_count": null,
      "metadata": {
        "id": "I8eNBwl394Ic"
      },
      "outputs": [],
      "source": [
        "sum_annual_rainfall = [sum(blore_rainfall),sum(vizag_rainfall),sum(hubli_rainfall)]"
      ]
    },
    {
      "cell_type": "code",
      "execution_count": null,
      "metadata": {
        "colab": {
          "base_uri": "https://localhost:8080/"
        },
        "id": "cnul67Vc-DVR",
        "outputId": "53ba203b-f094-4084-b435-54e739b1cd1d"
      },
      "outputs": [
        {
          "output_type": "display_data",
          "data": {
            "text/plain": [
              "<Figure size 720x504 with 1 Axes>"
            ],
            "image/png": "[encoded data removed]"
          },
          "metadata": {
            "needs_background": "light"
          }
        }
      ],
      "source": [
        "plt.figure(figsize=(10,7))\n",
        "plt.bar(cities,sum_annual_rainfall)\n",
        "for i in range(3):\n",
        "  plt.text(i,sum_annual_rainfall[i],\"{:.2f}\".format(sum_annual_rainfall[i]))"
      ]
    },
    {
      "cell_type": "markdown",
      "metadata": {
        "id": "UpwArVxiJFFf"
      },
      "source": [
        "###Plotting south west monsoon ( May - Sept)"
      ]
    },
    {
      "cell_type": "code",
      "execution_count": null,
      "metadata": {
        "id": "dUL4LURf-lBR"
      },
      "outputs": [],
      "source": [
        "south_west = ['May','Jun','Jul','Aug','Sep']\n",
        "blore_south_west=[]\n",
        "hubli_south_west = []\n",
        "vizag_south_west = []\n",
        "for i in south_west:\n",
        "  k=0\n",
        "  b=0\n",
        "  h=0\n",
        "  v=0\n",
        "  for j in range(len(date)):\n",
        "    if(i==date[j]):\n",
        "      k+=1\n",
        "      b+=blore_rainfall[j]\n",
        "      h+=hubli_rainfall[j]\n",
        "      v+=vizag_rainfall[j]\n",
        "      if(date[j+1]!=i):\n",
        "        break\n",
        "  blore_south_west.append(b/k)\n",
        "  hubli_south_west.append(h/k)\n",
        "  vizag_south_west.append(v/k)"
      ]
    },
    {
      "cell_type": "code",
      "execution_count": null,
      "metadata": {
        "colab": {
          "base_uri": "https://localhost:8080/"
        },
        "id": "WtgrhOWM-8rj",
        "outputId": "94f0b963-5e30-43d2-9fb7-eb089ab7911a"
      },
      "outputs": [
        {
          "output_type": "display_data",
          "data": {
            "text/plain": [
              "<Figure size 720x504 with 1 Axes>"
            ],
            "image/png": "[encoded data removed]"
          },
          "metadata": {
            "needs_background": "light"
          }
        }
      ],
      "source": [
        "plt.figure(figsize=(10,7))\n",
        "plt.title('Bangalore rainfall in south west monsoon')\n",
        "plt.xlabel('South west monsoon')\n",
        "plt.ylabel('Average rainfall in mm')\n",
        "plt.bar(south_west,blore_south_west)\n",
        "for i in range(len(south_west)):\n",
        "  plt.text(i,blore_south_west[i],\"{:.2f}\".format(blore_south_west[i]))"
      ]
    },
    {
      "cell_type": "code",
      "execution_count": null,
      "metadata": {
        "colab": {
          "base_uri": "https://localhost:8080/"
        },
        "id": "eOi-_nOk_Dyr",
        "outputId": "1b27a07d-7845-4df3-e51f-733edb4b73f8"
      },
      "outputs": [
        {
          "output_type": "display_data",
          "data": {
            "text/plain": [
              "<Figure size 720x504 with 1 Axes>"
            ],
            "image/png": "[encoded data removed]"
          },
          "metadata": {
            "needs_background": "light"
          }
        }
      ],
      "source": [
        "plt.figure(figsize=(10,7))\n",
        "plt.title('Vizag rainfall in south west monsoon')\n",
        "plt.xlabel('South west monsoon')\n",
        "plt.ylabel('Average rainfall in mm')\n",
        "plt.bar(south_west,vizag_south_west)\n",
        "for i in range(len(south_west)):\n",
        "  plt.text(i,vizag_south_west[i],\"{:.2f}\".format(vizag_south_west[i]))"
      ]
    },
    {
      "cell_type": "code",
      "execution_count": null,
      "metadata": {
        "colab": {
          "base_uri": "https://localhost:8080/"
        },
        "id": "2KT1_QZL-91U",
        "outputId": "3ac1def7-381d-415a-c633-483102d54a05"
      },
      "outputs": [
        {
          "output_type": "display_data",
          "data": {
            "text/plain": [
              "<Figure size 720x504 with 1 Axes>"
            ],
            "image/png": "[encoded data removed]"
          },
          "metadata": {
            "needs_background": "light"
          }
        }
      ],
      "source": [
        "plt.figure(figsize=(10,7))\n",
        "plt.title('Hubli rainfall in south west monsoon')\n",
        "plt.xlabel('South west monsoon')\n",
        "plt.ylabel('Average rainfall in mm')\n",
        "plt.bar(south_west,hubli_south_west)\n",
        "for i in range(len(south_west)):\n",
        "  plt.text(i,hubli_south_west[i],\"{:.2f}\".format(hubli_south_west[i]))"
      ]
    },
    {
      "cell_type": "code",
      "execution_count": null,
      "metadata": {
        "id": "7hIUr0cU_B63"
      },
      "outputs": [],
      "source": [
        "south_west_mean = [statistics.mean(blore_south_west),statistics.mean(vizag_south_west),statistics.mean(hubli_south_west)]"
      ]
    },
    {
      "cell_type": "code",
      "execution_count": null,
      "metadata": {
        "colab": {
          "base_uri": "https://localhost:8080/"
        },
        "id": "p88qn_Iu_M3p",
        "outputId": "80f3775f-37ac-4107-ca50-241b30ac6e8c"
      },
      "outputs": [
        {
          "output_type": "display_data",
          "data": {
            "text/plain": [
              "<Figure size 720x504 with 1 Axes>"
            ],
            "image/png": "[encoded data removed]"
          },
          "metadata": {
            "needs_background": "light"
          }
        }
      ],
      "source": [
        "plt.figure(figsize=(10,7))\n",
        "plt.title('Mean rainfall in South West Monsoon of three cities')\n",
        "plt.xlabel('CITIES')\n",
        "plt.ylabel('Mean rainfall in mm')\n",
        "plt.bar(cities,south_west_mean)\n",
        "for i in range(3):\n",
        "  plt.text(i,south_west_mean[i],\"{:.2f}\".format(south_west_mean[i]))"
      ]
    },
    {
      "cell_type": "markdown",
      "metadata": {
        "id": "DjJixU-uJVbG"
      },
      "source": [
        "###Plotting north east monsoon data (oct - nov)"
      ]
    },
    {
      "cell_type": "code",
      "execution_count": null,
      "metadata": {
        "id": "Q7H2pON2_mmm"
      },
      "outputs": [],
      "source": [
        "north_east = ['Oct','Nov','Dec']\n",
        "blore_north_east=[]\n",
        "hubli_north_east = []\n",
        "vizag_north_east = []\n",
        "for i in north_east:\n",
        "  k=0\n",
        "  b=0\n",
        "  h=0\n",
        "  v=0\n",
        "  for j in range(len(date)):\n",
        "    if(i==date[j]):\n",
        "      k+=1\n",
        "      b+=blore_rainfall[j]\n",
        "      h+=hubli_rainfall[j]\n",
        "      v+=vizag_rainfall[j]\n",
        "      \n",
        "  blore_north_east.append(b/k)\n",
        "  hubli_north_east.append(h/k)\n",
        "  vizag_north_east.append(v/k)"
      ]
    },
    {
      "cell_type": "code",
      "execution_count": null,
      "metadata": {
        "colab": {
          "base_uri": "https://localhost:8080/"
        },
        "id": "EirfWaI7_7Ut",
        "outputId": "1fd16431-2dc3-429f-85e0-4fd8914ba0ee"
      },
      "outputs": [
        {
          "output_type": "display_data",
          "data": {
            "text/plain": [
              "<Figure size 720x504 with 1 Axes>"
            ],
            "image/png": "[encoded data removed]"
          },
          "metadata": {
            "needs_background": "light"
          }
        }
      ],
      "source": [
        "plt.figure(figsize=(10,7))\n",
        "plt.title('Bangalore rainfall in north east monsoon')\n",
        "plt.xlabel('North east monsoon')\n",
        "plt.ylabel('Average rainfall in mm')\n",
        "plt.bar(north_east,blore_north_east)\n",
        "for i in range(len(north_east)):\n",
        "  plt.text(i,blore_north_east[i],\"{:.2f}\".format(blore_north_east[i]))"
      ]
    },
    {
      "cell_type": "code",
      "execution_count": null,
      "metadata": {
        "colab": {
          "base_uri": "https://localhost:8080/"
        },
        "id": "g5HIKp-B_-ag",
        "outputId": "23c20c39-8447-4cee-9f4a-c29a65507377"
      },
      "outputs": [
        {
          "output_type": "display_data",
          "data": {
            "text/plain": [
              "<Figure size 720x504 with 1 Axes>"
            ],
            "image/png": "[encoded data removed]"
          },
          "metadata": {
            "needs_background": "light"
          }
        }
      ],
      "source": [
        "plt.figure(figsize=(10,7))\n",
        "plt.title('Hubli rainfall in north east monsoon')\n",
        "plt.xlabel('North east monsoon')\n",
        "plt.ylabel('Average rainfall in mm')\n",
        "plt.bar(north_east,hubli_north_east)\n",
        "for i in range(len(north_east)):\n",
        "  plt.text(i,hubli_north_east[i],\"{:.2f}\".format(hubli_north_east[i]))"
      ]
    },
    {
      "cell_type": "code",
      "execution_count": null,
      "metadata": {
        "colab": {
          "base_uri": "https://localhost:8080/"
        },
        "id": "vTQjWz2xABqd",
        "outputId": "e2fb727b-fac9-4942-b5d3-af6a56eea2a0"
      },
      "outputs": [
        {
          "output_type": "display_data",
          "data": {
            "text/plain": [
              "<Figure size 720x504 with 1 Axes>"
            ],
            "image/png": "[encoded data removed]"
          },
          "metadata": {
            "needs_background": "light"
          }
        }
      ],
      "source": [
        "plt.figure(figsize=(10,7))\n",
        "plt.title('Vizag rainfall in north east monsoon')\n",
        "plt.xlabel('North east monsoon')\n",
        "plt.ylabel('Average rainfall in mm')\n",
        "plt.bar(north_east,vizag_north_east)\n",
        "for i in range(len(north_east)):\n",
        "  plt.text(i,vizag_north_east[i],\"{:.2f}\".format(vizag_north_east[i]))"
      ]
    },
    {
      "cell_type": "code",
      "execution_count": null,
      "metadata": {
        "id": "usPW63_pAIZZ"
      },
      "outputs": [],
      "source": [
        "north_east_mean = [statistics.mean(blore_north_east),statistics.mean(vizag_north_east),statistics.mean(hubli_north_east)]"
      ]
    },
    {
      "cell_type": "code",
      "execution_count": null,
      "metadata": {
        "colab": {
          "base_uri": "https://localhost:8080/"
        },
        "id": "D--sZ5O7AUYk",
        "outputId": "153ae577-1265-4610-e2f3-1fc17133ec90"
      },
      "outputs": [
        {
          "output_type": "display_data",
          "data": {
            "text/plain": [
              "<Figure size 720x504 with 1 Axes>"
            ],
            "image/png": "[encoded data removed]"
          },
          "metadata": {
            "needs_background": "light"
          }
        }
      ],
      "source": [
        "plt.figure(figsize=(10,7))\n",
        "plt.title('Mean rainfall in North East Monsoon of three cities')\n",
        "plt.xlabel('CITIES')\n",
        "plt.ylabel('Mean rainfall in mm')\n",
        "plt.bar(cities,north_east_mean)\n",
        "for i in range(3):\n",
        "  plt.text(i,north_east_mean[i],\"{:.2f}\".format(north_east_mean[i]))"
      ]
    },
    {
      "cell_type": "markdown",
      "metadata": {
        "id": "Q_UfVmKT-rgq"
      },
      "source": [
        "###VARIANCE"
      ]
    },
    {
      "cell_type": "code",
      "execution_count": null,
      "metadata": {
        "id": "u8rjMR0GAYgy"
      },
      "outputs": [],
      "source": [
        "blore_variance = statistics.variance(blore_south_west)\n",
        "hubli_variance = statistics.variance(hubli_south_west)\n",
        "vizag_variance = statistics.variance(vizag_south_west)"
      ]
    },
    {
      "cell_type": "code",
      "execution_count": null,
      "metadata": {
        "id": "h-rF2fw37BaV"
      },
      "outputs": [],
      "source": [
        "variance = [blore_variance,vizag_variance,hubli_variance]"
      ]
    },
    {
      "cell_type": "code",
      "execution_count": null,
      "metadata": {
        "colab": {
          "base_uri": "https://localhost:8080/",
          "height": 458
        },
        "id": "-yLuMpaM7Hzs",
        "outputId": "7b0c3eb8-dee3-4452-e2de-006b74c0a9cd"
      },
      "outputs": [
        {
          "output_type": "display_data",
          "data": {
            "text/plain": [
              "<Figure size 720x504 with 1 Axes>"
            ],
            "image/png": "[encoded data removed]"
          },
          "metadata": {
            "needs_background": "light"
          }
        }
      ],
      "source": [
        "plt.figure(figsize=(10,7))\n",
        "plt.title('Variance of rainfall throughout the 2018 year')\n",
        "plt.xlabel('CITIES')\n",
        "plt.ylabel('Variance values')\n",
        "plt.bar(cities,variance)\n",
        "for i in range(3):\n",
        "  plt.text(i,variance[i],\"{:.2f}\".format(variance[i]))"
      ]
    },
    {
      "cell_type": "markdown",
      "metadata": {
        "id": "Xp42awCW-lH2"
      },
      "source": [
        "###MOVING AVERAGE"
      ]
    },
    {
      "cell_type": "code",
      "execution_count": null,
      "metadata": {
        "id": "4FPCfR-57Iag"
      },
      "outputs": [],
      "source": [
        "blore_moving_avg = []\n",
        "vizag_moving_avg = []\n",
        "hubli_moving_avg = []\n",
        "x=[]"
      ]
    },
    {
      "cell_type": "code",
      "execution_count": null,
      "metadata": {
        "id": "qYh9ZT5N9KPX"
      },
      "outputs": [],
      "source": [
        "for i in range(363):\n",
        "  x.append(i)"
      ]
    },
    {
      "cell_type": "code",
      "execution_count": null,
      "metadata": {
        "id": "TcrUR2C59PRw"
      },
      "outputs": [],
      "source": [
        "for i in range(len(blore_rainfall)-2):\n",
        "  l1 = blore_rainfall[i:i+3]\n",
        "  blore_moving_avg.append(statistics.mean(l1))\n"
      ]
    },
    {
      "cell_type": "code",
      "execution_count": null,
      "metadata": {
        "colab": {
          "base_uri": "https://localhost:8080/",
          "height": 298
        },
        "id": "PTW4IGcd9kCg",
        "outputId": "32243339-58b7-4aec-8e20-f6023e5874b4"
      },
      "outputs": [
        {
          "output_type": "execute_result",
          "data": {
            "text/plain": [
              "[<matplotlib.lines.Line2D at 0x7f3d1c7a9a50>]"
            ]
          },
          "metadata": {},
          "execution_count": 63
        },
        {
          "output_type": "display_data",
          "data": {
            "text/plain": [
              "<Figure size 432x288 with 1 Axes>"
            ],
            "image/png": "[encoded data removed]"
          },
          "metadata": {
            "needs_background": "light"
          }
        }
      ],
      "source": [
        "plt.title('Bangalore 3 days Moving Average')\n",
        "plt.plot(x,blore_moving_avg)"
      ]
    },
    {
      "cell_type": "code",
      "execution_count": null,
      "metadata": {
        "id": "fEwPfiEJ-AeB"
      },
      "outputs": [],
      "source": [
        "for i in range(len(vizag_rainfall)-2):\n",
        "  l1 = vizag_rainfall[i:i+3]\n",
        "  vizag_moving_avg.append(statistics.mean(l1))"
      ]
    },
    {
      "cell_type": "code",
      "execution_count": null,
      "metadata": {
        "colab": {
          "base_uri": "https://localhost:8080/",
          "height": 298
        },
        "id": "y0lrvMCu-Myo",
        "outputId": "939632b7-1209-4624-ea92-9414eaf5bb31"
      },
      "outputs": [
        {
          "output_type": "execute_result",
          "data": {
            "text/plain": [
              "[<matplotlib.lines.Line2D at 0x7f3d1c720050>]"
            ]
          },
          "metadata": {},
          "execution_count": 65
        },
        {
          "output_type": "display_data",
          "data": {
            "text/plain": [
              "<Figure size 432x288 with 1 Axes>"
            ],
            "image/png": "[encoded data removed]"
          },
          "metadata": {
            "needs_background": "light"
          }
        }
      ],
      "source": [
        "plt.title('Vizag 3 days Moving Average')\n",
        "plt.plot(x,vizag_moving_avg)"
      ]
    },
    {
      "cell_type": "code",
      "execution_count": null,
      "metadata": {
        "id": "H5-wfbbe9zYv"
      },
      "outputs": [],
      "source": [
        "for i in range(len(hubli_rainfall)-2):\n",
        "  l1 = hubli_rainfall[i:i+3]\n",
        "  hubli_moving_avg.append(statistics.mean(l1))"
      ]
    },
    {
      "cell_type": "code",
      "execution_count": null,
      "metadata": {
        "colab": {
          "base_uri": "https://localhost:8080/",
          "height": 298
        },
        "id": "ETQQPg3Y-Tw6",
        "outputId": "3f6ea577-8cdd-4a3f-9490-59d43feac941"
      },
      "outputs": [
        {
          "output_type": "execute_result",
          "data": {
            "text/plain": [
              "[<matplotlib.lines.Line2D at 0x7f3d1c694850>]"
            ]
          },
          "metadata": {},
          "execution_count": 67
        },
        {
          "output_type": "display_data",
          "data": {
            "text/plain": [
              "<Figure size 432x288 with 1 Axes>"
            ],
            "image/png": "[encoded data removed]"
          },
          "metadata": {
            "needs_background": "light"
          }
        }
      ],
      "source": [
        "plt.title('Hubli 3 days Moving Average')\n",
        "plt.plot(x,hubli_moving_avg)"
      ]
    },
    {
      "cell_type": "code",
      "execution_count": null,
      "metadata": {
        "id": "0u-ovITB-YrH"
      },
      "outputs": [],
      "source": [
        "hubli_dataset = pd.read_csv('/content/Rainfall_Hubli.csv',index_col=[0],parse_dates=[0])\n",
        "blore_dataset = pd.read_csv('/content/Rainfall_Bangalore.csv',index_col=[0],parse_dates=[0])\n",
        "vizag_dataset = pd.read_csv('/content/Rainfall_Vizag.csv',index_col=[0],parse_dates=[0])"
      ]
    },
    {
      "cell_type": "code",
      "execution_count": null,
      "metadata": {
        "id": "XuhfaqUKkeOq"
      },
      "outputs": [],
      "source": [
        "blore_list = list(blore_dataset['Rainfall in mm'])\n",
        "vizag_list = list(vizag_dataset['Rainfall in mm'])\n",
        "hubli_list = list(hubli_dataset['Rainfall in mm'])"
      ]
    },
    {
      "cell_type": "code",
      "execution_count": null,
      "metadata": {
        "id": "zS-5ju6b_-Ir"
      },
      "outputs": [],
      "source": [
        "blore_series = np.array(blore_list[120:273])\n",
        "vizag_series = np.array(vizag_list[120:273])\n",
        "hubli_series = np.array(hubli_list[120:273])"
      ]
    },
    {
      "cell_type": "code",
      "execution_count": null,
      "metadata": {
        "id": "cI8XFTtqkqLa"
      },
      "outputs": [],
      "source": [
        ""
      ]
    },
    {
      "cell_type": "markdown",
      "metadata": {
        "id": "HiMaDd7nJii2"
      },
      "source": [
        "The below function checks whether the series is stationary or not."
      ]
    },
    {
      "cell_type": "code",
      "execution_count": null,
      "metadata": {
        "id": "GtdG_yOOAnl-"
      },
      "outputs": [],
      "source": [
        "def checkStationary(series):\n",
        "  a = adfuller(series)\n",
        "  return(a[1])"
      ]
    },
    {
      "cell_type": "code",
      "execution_count": null,
      "metadata": {
        "id": "L20Mcj0VA5zw"
      },
      "outputs": [],
      "source": [
        "blore_check = checkStationary(blore_series)\n",
        "vizag_check = checkStationary(vizag_series)\n",
        "hubli_check = checkStationary(hubli_series)"
      ]
    },
    {
      "cell_type": "code",
      "execution_count": null,
      "metadata": {
        "colab": {
          "base_uri": "https://localhost:8080/"
        },
        "id": "nP8WZVLDBWAx",
        "outputId": "bdfc2780-db1f-4c2a-9e49-72bbe1cbb3b1"
      },
      "outputs": [
        {
          "output_type": "stream",
          "name": "stdout",
          "text": [
            "Bangalore: 8.884157080789076e-12\n",
            "Vizag: 3.711458985338634e-17\n",
            "Hubli: 3.751707857662139e-20\n"
          ]
        }
      ],
      "source": [
        "print('Bangalore:',blore_check)\n",
        "print('Vizag:',vizag_check)\n",
        "print('Hubli:',hubli_check)"
      ]
    },
    {
      "cell_type": "markdown",
      "metadata": {
        "id": "sdnaz9R5J2iF"
      },
      "source": [
        "The function below checks for which parameters the model is giving less aic score we will return those parameters to feed the ARIMA model."
      ]
    },
    {
      "cell_type": "code",
      "execution_count": null,
      "metadata": {
        "id": "l77kQlb_CpvQ"
      },
      "outputs": [],
      "source": [
        "def findParameters(train,test):\n",
        "  p=range(0,8)\n",
        "  q = range(0,8)\n",
        "  d = (0,2)\n",
        "  pdq_combinations = list(itertools.product(p,d,q))\n",
        "  order=[]\n",
        "  aic_list=[]\n",
        "  for pdq in pdq_combinations:\n",
        "    try:\n",
        "      model = ARIMA(train,order=pdq).fit()\n",
        "      aic = model.aic\n",
        "      aic_list.append(aic)\n",
        "      order.append(pdq)\n",
        "    except:\n",
        "      continue\n",
        "  min_aic = min(aic_list)\n",
        "  index = aic_list.index(min_aic)\n",
        "  return(order[index])"
      ]
    },
    {
      "cell_type": "markdown",
      "metadata": {
        "id": "tKK0oqExKlP4"
      },
      "source": [
        "Bangalore Forecast graph"
      ]
    },
    {
      "cell_type": "code",
      "execution_count": null,
      "metadata": {
        "id": "-NllX8R5BczQ"
      },
      "outputs": [],
      "source": [
        "blore_train = blore_dataset[120:242]\n",
        "blore_test = blore_dataset[242:273]\n",
        "test = blore_dataset['Rainfall in mm'][242:273]"
      ]
    },
    {
      "cell_type": "code",
      "execution_count": null,
      "metadata": {
        "id": "SSbmTWCYE2Tm"
      },
      "outputs": [],
      "source": [
        "blore_pdq=findParameters(blore_train,blore_test)"
      ]
    },
    {
      "cell_type": "code",
      "execution_count": null,
      "metadata": {
        "id": "qec7rV_UE8tQ"
      },
      "outputs": [],
      "source": [
        "blore_model = ARIMA(blore_train,order=blore_pdq)"
      ]
    },
    {
      "cell_type": "code",
      "execution_count": null,
      "metadata": {
        "id": "wwbLAWXMGnQG"
      },
      "outputs": [],
      "source": [
        "blore_model_fit = blore_model.fit()"
      ]
    },
    {
      "cell_type": "code",
      "execution_count": null,
      "metadata": {
        "colab": {
          "base_uri": "https://localhost:8080/"
        },
        "id": "rluvFuwMGykN",
        "outputId": "7ba190c2-8878-4257-846e-540b6924227e"
      },
      "outputs": [
        {
          "output_type": "execute_result",
          "data": {
            "text/plain": [
              "805.5305934439182"
            ]
          },
          "metadata": {},
          "execution_count": 79
        }
      ],
      "source": [
        "blore_model_fit.aic"
      ]
    },
    {
      "cell_type": "code",
      "execution_count": null,
      "metadata": {
        "colab": {
          "base_uri": "https://localhost:8080/",
          "height": 336
        },
        "id": "wTRo5MayG29c",
        "outputId": "c5b433cd-0d9b-4412-9063-412b53f3dd3f"
      },
      "outputs": [
        {
          "output_type": "display_data",
          "data": {
            "text/plain": [
              "<Figure size 864x360 with 1 Axes>"
            ],
            "image/png": "[encoded data removed]"
          },
          "metadata": {
            "needs_background": "light"
          }
        }
      ],
      "source": [
        "#vizag_forecast = vizag_model_fit.forecast(steps=35)[0]\n",
        "fc, se, conf = blore_model_fit.forecast(31, alpha=0.05)  # 95% conf\n",
        "\n",
        "# Make as pandas series\n",
        "fc_series = pd.Series(fc, index=test.index)\n",
        "lower_series = pd.Series(conf[:, 0], index=test.index)\n",
        "upper_series = pd.Series(conf[:, 1], index=test.index)\n",
        "\n",
        "# Plot\n",
        "plt.figure(figsize=(12,5))\n",
        "plt.plot(blore_train, label='training')\n",
        "plt.plot(blore_test, label='actual')\n",
        "plt.plot(fc_series, label='forecast')\n",
        "#plt.fill_between(lower_series.index, lower_series, upper_series, \n",
        "                 #color='k', alpha=.15)\n",
        "plt.title('Forecast vs Actuals')\n",
        "plt.legend(loc='upper left', fontsize=8)\n",
        "plt.show()"
      ]
    },
    {
      "cell_type": "markdown",
      "metadata": {
        "id": "2LdYcQPsKsBC"
      },
      "source": [
        "Vizag Forecast graph"
      ]
    },
    {
      "cell_type": "code",
      "execution_count": null,
      "metadata": {
        "id": "YvA0nt9ZMtRL"
      },
      "outputs": [],
      "source": [
        "vizag_train = vizag_dataset[120:242]\n",
        "vizag_test = vizag_dataset[242:273]\n",
        "test = vizag_dataset['Rainfall in mm'][242:273]"
      ]
    },
    {
      "cell_type": "code",
      "execution_count": null,
      "metadata": {
        "id": "HHcmNp_5M4h5"
      },
      "outputs": [],
      "source": [
        "vizag_pdq=findParameters(vizag_train,vizag_test)"
      ]
    },
    {
      "cell_type": "code",
      "execution_count": null,
      "metadata": {
        "id": "olP5LPk3NHDR"
      },
      "outputs": [],
      "source": [
        "vizag_model = ARIMA(vizag_train,order=vizag_pdq)"
      ]
    },
    {
      "cell_type": "code",
      "execution_count": null,
      "metadata": {
        "id": "2R655MGqNP72"
      },
      "outputs": [],
      "source": [
        "vizag_model_fit = vizag_model.fit()"
      ]
    },
    {
      "cell_type": "code",
      "execution_count": null,
      "metadata": {
        "colab": {
          "base_uri": "https://localhost:8080/"
        },
        "id": "-psi2l2INWNU",
        "outputId": "949fd0b7-1f29-48e5-b46a-8fca075f1881"
      },
      "outputs": [
        {
          "output_type": "execute_result",
          "data": {
            "text/plain": [
              "917.4372741013282"
            ]
          },
          "metadata": {},
          "execution_count": 85
        }
      ],
      "source": [
        "vizag_model_fit.aic"
      ]
    },
    {
      "cell_type": "code",
      "execution_count": null,
      "metadata": {
        "colab": {
          "base_uri": "https://localhost:8080/",
          "height": 336
        },
        "id": "OEuvFgPRNefR",
        "outputId": "0de9e37e-ca3a-4cda-c3bf-eb12d425849c"
      },
      "outputs": [
        {
          "output_type": "display_data",
          "data": {
            "text/plain": [
              "<Figure size 864x360 with 1 Axes>"
            ],
            "image/png": "[encoded data removed]"
          },
          "metadata": {
            "needs_background": "light"
          }
        }
      ],
      "source": [
        "#vizag_forecast = vizag_model_fit.forecast(steps=35)[0]\n",
        "fc, se, conf = vizag_model_fit.forecast(31, alpha=0.05)  # 95% conf\n",
        "\n",
        "# Make as pandas series\n",
        "fc_series = pd.Series(fc, index=test.index)\n",
        "lower_series = pd.Series(conf[:, 0], index=test.index)\n",
        "upper_series = pd.Series(conf[:, 1], index=test.index)\n",
        "\n",
        "# Plot\n",
        "plt.figure(figsize=(12,5))\n",
        "plt.plot(vizag_train, label='training')\n",
        "plt.plot(vizag_test, label='actual')\n",
        "plt.plot(fc_series, label='forecast')\n",
        "#plt.fill_between(lower_series.index, lower_series, upper_series, \n",
        "                 #color='k', alpha=.15)\n",
        "plt.title('Forecast vs Actuals')\n",
        "plt.legend(loc='upper left', fontsize=8)\n",
        "plt.show()"
      ]
    },
    {
      "cell_type": "markdown",
      "metadata": {
        "id": "C2LKWiNEKwLH"
      },
      "source": [
        "Hubli forecast Graph"
      ]
    },
    {
      "cell_type": "code",
      "execution_count": null,
      "metadata": {
        "id": "f-z2j3IzHgz0"
      },
      "outputs": [],
      "source": [
        "hubli_train = hubli_dataset[120:242]\n",
        "hubli_test = hubli_dataset[242:273]\n",
        "test = hubli_dataset['Rainfall in mm'][242:273]"
      ]
    },
    {
      "cell_type": "code",
      "execution_count": null,
      "metadata": {
        "id": "EX28yRirHoEo"
      },
      "outputs": [],
      "source": [
        "hubli_pdq=findParameters(hubli_train,hubli_test)"
      ]
    },
    {
      "cell_type": "code",
      "execution_count": null,
      "metadata": {
        "id": "uifsRUjtHuo6"
      },
      "outputs": [],
      "source": [
        "hubli_model = ARIMA(hubli_train,order=hubli_pdq)"
      ]
    },
    {
      "cell_type": "code",
      "execution_count": null,
      "metadata": {
        "id": "7pqp9TiwH4J4"
      },
      "outputs": [],
      "source": [
        "hubli_model_fit = hubli_model.fit()"
      ]
    },
    {
      "cell_type": "code",
      "execution_count": null,
      "metadata": {
        "colab": {
          "base_uri": "https://localhost:8080/"
        },
        "id": "RTeGy60-H-o-",
        "outputId": "4d66f691-2c79-4e57-e9db-c4ff88f9e45e"
      },
      "outputs": [
        {
          "output_type": "execute_result",
          "data": {
            "text/plain": [
              "805.4692246978719"
            ]
          },
          "metadata": {},
          "execution_count": 91
        }
      ],
      "source": [
        "hubli_model_fit.aic"
      ]
    },
    {
      "cell_type": "code",
      "execution_count": null,
      "metadata": {
        "colab": {
          "base_uri": "https://localhost:8080/",
          "height": 336
        },
        "id": "akjb6VYpIDNE",
        "outputId": "71836940-fec7-4f4e-d68b-86a42926e0c3"
      },
      "outputs": [
        {
          "output_type": "display_data",
          "data": {
            "text/plain": [
              "<Figure size 864x360 with 1 Axes>"
            ],
            "image/png": "[encoded data removed]"
          },
          "metadata": {
            "needs_background": "light"
          }
        }
      ],
      "source": [
        "#vizag_forecast = vizag_model_fit.forecast(steps=35)[0]\n",
        "fc, se, conf = hubli_model_fit.forecast(31, alpha=0.05)  # 95% conf\n",
        "\n",
        "# Make as pandas series\n",
        "fc_series = pd.Series(fc, index=test.index)\n",
        "lower_series = pd.Series(conf[:, 0], index=test.index)\n",
        "upper_series = pd.Series(conf[:, 1], index=test.index)\n",
        "\n",
        "# Plot\n",
        "plt.figure(figsize=(12,5))\n",
        "plt.plot(hubli_train, label='training')\n",
        "plt.plot(hubli_test, label='actual')\n",
        "plt.plot(fc_series, label='forecast')\n",
        "#plt.fill_between(lower_series.index, lower_series, upper_series, \n",
        "                 #color='k', alpha=.15)\n",
        "plt.title('Forecast vs Actuals')\n",
        "plt.legend(loc='upper left', fontsize=8)\n",
        "plt.show()"
      ]
    },
    {
      "cell_type": "code",
      "source": [
        ""
      ],
      "metadata": {
        "id": "yMH5_m4rmnMF"
      },
      "execution_count": null,
      "outputs": []
    }
  ],
  "metadata": {
    "colab": {
      "collapsed_sections": [
        "rLFzHPi8Imp7",
        "b5-d_3MZI60X",
        "UpwArVxiJFFf",
        "DjJixU-uJVbG"
      ],
      "name": "MAJOR_PROJECT.ipynb",
      "provenance": [],
      "include_colab_link": true
    },
    "kernelspec": {
      "display_name": "Python 3",
      "name": "python3"
    },
    "language_info": {
      "name": "python"
    }
  },
  "nbformat": 4,
  "nbformat_minor": 0
}