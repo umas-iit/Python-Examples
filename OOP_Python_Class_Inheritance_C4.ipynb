{
  "nbformat": 4,
  "nbformat_minor": 5,
  "metadata": {
    "_draft": {
      "nbviewer_url": "https://gist.github.com/3f282734ad78d380733011ef845236bd"
    },
    "gist": {
      "data": {
        "description": "IntorductionToPythonClasses-P1",
        "public": true
      },
      "id": "3f282734ad78d380733011ef845236bd"
    },
    "kernelspec": {
      "display_name": "Python 3",
      "language": "python",
      "name": "python3"
    },
    "language_info": {
      "codemirror_mode": {
        "name": "ipython",
        "version": 3
      },
      "file_extension": ".py",
      "mimetype": "text/x-python",
      "name": "python",
      "nbconvert_exporter": "python",
      "pygments_lexer": "ipython3",
      "version": "3.8.8"
    },
    "varInspector": {
      "cols": {
        "lenName": 16,
        "lenType": 16,
        "lenVar": 40
      },
      "kernels_config": {
        "python": {
          "delete_cmd_postfix": "",
          "delete_cmd_prefix": "del ",
          "library": "var_list.py",
          "varRefreshCmd": "print(var_dic_list())"
        },
        "r": {
          "delete_cmd_postfix": ") ",
          "delete_cmd_prefix": "rm(",
          "library": "var_list.r",
          "varRefreshCmd": "cat(var_dic_list()) "
        }
      },
      "types_to_exclude": [
        "module",
        "function",
        "builtin_function_or_method",
        "instance",
        "_Feature"
      ],
      "window_display": false
    },
    "colab": {
      "name": "OOP-Python-Class-Inheritance-C4.ipynb",
      "provenance": [],
      "collapsed_sections": [],
      "include_colab_link": true
    }
  },
  "cells": [
    {
      "cell_type": "markdown",
      "metadata": {
        "id": "view-in-github",
        "colab_type": "text"
      },
      "source": [
        "<a href=\"https://colab.research.google.com/github/umas-iit/Python-Examples/blob/gh-pages/OOP_Python_Class_Inheritance_C4.ipynb\" target=\"_parent\"><img src=\"https://colab.research.google.com/assets/colab-badge.svg\" alt=\"Open In Colab\"/></a>"
      ]
    },
    {
      "cell_type": "markdown",
      "metadata": {
        "id": "_X5vS83qoj7z"
      },
      "source": [
        "# Objectives\n",
        "* What is Inheritance with respect to Classes\n",
        "* Parent and Child terms meaning in Class inheritance\n",
        "* Examples\n",
        "* Encapulation\n",
        "* Polymorphism\n",
        "\n"
      ],
      "id": "_X5vS83qoj7z"
    },
    {
      "cell_type": "markdown",
      "metadata": {
        "id": "O_VIDpycrCvN"
      },
      "source": [
        "## Polymorphism:\n",
        "* Referes to something  in more than one from - Many forms \n",
        "* Use the same function for different data types\n",
        "* If Method exists it will use the function"
      ],
      "id": "O_VIDpycrCvN"
    },
    {
      "cell_type": "markdown",
      "metadata": {
        "id": "XygPVmHGkw9k"
      },
      "source": [
        "### Create Praent and Child Class , Demonstrate Inheritance Properties.\n",
        "##### Step 1: Parent Calss : Define Class,  Class variables, initiate Object, define Attributes, define methods"
      ],
      "id": "XygPVmHGkw9k"
    },
    {
      "cell_type": "code",
      "metadata": {
        "id": "6b6a6030"
      },
      "source": [
        "class Inventory:\n",
        "        category = 'Shopping Items'    # Add Class variable that applies globally to all the objects creted\n",
        "            \n",
        "        def __init__(self,itemCode,itemDescription,itemPrice,itemMargin) :   # parameters used in objects, self referes to object\n",
        "            \n",
        "            self.code= itemCode            # common for all objects. Object Attributes craeted by parameters\n",
        "            self.desc = itemDescription\n",
        "            self.price = itemPrice\n",
        "            self.margin = itemMargin\n",
        "            \n",
        "        def sellingPrice(self):    # create methods\n",
        "            print('Cost of the Item = $', round(self.price* self.margin,2))\n",
        "            \n",
        "        def discountPrice(self,discount):\n",
        "            print('Cost of the Item {} is $'.format(self.desc), round(self.price*self.margin*(1-discount),2))"
      ],
      "id": "6b6a6030",
      "execution_count": 30,
      "outputs": []
    },
    {
      "cell_type": "markdown",
      "metadata": {
        "id": "rlHkxNAJlCbX"
      },
      "source": [
        "##### Step 2:  Create a Child Class and inherit the Parent Class"
      ],
      "id": "rlHkxNAJlCbX"
    },
    {
      "cell_type": "code",
      "metadata": {
        "id": "-UhrjMkptHgP"
      },
      "source": [
        "class NewStock(Inventory):    # NewStock Child inherites attributes, methods, variables from Parent Class \n",
        "        category = 'New grocery Itmes'    # Add new Class variable that applies globally to all the objects creted\n",
        "            \n",
        "        def __init__(self,itemCode,itemDescription,itemPrice,itemMargin,itemVolume, itemBrand) :   # parameters used in objects\n",
        "            Inventory.__init__(self,itemCode,itemDescription,itemPrice,itemMargin) # inherited and resued from Parent and no need to repete the code\n",
        "            self.volume = itemVolume            # new attributes added \n",
        "            self.brand = itemBrand\n",
        "\n",
        "        def offer(self):    # added new method to child class\n",
        "            print('If you buy {} of {} {} {} you will pay only ${}'.format(self.category,self.brand,self.volume, self.desc,round(self.price*self.margin,2)))   "
      ],
      "id": "-UhrjMkptHgP",
      "execution_count": 31,
      "outputs": []
    },
    {
      "cell_type": "markdown",
      "metadata": {
        "id": "Z6gPhntYLhl0"
      },
      "source": [
        "### Step 3: Create One more Child Class "
      ],
      "id": "Z6gPhntYLhl0"
    },
    {
      "cell_type": "code",
      "metadata": {
        "id": "bGbwPZT7Lc2e"
      },
      "source": [
        "class Perished(Inventory):    # Perished Child inherites attributes, methods, variables from Parent Class \n",
        "        category = 'Perished  Items'    # Add new Class variable that applies globally to all the objects creted\n",
        "            \n",
        "        def __init__(self,itemCode,itemDescription,itemPrice,itemMargin,itemVolume, itemBrand,itemExpiry,itemLocation) :   # parameters used in objects\n",
        "            self.expiry = itemExpiry            # new attributes added \n",
        "            self.location = itemLocation\n",
        "            Inventory.__init__(self,itemCode,itemDescription,itemPrice,itemMargin) # inherited and reused from Parent and no need to repeat the code\n",
        "\n",
        "        def display(self):    # create methods\n",
        "            print('Perished items are', self.code,self.desc,self.expiry,self.location) \n",
        "            self.sellingPrice()    #  using the same function  from Parent class\n",
        "\n",
        "        def exp(self,discount):    # added new method to child class\n",
        "            print(' Watch out ${}'.format(round(self.price*self.margin*(1-discount),2))) "
      ],
      "id": "bGbwPZT7Lc2e",
      "execution_count": 77,
      "outputs": []
    },
    {
      "cell_type": "markdown",
      "metadata": {
        "id": "jNIA5eQ1x5DU"
      },
      "source": [
        "##### Step 3 : Invoke Object class , interogate the Objects attributes , retreive the information from Parent Inventory Class"
      ],
      "id": "jNIA5eQ1x5DU"
    },
    {
      "cell_type": "code",
      "metadata": {
        "colab": {
          "base_uri": "https://localhost:8080/"
        },
        "id": "331d78a9",
        "outputId": "57c6fa49-7397-4ba3-f59d-4c5e416aac1d"
      },
      "source": [
        "\n",
        "TutCV1 = Inventory(350,'Biscuits',.80,1.1)\n",
        "TutCV1.sellingPrice()\n",
        "TutCV1.discountPrice(.15)"
      ],
      "id": "331d78a9",
      "execution_count": 78,
      "outputs": [
        {
          "output_type": "stream",
          "text": [
            "Cost of the Item = $ 0.88\n",
            "Cost of the Item Biscuits is $ 0.75\n"
          ],
          "name": "stdout"
        }
      ]
    },
    {
      "cell_type": "markdown",
      "metadata": {
        "id": "bvKz0xEPlNHG"
      },
      "source": [
        "##### Step 4 :  Call methods and print return informtion of object instance  from Child  NewInvetory Class "
      ],
      "id": "bvKz0xEPlNHG"
    },
    {
      "cell_type": "code",
      "metadata": {
        "colab": {
          "base_uri": "https://localhost:8080/"
        },
        "id": "74a01954",
        "outputId": "838e4b70-9531-487d-ffd3-b6ccb1a592ba"
      },
      "source": [
        "TutCV2 = NewStock(350,'Biscuits',.80,1.1,'300 items','NewLife')\n",
        "\n",
        "print(\"Inventory Items are : \", TutCV2.code,TutCV2.desc,TutCV2.price,TutCV2.margin,TutCV2.brand, '\\n')\n",
        "\n",
        "#print(TutCV1,'\\n')   # prints object name and address of the memory location\n",
        "#print(dir(TutCV1), '\\n')\n",
        "#print('In the {} category of {} we have ${}'.format(TutC1.code,TutC1.desc,TutC1.price,TutC1.margin))"
      ],
      "id": "74a01954",
      "execution_count": 79,
      "outputs": [
        {
          "output_type": "stream",
          "text": [
            "Inventory Items are :  350 Biscuits 0.8 1.1 NewLife \n",
            "\n"
          ],
          "name": "stdout"
        }
      ]
    },
    {
      "cell_type": "markdown",
      "metadata": {
        "id": "r400NHr_aFo1"
      },
      "source": [
        "Step 5 : Call methods and print return informtion of object instance from Child Perished Class"
      ],
      "id": "r400NHr_aFo1"
    },
    {
      "cell_type": "code",
      "metadata": {
        "colab": {
          "base_uri": "https://localhost:8080/"
        },
        "id": "ZR7-CsZbaM65",
        "outputId": "f4f5207b-d06b-4d98-d151-c481746a155e"
      },
      "source": [
        "TutCV3 = Perished(350,'Biscuits',.80,1.1,'300 items','NewLife','xyx','mns')\n",
        "\n",
        "TutCV3.display()\n",
        "print()\n",
        "TutCV3.exp(.1)\n",
        "print()\n",
        "TutCV1.sellingPrice()\n",
        "print()\n"
      ],
      "id": "ZR7-CsZbaM65",
      "execution_count": 80,
      "outputs": [
        {
          "output_type": "stream",
          "text": [
            "Perished items are 350 Biscuits xyx mns\n",
            "Cost of the Item = $ 0.88\n",
            "\n",
            " Watch out $0.79\n",
            "\n",
            "Cost of the Item = $ 0.88\n",
            "\n"
          ],
          "name": "stdout"
        }
      ]
    },
    {
      "cell_type": "code",
      "metadata": {
        "id": "GiLx70RebR3S"
      },
      "source": [
        ""
      ],
      "id": "GiLx70RebR3S",
      "execution_count": null,
      "outputs": []
    }
  ]
}