{
  "nbformat": 4,
  "nbformat_minor": 5,
  "metadata": {
    "_draft": {
      "nbviewer_url": "https://gist.github.com/3f282734ad78d380733011ef845236bd"
    },
    "gist": {
      "data": {
        "description": "IntorductionToPythonClasses-P1",
        "public": true
      },
      "id": "3f282734ad78d380733011ef845236bd"
    },
    "kernelspec": {
      "display_name": "Python 3",
      "language": "python",
      "name": "python3"
    },
    "language_info": {
      "codemirror_mode": {
        "name": "ipython",
        "version": 3
      },
      "file_extension": ".py",
      "mimetype": "text/x-python",
      "name": "python",
      "nbconvert_exporter": "python",
      "pygments_lexer": "ipython3",
      "version": "3.8.8"
    },
    "varInspector": {
      "cols": {
        "lenName": 16,
        "lenType": 16,
        "lenVar": 40
      },
      "kernels_config": {
        "python": {
          "delete_cmd_postfix": "",
          "delete_cmd_prefix": "del ",
          "library": "var_list.py",
          "varRefreshCmd": "print(var_dic_list())"
        },
        "r": {
          "delete_cmd_postfix": ") ",
          "delete_cmd_prefix": "rm(",
          "library": "var_list.r",
          "varRefreshCmd": "cat(var_dic_list()) "
        }
      },
      "types_to_exclude": [
        "module",
        "function",
        "builtin_function_or_method",
        "instance",
        "_Feature"
      ],
      "window_display": false
    },
    "colab": {
      "name": "OOP-Python-Class-Methods-C2.ipynb",
      "provenance": [],
      "collapsed_sections": [],
      "include_colab_link": true
    }
  },
  "cells": [
    {
      "cell_type": "markdown",
      "metadata": {
        "id": "view-in-github",
        "colab_type": "text"
      },
      "source": [
        "<a href=\"https://colab.research.google.com/github/umas-iit/Python-Examples/blob/gh-pages/OOP_Python_Class_Methods_C2.ipynb\" target=\"_parent\"><img src=\"https://colab.research.google.com/assets/colab-badge.svg\" alt=\"Open In Colab\"/></a>"
      ]
    },
    {
      "cell_type": "code",
      "metadata": {
        "code_folding": [],
        "colab": {
          "base_uri": "https://localhost:8080/",
          "height": 71
        },
        "id": "f02d6632",
        "outputId": "9d1b3c9d-5131-4b2f-a134-321f490927bf"
      },
      "source": [
        "## Introduction to Python Classes\n",
        "'''\n",
        "Overview :\n",
        "    - What is OOP? What are the diffreence between OOP and Proceudral langauages?\n",
        "    - What are Objects and Classes?\n",
        "    - Class Components - Variables, Methods, Attributes and __init__and self\n",
        "    - Creation of Objects and Classes - Interrogate Object Classes\n",
        "    - Creation of Methods - Invoke methods from Classes to return objects information\n",
        "'''"
      ],
      "id": "f02d6632",
      "execution_count": 1,
      "outputs": [
        {
          "output_type": "execute_result",
          "data": {
            "application/vnd.google.colaboratory.intrinsic+json": {
              "type": "string"
            },
            "text/plain": [
              "'\\nOverview :\\n    - What is OOP? What are the diffreence between OOP and Proceudral langauages?\\n    - What are Objects and Classes?\\n    - Class Components - Variables, Methods, Attributes and __init__and self\\n    - Creation of Objects and Classes - Interrogate Object Classes\\n    - Creation of Methods - Invoke methods from Classes to return objects information\\n'"
            ]
          },
          "metadata": {
            "tags": []
          },
          "execution_count": 1
        }
      ]
    },
    {
      "cell_type": "code",
      "metadata": {
        "id": "49073af6"
      },
      "source": [
        "## Object Programming\n",
        "#### - Uses conscpt of OOP \n",
        "#### - Classes that acts a Blue Print for Objects\n",
        "####   - Uses variables, attributes and methods to apply on Objects \n",
        "#### - Creates resusable , easy to use code\n",
        "#### - Created an Instance of Objects from a Class"
      ],
      "id": "49073af6",
      "execution_count": 2,
      "outputs": []
    },
    {
      "cell_type": "code",
      "metadata": {
        "colab": {
          "base_uri": "https://localhost:8080/",
          "height": 37
        },
        "id": "d13504e6",
        "outputId": "97d98985-ae8f-4eed-8771-54fddb6a0355"
      },
      "source": [
        "## Procudureal languages\n",
        "'''\n",
        "- Linear and repretivite \n",
        "- Uses functions and coding to solve problems\n",
        "'''\n"
      ],
      "id": "d13504e6",
      "execution_count": 3,
      "outputs": [
        {
          "output_type": "execute_result",
          "data": {
            "application/vnd.google.colaboratory.intrinsic+json": {
              "type": "string"
            },
            "text/plain": [
              "'\\n- Linear and repretivite \\n- Uses functions and coding to solve problems\\n'"
            ]
          },
          "metadata": {
            "tags": []
          },
          "execution_count": 3
        }
      ]
    },
    {
      "cell_type": "code",
      "metadata": {
        "id": "6b6a6030"
      },
      "source": [
        "### Let us create a genesis of Inventory management process, create templates for items shopping\n",
        "##### Step 1: Define Class,  Class variables, initiate Object, define Attributes, define methods\n",
        "\n",
        "class Inventory:\n",
        "        category = 'Shopping Items'    # Add Class variable that applies globally to all the objects creted\n",
        "            \n",
        "        def __init__(self,itemCode,itemDescription,itemPrice,itemMargin) :   # parameters used in objects, self referes to object\n",
        "            \n",
        "            self.code= itemCode            # common for all objects. Object Attributes craeted by parameters\n",
        "            self.desc = itemDescription\n",
        "            self.price = itemPrice\n",
        "            self.margin = itemMargin\n",
        "            \n",
        "        def sellingPrice(self):    # create methods\n",
        "            print('Cost of the Item = $', round(self.price* self.margin,2))\n",
        "            \n",
        "        def discountPrice(self,discount):\n",
        "            print('Cost of the Item {} is $'.format(self.desc), round(self.price*self.margin*(1-discount),2))"
      ],
      "id": "6b6a6030",
      "execution_count": 4,
      "outputs": []
    },
    {
      "cell_type": "code",
      "metadata": {
        "colab": {
          "base_uri": "https://localhost:8080/"
        },
        "id": "74a01954",
        "outputId": "f750ee1c-88d2-4206-8ffa-c1e2f3422283"
      },
      "source": [
        "\n",
        "#### Step 2:  Crate an instance of an Object Inventory and pass parameters as arguments, print its attributes\n",
        "\n",
        "TutCV1 = Inventory(350,'Biscuits',.80,1.1)\n",
        "\n",
        "print(\"Inventory Items are : \", TutCV1.code,TutCV1.desc,TutCV1.price,TutCV1.margin,'\\n')\n",
        "#print(TutCV1,'\\n')   # prints object name and address of the memory location\n",
        "#print(dir(TutCV1), '\\n')\n",
        "\n",
        "#print('In the {} category of {} we have ${}'.format(TutC1.code,TutC1.desc,TutC1.price,TutC1.margin))\n",
        "\n"
      ],
      "id": "74a01954",
      "execution_count": 5,
      "outputs": [
        {
          "output_type": "stream",
          "text": [
            "Inventory Items are :  350 Biscuits 0.8 1.1 \n",
            "\n"
          ],
          "name": "stdout"
        }
      ]
    },
    {
      "cell_type": "code",
      "metadata": {
        "colab": {
          "base_uri": "https://localhost:8080/"
        },
        "id": "331d78a9",
        "outputId": "6a9c983f-7dee-4b38-af4f-60bce691d5e2"
      },
      "source": [
        "#### Step 3 :  call methods and print return informtion from objects\n",
        "TutCV1.sellingPrice()\n",
        "TutCV1.discountPrice(.15)\n",
        "\n"
      ],
      "id": "331d78a9",
      "execution_count": 6,
      "outputs": [
        {
          "output_type": "stream",
          "text": [
            "Cost of the Item = $ 0.88\n",
            "Cost of the Item Biscuits is $ 0.75\n"
          ],
          "name": "stdout"
        }
      ]
    },
    {
      "cell_type": "code",
      "metadata": {
        "code_folding": [],
        "id": "3f81e803"
      },
      "source": [
        ""
      ],
      "id": "3f81e803",
      "execution_count": null,
      "outputs": []
    },
    {
      "cell_type": "markdown",
      "metadata": {
        "id": "zF365DOWl__t"
      },
      "source": [
        "Summary of Learning:\n",
        " * Learnt how Classes are defined and fitted in OOP context\n",
        " * Explained Classes, objects , attributes, methods and init concepts\n",
        " * Created an Instnace of an Object using the Class\n",
        " * Used Objects to return its attributes\n",
        " * Created methods with parametrs and wihtout parametrs to  retrieved objects attributes \n"
      ],
      "id": "zF365DOWl__t"
    },
    {
      "cell_type": "code",
      "metadata": {
        "id": "5c8c54d4"
      },
      "source": [
        ""
      ],
      "id": "5c8c54d4",
      "execution_count": null,
      "outputs": []
    },
    {
      "cell_type": "code",
      "metadata": {
        "id": "4fcf14df"
      },
      "source": [
        ""
      ],
      "id": "4fcf14df",
      "execution_count": null,
      "outputs": []
    }
  ]
}