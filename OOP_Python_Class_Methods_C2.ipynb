{
  "nbformat": 4,
  "nbformat_minor": 5,
  "metadata": {
    "_draft": {
      "nbviewer_url": "https://gist.github.com/3f282734ad78d380733011ef845236bd"
    },
    "gist": {
      "data": {
        "description": "IntorductionToPythonClasses-P1",
        "public": true
      },
      "id": "3f282734ad78d380733011ef845236bd"
    },
    "kernelspec": {
      "display_name": "Python 3",
      "language": "python",
      "name": "python3"
    },
    "language_info": {
      "codemirror_mode": {
        "name": "ipython",
        "version": 3
      },
      "file_extension": ".py",
      "mimetype": "text/x-python",
      "name": "python",
      "nbconvert_exporter": "python",
      "pygments_lexer": "ipython3",
      "version": "3.8.8"
    },
    "varInspector": {
      "cols": {
        "lenName": 16,
        "lenType": 16,
        "lenVar": 40
      },
      "kernels_config": {
        "python": {
          "delete_cmd_postfix": "",
          "delete_cmd_prefix": "del ",
          "library": "var_list.py",
          "varRefreshCmd": "print(var_dic_list())"
        },
        "r": {
          "delete_cmd_postfix": ") ",
          "delete_cmd_prefix": "rm(",
          "library": "var_list.r",
          "varRefreshCmd": "cat(var_dic_list()) "
        }
      },
      "types_to_exclude": [
        "module",
        "function",
        "builtin_function_or_method",
        "instance",
        "_Feature"
      ],
      "window_display": false
    },
    "colab": {
      "name": "OOP-Python-Class-Methods-C2.ipynb",
      "provenance": [],
      "collapsed_sections": [],
      "include_colab_link": true
    }
  },
  "cells": [
    {
      "cell_type": "markdown",
      "metadata": {
        "id": "view-in-github",
        "colab_type": "text"
      },
      "source": [
        "<a href=\"https://colab.research.google.com/github/umas-iit/Python-Examples/blob/gh-pages/OOP_Python_Class_Methods_C2.ipynb\" target=\"_parent\"><img src=\"https://colab.research.google.com/assets/colab-badge.svg\" alt=\"Open In Colab\"/></a>"
      ]
    },
    {
      "cell_type": "markdown",
      "metadata": {
        "id": "XygPVmHGkw9k"
      },
      "source": [
        "### Create a genesis of Inventory management process, create templates for items shopping\n",
        "##### Step 1: Define Class,  Class variables, initiate Object, define Attributes, define methods"
      ],
      "id": "XygPVmHGkw9k"
    },
    {
      "cell_type": "code",
      "metadata": {
        "id": "6b6a6030"
      },
      "source": [
        "\n",
        "\n",
        "class Inventory:\n",
        "        category = 'Shopping Items'    # Add Class variable that applies globally to all the objects creted\n",
        "            \n",
        "        def __init__(self,itemCode,itemDescription,itemPrice,itemMargin) :   # parameters used in objects, self referes to object\n",
        "            \n",
        "            self.code= itemCode            # common for all objects. Object Attributes craeted by parameters\n",
        "            self.desc = itemDescription\n",
        "            self.price = itemPrice\n",
        "            self.margin = itemMargin\n",
        "            \n",
        "        def sellingPrice(self):    # create methods\n",
        "            print('Cost of the Item = $', round(self.price* self.margin,2))\n",
        "            \n",
        "        def discountPrice(self,discount):\n",
        "            print('Cost of the Item {} is $'.format(self.desc), round(self.price*self.margin*(1-discount),2))"
      ],
      "id": "6b6a6030",
      "execution_count": 1,
      "outputs": []
    },
    {
      "cell_type": "markdown",
      "metadata": {
        "id": "rlHkxNAJlCbX"
      },
      "source": [
        "##### Step 2:  Crate an instance of an Object Inventory and pass parameters as arguments, print its attributes"
      ],
      "id": "rlHkxNAJlCbX"
    },
    {
      "cell_type": "code",
      "metadata": {
        "colab": {
          "base_uri": "https://localhost:8080/"
        },
        "id": "74a01954",
        "outputId": "3e845900-3376-4548-f1f5-1750ce9e0c57"
      },
      "source": [
        "\n",
        "\n",
        "TutCV1 = Inventory(350,'Biscuits',.80,1.1)\n",
        "\n",
        "print(\"Inventory Items are : \", TutCV1.code,TutCV1.desc,TutCV1.price,TutCV1.margin,'\\n')\n",
        "#print(TutCV1,'\\n')   # prints object name and address of the memory location\n",
        "#print(dir(TutCV1), '\\n')\n",
        "#print('In the {} category of {} we have ${}'.format(TutC1.code,TutC1.desc,TutC1.price,TutC1.margin))"
      ],
      "id": "74a01954",
      "execution_count": 2,
      "outputs": [
        {
          "output_type": "stream",
          "text": [
            "Inventory Items are :  350 Biscuits 0.8 1.1 \n",
            "\n"
          ],
          "name": "stdout"
        }
      ]
    },
    {
      "cell_type": "markdown",
      "metadata": {
        "id": "bvKz0xEPlNHG"
      },
      "source": [
        "##### Step 3 :  call methods and print return informtion from objects"
      ],
      "id": "bvKz0xEPlNHG"
    },
    {
      "cell_type": "code",
      "metadata": {
        "colab": {
          "base_uri": "https://localhost:8080/"
        },
        "id": "331d78a9",
        "outputId": "573ffd32-1ae0-4119-f74e-c100382d32ae"
      },
      "source": [
        "\n",
        "TutCV1.sellingPrice()\n",
        "TutCV1.discountPrice(.15)"
      ],
      "id": "331d78a9",
      "execution_count": 3,
      "outputs": [
        {
          "output_type": "stream",
          "text": [
            "Cost of the Item = $ 0.88\n",
            "Cost of the Item Biscuits is $ 0.75\n"
          ],
          "name": "stdout"
        }
      ]
    }
  ]
}